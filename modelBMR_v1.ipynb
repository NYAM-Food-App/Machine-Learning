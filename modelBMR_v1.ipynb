{
 "cells": [
  {
   "cell_type": "markdown",
   "metadata": {},
   "source": [
    "# Multi-Class Prediction"
   ]
  },
  {
   "cell_type": "markdown",
   "metadata": {},
   "source": [
    "## Import the Libraries"
   ]
  },
  {
   "cell_type": "code",
   "execution_count": 1,
   "metadata": {},
   "outputs": [],
   "source": [
    "from sklearn.preprocessing import MinMaxScaler\n",
    "from sklearn.compose import ColumnTransformer\n",
    "import seaborn as sns\n",
    "import pandas as pd\n",
    "import tensorflow as tf\n",
    "import matplotlib.pyplot as plt"
   ]
  },
  {
   "cell_type": "markdown",
   "metadata": {},
   "source": [
    "## Gathering Data"
   ]
  },
  {
   "cell_type": "markdown",
   "metadata": {},
   "source": [
    "*Load the train data table*"
   ]
  },
  {
   "cell_type": "code",
   "execution_count": 2,
   "metadata": {},
   "outputs": [
    {
     "data": {
      "text/html": [
       "<div>\n",
       "<style scoped>\n",
       "    .dataframe tbody tr th:only-of-type {\n",
       "        vertical-align: middle;\n",
       "    }\n",
       "\n",
       "    .dataframe tbody tr th {\n",
       "        vertical-align: top;\n",
       "    }\n",
       "\n",
       "    .dataframe thead th {\n",
       "        text-align: right;\n",
       "    }\n",
       "</style>\n",
       "<table border=\"1\" class=\"dataframe\">\n",
       "  <thead>\n",
       "    <tr style=\"text-align: right;\">\n",
       "      <th></th>\n",
       "      <th>Gender</th>\n",
       "      <th>Height</th>\n",
       "      <th>Weight</th>\n",
       "      <th>Index</th>\n",
       "    </tr>\n",
       "  </thead>\n",
       "  <tbody>\n",
       "    <tr>\n",
       "      <th>0</th>\n",
       "      <td>Male</td>\n",
       "      <td>161</td>\n",
       "      <td>89</td>\n",
       "      <td>4</td>\n",
       "    </tr>\n",
       "    <tr>\n",
       "      <th>1</th>\n",
       "      <td>Male</td>\n",
       "      <td>179</td>\n",
       "      <td>127</td>\n",
       "      <td>4</td>\n",
       "    </tr>\n",
       "    <tr>\n",
       "      <th>2</th>\n",
       "      <td>Male</td>\n",
       "      <td>172</td>\n",
       "      <td>139</td>\n",
       "      <td>5</td>\n",
       "    </tr>\n",
       "    <tr>\n",
       "      <th>3</th>\n",
       "      <td>Male</td>\n",
       "      <td>153</td>\n",
       "      <td>104</td>\n",
       "      <td>5</td>\n",
       "    </tr>\n",
       "    <tr>\n",
       "      <th>4</th>\n",
       "      <td>Male</td>\n",
       "      <td>165</td>\n",
       "      <td>68</td>\n",
       "      <td>2</td>\n",
       "    </tr>\n",
       "  </tbody>\n",
       "</table>\n",
       "</div>"
      ],
      "text/plain": [
       "  Gender  Height  Weight  Index\n",
       "0   Male     161      89      4\n",
       "1   Male     179     127      4\n",
       "2   Male     172     139      5\n",
       "3   Male     153     104      5\n",
       "4   Male     165      68      2"
      ]
     },
     "execution_count": 2,
     "metadata": {},
     "output_type": "execute_result"
    }
   ],
   "source": [
    "TRAIN_DT = pd.read_csv('csv/bmi_train.csv')\n",
    "TRAIN_DT.head()"
   ]
  },
  {
   "cell_type": "markdown",
   "metadata": {},
   "source": [
    "*Load the validation data table*"
   ]
  },
  {
   "cell_type": "code",
   "execution_count": 3,
   "metadata": {},
   "outputs": [
    {
     "data": {
      "text/html": [
       "<div>\n",
       "<style scoped>\n",
       "    .dataframe tbody tr th:only-of-type {\n",
       "        vertical-align: middle;\n",
       "    }\n",
       "\n",
       "    .dataframe tbody tr th {\n",
       "        vertical-align: top;\n",
       "    }\n",
       "\n",
       "    .dataframe thead th {\n",
       "        text-align: right;\n",
       "    }\n",
       "</style>\n",
       "<table border=\"1\" class=\"dataframe\">\n",
       "  <thead>\n",
       "    <tr style=\"text-align: right;\">\n",
       "      <th></th>\n",
       "      <th>Gender</th>\n",
       "      <th>Height</th>\n",
       "      <th>Weight</th>\n",
       "    </tr>\n",
       "  </thead>\n",
       "  <tbody>\n",
       "    <tr>\n",
       "      <th>0</th>\n",
       "      <td>Male</td>\n",
       "      <td>161</td>\n",
       "      <td>103</td>\n",
       "    </tr>\n",
       "    <tr>\n",
       "      <th>1</th>\n",
       "      <td>Male</td>\n",
       "      <td>180</td>\n",
       "      <td>75</td>\n",
       "    </tr>\n",
       "    <tr>\n",
       "      <th>2</th>\n",
       "      <td>Male</td>\n",
       "      <td>174</td>\n",
       "      <td>95</td>\n",
       "    </tr>\n",
       "    <tr>\n",
       "      <th>3</th>\n",
       "      <td>Female</td>\n",
       "      <td>179</td>\n",
       "      <td>103</td>\n",
       "    </tr>\n",
       "    <tr>\n",
       "      <th>4</th>\n",
       "      <td>Female</td>\n",
       "      <td>192</td>\n",
       "      <td>140</td>\n",
       "    </tr>\n",
       "  </tbody>\n",
       "</table>\n",
       "</div>"
      ],
      "text/plain": [
       "   Gender  Height  Weight\n",
       "0    Male     161     103\n",
       "1    Male     180      75\n",
       "2    Male     174      95\n",
       "3  Female     179     103\n",
       "4  Female     192     140"
      ]
     },
     "execution_count": 3,
     "metadata": {},
     "output_type": "execute_result"
    }
   ],
   "source": [
    "VALIDATION_DT = pd.read_csv('csv/bmi_validation.csv')\n",
    "VALIDATION_DT.head()"
   ]
  },
  {
   "cell_type": "markdown",
   "metadata": {},
   "source": [
    "## Assessing Data"
   ]
  },
  {
   "cell_type": "code",
   "execution_count": 4,
   "metadata": {},
   "outputs": [
    {
     "name": "stdout",
     "output_type": "stream",
     "text": [
      "<class 'pandas.core.frame.DataFrame'>\n",
      "RangeIndex: 400 entries, 0 to 399\n",
      "Data columns (total 4 columns):\n",
      " #   Column  Non-Null Count  Dtype \n",
      "---  ------  --------------  ----- \n",
      " 0   Gender  400 non-null    object\n",
      " 1   Height  400 non-null    int64 \n",
      " 2   Weight  400 non-null    int64 \n",
      " 3   Index   400 non-null    int64 \n",
      "dtypes: int64(3), object(1)\n",
      "memory usage: 12.6+ KB\n"
     ]
    }
   ],
   "source": [
    "TRAIN_DT.info()"
   ]
  },
  {
   "cell_type": "code",
   "execution_count": 5,
   "metadata": {},
   "outputs": [
    {
     "name": "stdout",
     "output_type": "stream",
     "text": [
      "<class 'pandas.core.frame.DataFrame'>\n",
      "RangeIndex: 100 entries, 0 to 99\n",
      "Data columns (total 3 columns):\n",
      " #   Column  Non-Null Count  Dtype \n",
      "---  ------  --------------  ----- \n",
      " 0   Gender  100 non-null    object\n",
      " 1   Height  100 non-null    int64 \n",
      " 2   Weight  100 non-null    int64 \n",
      "dtypes: int64(2), object(1)\n",
      "memory usage: 2.5+ KB\n"
     ]
    }
   ],
   "source": [
    "VALIDATION_DT.info()"
   ]
  },
  {
   "cell_type": "markdown",
   "metadata": {},
   "source": [
    "*Looking for empty or null data/cell in dataset*"
   ]
  },
  {
   "cell_type": "code",
   "execution_count": 6,
   "metadata": {},
   "outputs": [
    {
     "data": {
      "text/plain": [
       "Gender    0\n",
       "Height    0\n",
       "Weight    0\n",
       "Index     0\n",
       "dtype: int64"
      ]
     },
     "execution_count": 6,
     "metadata": {},
     "output_type": "execute_result"
    }
   ],
   "source": [
    "TRAIN_DT.isna().sum()"
   ]
  },
  {
   "cell_type": "code",
   "execution_count": 7,
   "metadata": {},
   "outputs": [
    {
     "data": {
      "text/plain": [
       "Gender    0\n",
       "Height    0\n",
       "Weight    0\n",
       "dtype: int64"
      ]
     },
     "execution_count": 7,
     "metadata": {},
     "output_type": "execute_result"
    }
   ],
   "source": [
    "VALIDATION_DT.isna().sum()"
   ]
  },
  {
   "cell_type": "markdown",
   "metadata": {},
   "source": [
    "*Looking for duplicated data in dataset*"
   ]
  },
  {
   "cell_type": "code",
   "execution_count": 8,
   "metadata": {},
   "outputs": [
    {
     "data": {
      "text/plain": [
       "8"
      ]
     },
     "execution_count": 8,
     "metadata": {},
     "output_type": "execute_result"
    }
   ],
   "source": [
    "TRAIN_DT.duplicated().sum()"
   ]
  },
  {
   "cell_type": "code",
   "execution_count": 9,
   "metadata": {},
   "outputs": [
    {
     "data": {
      "text/plain": [
       "0"
      ]
     },
     "execution_count": 9,
     "metadata": {},
     "output_type": "execute_result"
    }
   ],
   "source": [
    "VALIDATION_DT.duplicated().sum()"
   ]
  },
  {
   "cell_type": "markdown",
   "metadata": {},
   "source": [
    "## Cleaning and Splitting the Data"
   ]
  },
  {
   "cell_type": "markdown",
   "metadata": {},
   "source": [
    "*Making copy of datasets and drop all the duplicates data in train dataset*"
   ]
  },
  {
   "cell_type": "code",
   "execution_count": 10,
   "metadata": {},
   "outputs": [],
   "source": [
    "train_dt_c = TRAIN_DT.copy()\n",
    "train_dt_c.drop_duplicates(inplace=True)\n",
    "\n",
    "valid_dt_c = VALIDATION_DT.copy()"
   ]
  },
  {
   "cell_type": "markdown",
   "metadata": {},
   "source": [
    "*Using map function to encoding the gender feature with numerical type, 0 for male and 1 for female*"
   ]
  },
  {
   "cell_type": "code",
   "execution_count": 11,
   "metadata": {},
   "outputs": [],
   "source": [
    "train_dt_c['Gender'] = train_dt_c['Gender'].map({'Male': 0, 'Female': 1})\n",
    "valid_dt_c['Gender'] = valid_dt_c['Gender'].map({'Male': 0, 'Female': 1})"
   ]
  },
  {
   "cell_type": "markdown",
   "metadata": {},
   "source": [
    "*Separate the features and label for train dataset*"
   ]
  },
  {
   "cell_type": "code",
   "execution_count": 12,
   "metadata": {},
   "outputs": [],
   "source": [
    "x_train = train_dt_c.drop('Index', axis=1)\n",
    "y_train = train_dt_c['Index']"
   ]
  },
  {
   "cell_type": "code",
   "execution_count": 13,
   "metadata": {},
   "outputs": [
    {
     "data": {
      "text/html": [
       "<div>\n",
       "<style scoped>\n",
       "    .dataframe tbody tr th:only-of-type {\n",
       "        vertical-align: middle;\n",
       "    }\n",
       "\n",
       "    .dataframe tbody tr th {\n",
       "        vertical-align: top;\n",
       "    }\n",
       "\n",
       "    .dataframe thead th {\n",
       "        text-align: right;\n",
       "    }\n",
       "</style>\n",
       "<table border=\"1\" class=\"dataframe\">\n",
       "  <thead>\n",
       "    <tr style=\"text-align: right;\">\n",
       "      <th></th>\n",
       "      <th>Gender</th>\n",
       "      <th>Height</th>\n",
       "      <th>Weight</th>\n",
       "    </tr>\n",
       "  </thead>\n",
       "  <tbody>\n",
       "    <tr>\n",
       "      <th>0</th>\n",
       "      <td>0</td>\n",
       "      <td>161</td>\n",
       "      <td>89</td>\n",
       "    </tr>\n",
       "    <tr>\n",
       "      <th>1</th>\n",
       "      <td>0</td>\n",
       "      <td>179</td>\n",
       "      <td>127</td>\n",
       "    </tr>\n",
       "    <tr>\n",
       "      <th>2</th>\n",
       "      <td>0</td>\n",
       "      <td>172</td>\n",
       "      <td>139</td>\n",
       "    </tr>\n",
       "    <tr>\n",
       "      <th>3</th>\n",
       "      <td>0</td>\n",
       "      <td>153</td>\n",
       "      <td>104</td>\n",
       "    </tr>\n",
       "    <tr>\n",
       "      <th>4</th>\n",
       "      <td>0</td>\n",
       "      <td>165</td>\n",
       "      <td>68</td>\n",
       "    </tr>\n",
       "  </tbody>\n",
       "</table>\n",
       "</div>"
      ],
      "text/plain": [
       "   Gender  Height  Weight\n",
       "0       0     161      89\n",
       "1       0     179     127\n",
       "2       0     172     139\n",
       "3       0     153     104\n",
       "4       0     165      68"
      ]
     },
     "execution_count": 13,
     "metadata": {},
     "output_type": "execute_result"
    }
   ],
   "source": [
    "x_train.head()"
   ]
  },
  {
   "cell_type": "code",
   "execution_count": 14,
   "metadata": {},
   "outputs": [
    {
     "data": {
      "text/plain": [
       "0    4\n",
       "1    4\n",
       "2    5\n",
       "3    5\n",
       "4    2\n",
       "Name: Index, dtype: int64"
      ]
     },
     "execution_count": 14,
     "metadata": {},
     "output_type": "execute_result"
    }
   ],
   "source": [
    "y_train.head()"
   ]
  },
  {
   "cell_type": "markdown",
   "metadata": {},
   "source": [
    "## Exploring the data"
   ]
  },
  {
   "cell_type": "code",
   "execution_count": 15,
   "metadata": {},
   "outputs": [
    {
     "data": {
      "text/html": [
       "<div>\n",
       "<style scoped>\n",
       "    .dataframe tbody tr th:only-of-type {\n",
       "        vertical-align: middle;\n",
       "    }\n",
       "\n",
       "    .dataframe tbody tr th {\n",
       "        vertical-align: top;\n",
       "    }\n",
       "\n",
       "    .dataframe thead th {\n",
       "        text-align: right;\n",
       "    }\n",
       "</style>\n",
       "<table border=\"1\" class=\"dataframe\">\n",
       "  <thead>\n",
       "    <tr style=\"text-align: right;\">\n",
       "      <th></th>\n",
       "      <th>Gender</th>\n",
       "      <th>Height</th>\n",
       "      <th>Weight</th>\n",
       "    </tr>\n",
       "  </thead>\n",
       "  <tbody>\n",
       "    <tr>\n",
       "      <th>count</th>\n",
       "      <td>392.000000</td>\n",
       "      <td>392.000000</td>\n",
       "      <td>392.000000</td>\n",
       "    </tr>\n",
       "    <tr>\n",
       "      <th>mean</th>\n",
       "      <td>0.497449</td>\n",
       "      <td>170.339286</td>\n",
       "      <td>106.224490</td>\n",
       "    </tr>\n",
       "    <tr>\n",
       "      <th>std</th>\n",
       "      <td>0.500632</td>\n",
       "      <td>16.615701</td>\n",
       "      <td>32.510012</td>\n",
       "    </tr>\n",
       "    <tr>\n",
       "      <th>min</th>\n",
       "      <td>0.000000</td>\n",
       "      <td>140.000000</td>\n",
       "      <td>50.000000</td>\n",
       "    </tr>\n",
       "    <tr>\n",
       "      <th>25%</th>\n",
       "      <td>0.000000</td>\n",
       "      <td>156.000000</td>\n",
       "      <td>80.000000</td>\n",
       "    </tr>\n",
       "    <tr>\n",
       "      <th>50%</th>\n",
       "      <td>0.000000</td>\n",
       "      <td>171.000000</td>\n",
       "      <td>107.000000</td>\n",
       "    </tr>\n",
       "    <tr>\n",
       "      <th>75%</th>\n",
       "      <td>1.000000</td>\n",
       "      <td>184.000000</td>\n",
       "      <td>137.000000</td>\n",
       "    </tr>\n",
       "    <tr>\n",
       "      <th>max</th>\n",
       "      <td>1.000000</td>\n",
       "      <td>199.000000</td>\n",
       "      <td>160.000000</td>\n",
       "    </tr>\n",
       "  </tbody>\n",
       "</table>\n",
       "</div>"
      ],
      "text/plain": [
       "           Gender      Height      Weight\n",
       "count  392.000000  392.000000  392.000000\n",
       "mean     0.497449  170.339286  106.224490\n",
       "std      0.500632   16.615701   32.510012\n",
       "min      0.000000  140.000000   50.000000\n",
       "25%      0.000000  156.000000   80.000000\n",
       "50%      0.000000  171.000000  107.000000\n",
       "75%      1.000000  184.000000  137.000000\n",
       "max      1.000000  199.000000  160.000000"
      ]
     },
     "execution_count": 15,
     "metadata": {},
     "output_type": "execute_result"
    }
   ],
   "source": [
    "x_train.describe(include=\"all\")"
   ]
  },
  {
   "cell_type": "code",
   "execution_count": 16,
   "metadata": {},
   "outputs": [
    {
     "data": {
      "text/plain": [
       "count    392.000000\n",
       "mean       3.737245\n",
       "std        1.379366\n",
       "min        0.000000\n",
       "25%        3.000000\n",
       "50%        4.000000\n",
       "75%        5.000000\n",
       "max        5.000000\n",
       "Name: Index, dtype: float64"
      ]
     },
     "execution_count": 16,
     "metadata": {},
     "output_type": "execute_result"
    }
   ],
   "source": [
    "y_train.describe(include=\"all\")"
   ]
  },
  {
   "cell_type": "code",
   "execution_count": 17,
   "metadata": {},
   "outputs": [
    {
     "data": {
      "text/html": [
       "<div>\n",
       "<style scoped>\n",
       "    .dataframe tbody tr th:only-of-type {\n",
       "        vertical-align: middle;\n",
       "    }\n",
       "\n",
       "    .dataframe tbody tr th {\n",
       "        vertical-align: top;\n",
       "    }\n",
       "\n",
       "    .dataframe thead th {\n",
       "        text-align: right;\n",
       "    }\n",
       "</style>\n",
       "<table border=\"1\" class=\"dataframe\">\n",
       "  <thead>\n",
       "    <tr style=\"text-align: right;\">\n",
       "      <th></th>\n",
       "      <th>Gender</th>\n",
       "      <th>Height</th>\n",
       "      <th>Weight</th>\n",
       "    </tr>\n",
       "  </thead>\n",
       "  <tbody>\n",
       "    <tr>\n",
       "      <th>count</th>\n",
       "      <td>100.00</td>\n",
       "      <td>100.000000</td>\n",
       "      <td>100.000000</td>\n",
       "    </tr>\n",
       "    <tr>\n",
       "      <th>mean</th>\n",
       "      <td>0.55</td>\n",
       "      <td>168.270000</td>\n",
       "      <td>105.760000</td>\n",
       "    </tr>\n",
       "    <tr>\n",
       "      <th>std</th>\n",
       "      <td>0.50</td>\n",
       "      <td>15.521803</td>\n",
       "      <td>32.626172</td>\n",
       "    </tr>\n",
       "    <tr>\n",
       "      <th>min</th>\n",
       "      <td>0.00</td>\n",
       "      <td>141.000000</td>\n",
       "      <td>51.000000</td>\n",
       "    </tr>\n",
       "    <tr>\n",
       "      <th>25%</th>\n",
       "      <td>0.00</td>\n",
       "      <td>156.000000</td>\n",
       "      <td>76.500000</td>\n",
       "    </tr>\n",
       "    <tr>\n",
       "      <th>50%</th>\n",
       "      <td>1.00</td>\n",
       "      <td>168.000000</td>\n",
       "      <td>103.500000</td>\n",
       "    </tr>\n",
       "    <tr>\n",
       "      <th>75%</th>\n",
       "      <td>1.00</td>\n",
       "      <td>180.250000</td>\n",
       "      <td>135.250000</td>\n",
       "    </tr>\n",
       "    <tr>\n",
       "      <th>max</th>\n",
       "      <td>1.00</td>\n",
       "      <td>197.000000</td>\n",
       "      <td>160.000000</td>\n",
       "    </tr>\n",
       "  </tbody>\n",
       "</table>\n",
       "</div>"
      ],
      "text/plain": [
       "       Gender      Height      Weight\n",
       "count  100.00  100.000000  100.000000\n",
       "mean     0.55  168.270000  105.760000\n",
       "std      0.50   15.521803   32.626172\n",
       "min      0.00  141.000000   51.000000\n",
       "25%      0.00  156.000000   76.500000\n",
       "50%      1.00  168.000000  103.500000\n",
       "75%      1.00  180.250000  135.250000\n",
       "max      1.00  197.000000  160.000000"
      ]
     },
     "execution_count": 17,
     "metadata": {},
     "output_type": "execute_result"
    }
   ],
   "source": [
    "valid_dt_c.describe(include=\"all\")"
   ]
  },
  {
   "cell_type": "code",
   "execution_count": 18,
   "metadata": {},
   "outputs": [
    {
     "name": "stdout",
     "output_type": "stream",
     "text": [
      "The shape of X_train is: (392, 3)\n",
      "The shape of y_train is: (392,)\n",
      "We have m = 392 training examples\n",
      "\n",
      "The shape of validation dataset is: (100, 3)\n",
      "We have m = 100 validation examples\n"
     ]
    }
   ],
   "source": [
    "print ('The shape of X_train is: ' + str(x_train.shape))\n",
    "print ('The shape of y_train is: ' + str(y_train.shape))\n",
    "print ('We have m = %d training examples' % (len(y_train)))\n",
    "\n",
    "print ('\\nThe shape of validation dataset is: ' + str(valid_dt_c.shape))\n",
    "print ('We have m = %d validation examples' % (len(valid_dt_c)))"
   ]
  },
  {
   "cell_type": "markdown",
   "metadata": {},
   "source": [
    "## Visualize the Data"
   ]
  },
  {
   "cell_type": "code",
   "execution_count": 19,
   "metadata": {},
   "outputs": [
    {
     "data": {
      "image/png": "[encoded data removed]",
      "text/plain": [
       "<Figure size 1500x500 with 3 Axes>"
      ]
     },
     "metadata": {},
     "output_type": "display_data"
    }
   ],
   "source": [
    "sns.pairplot(train_dt_c, x_vars=['Gender', 'Height', 'Weight'], y_vars=['Index'], height=5)\n",
    "plt.show()"
   ]
  },
  {
   "cell_type": "code",
   "execution_count": 20,
   "metadata": {},
   "outputs": [
    {
     "data": {
      "image/png": "[encoded data removed]",
      "text/plain": [
       "<Figure size 640x480 with 1 Axes>"
      ]
     },
     "metadata": {},
     "output_type": "display_data"
    },
    {
     "data": {
      "image/png": "[encoded data removed]",
      "text/plain": [
       "<Figure size 640x480 with 1 Axes>"
      ]
     },
     "metadata": {},
     "output_type": "display_data"
    }
   ],
   "source": [
    "sns.histplot(x_train['Height'], kde=True)\n",
    "plt.title('Height Distribution')\n",
    "plt.show()\n",
    "\n",
    "sns.histplot(x_train['Weight'], kde=True)\n",
    "plt.title('Weight Distribution')\n",
    "plt.show()"
   ]
  },
  {
   "cell_type": "markdown",
   "metadata": {},
   "source": [
    "## Preprocessing the Data"
   ]
  },
  {
   "cell_type": "code",
   "execution_count": 21,
   "metadata": {},
   "outputs": [],
   "source": [
    "# Define preprocessing for numeric and categorical features\n",
    "numeric_features = ['Height', 'Weight']\n",
    "\n",
    "# Define the scaler\n",
    "scaler = MinMaxScaler()\n",
    "\n",
    "preprocessor = ColumnTransformer(\n",
    "    transformers=[\n",
    "        ('num', scaler, numeric_features)\n",
    "    ])\n",
    "\n",
    "X_train_processed = preprocessor.fit_transform(x_train)\n",
    "X_val_processed = preprocessor.transform(valid_dt_c)"
   ]
  },
  {
   "cell_type": "code",
   "execution_count": 22,
   "metadata": {},
   "outputs": [
    {
     "data": {
      "text/plain": [
       "(392,)"
      ]
     },
     "execution_count": 22,
     "metadata": {},
     "output_type": "execute_result"
    }
   ],
   "source": [
    "x_train['Height'].shape"
   ]
  },
  {
   "cell_type": "code",
   "execution_count": 23,
   "metadata": {},
   "outputs": [
    {
     "data": {
      "text/plain": [
       "array([[0.3559322 , 0.35454545],\n",
       "       [0.66101695, 0.7       ],\n",
       "       [0.54237288, 0.80909091],\n",
       "       [0.22033898, 0.49090909],\n",
       "       [0.42372881, 0.16363636],\n",
       "       [0.54237288, 0.38181818],\n",
       "       [0.71186441, 0.52727273],\n",
       "       [0.66101695, 0.72727273],\n",
       "       [0.03389831, 0.19090909],\n",
       "       [0.30508475, 0.93636364],\n",
       "       [0.91525424, 0.52727273],\n",
       "       [0.6440678 , 0.51818182],\n",
       "       [0.25423729, 0.06363636],\n",
       "       [0.18644068, 0.12727273],\n",
       "       [0.69491525, 0.27272727],\n",
       "       [0.11864407, 0.69090909],\n",
       "       [0.03389831, 0.99090909],\n",
       "       [0.42372881, 0.95454545],\n",
       "       [0.10169492, 0.49090909],\n",
       "       [0.28813559, 0.05454545],\n",
       "       [0.55932203, 0.29090909],\n",
       "       [0.50847458, 0.47272727],\n",
       "       [0.84745763, 0.61818182],\n",
       "       [0.47457627, 0.81818182],\n",
       "       [0.22033898, 0.25454545],\n",
       "       [0.81355932, 0.66363636],\n",
       "       [0.37288136, 0.12727273],\n",
       "       [0.71186441, 0.49090909],\n",
       "       [0.91525424, 0.59090909],\n",
       "       [0.76271186, 0.47272727],\n",
       "       [0.6440678 , 0.01818182],\n",
       "       [0.88135593, 0.36363636],\n",
       "       [0.11864407, 0.83636364],\n",
       "       [0.20338983, 0.48181818],\n",
       "       [0.49152542, 0.03636364],\n",
       "       [0.6440678 , 0.7       ],\n",
       "       [0.42372881, 0.5       ],\n",
       "       [0.54237288, 0.15454545],\n",
       "       [0.        , 0.71818182],\n",
       "       [0.01694915, 0.32727273],\n",
       "       [0.54237288, 0.41818182],\n",
       "       [0.86440678, 0.41818182],\n",
       "       [0.11864407, 0.51818182],\n",
       "       [0.96610169, 0.62727273],\n",
       "       [0.37288136, 0.99090909],\n",
       "       [0.55932203, 0.80909091],\n",
       "       [0.76271186, 0.80909091],\n",
       "       [0.20338983, 0.36363636],\n",
       "       [0.38983051, 0.73636364],\n",
       "       [0.81355932, 0.82727273],\n",
       "       [0.83050847, 0.49090909],\n",
       "       [0.42372881, 0.06363636],\n",
       "       [0.76271186, 0.23636364],\n",
       "       [0.28813559, 0.54545455],\n",
       "       [0.66101695, 0.05454545],\n",
       "       [0.77966102, 0.84545455],\n",
       "       [0.93220339, 0.49090909],\n",
       "       [0.01694915, 0.69090909],\n",
       "       [0.13559322, 0.82727273],\n",
       "       [0.86440678, 0.03636364],\n",
       "       [0.16949153, 0.18181818],\n",
       "       [0.50847458, 0.40909091],\n",
       "       [0.22033898, 0.24545455],\n",
       "       [0.66101695, 0.92727273],\n",
       "       [0.74576271, 0.97272727],\n",
       "       [0.23728814, 0.56363636],\n",
       "       [0.84745763, 0.40909091],\n",
       "       [0.23728814, 0.55454545],\n",
       "       [0.71186441, 0.        ],\n",
       "       [0.69491525, 0.50909091],\n",
       "       [0.06779661, 0.27272727],\n",
       "       [0.47457627, 1.        ],\n",
       "       [0.66101695, 0.90909091],\n",
       "       [0.06779661, 0.52727273],\n",
       "       [0.62711864, 0.41818182],\n",
       "       [0.76271186, 0.62727273],\n",
       "       [0.38983051, 0.11818182],\n",
       "       [0.62711864, 0.60909091],\n",
       "       [0.        , 0.26363636],\n",
       "       [0.11864407, 0.15454545],\n",
       "       [0.45762712, 0.07272727],\n",
       "       [0.08474576, 0.52727273],\n",
       "       [0.89830508, 0.72727273],\n",
       "       [0.79661017, 0.4       ],\n",
       "       [0.72881356, 0.26363636],\n",
       "       [0.45762712, 0.31818182],\n",
       "       [0.01694915, 0.27272727],\n",
       "       [0.47457627, 0.08181818],\n",
       "       [0.16949153, 0.30909091],\n",
       "       [0.18644068, 0.15454545],\n",
       "       [0.50847458, 0.02727273],\n",
       "       [0.16949153, 0.85454545],\n",
       "       [0.79661017, 0.64545455],\n",
       "       [0.15254237, 0.14545455],\n",
       "       [0.81355932, 0.36363636],\n",
       "       [0.96610169, 0.68181818],\n",
       "       [0.91525424, 0.55454545],\n",
       "       [0.16949153, 0.09090909],\n",
       "       [0.77966102, 0.7       ],\n",
       "       [0.08474576, 0.83636364],\n",
       "       [0.77966102, 0.61818182],\n",
       "       [0.18644068, 0.58181818],\n",
       "       [0.69491525, 0.25454545],\n",
       "       [0.71186441, 0.84545455],\n",
       "       [0.89830508, 0.91818182],\n",
       "       [0.52542373, 0.63636364],\n",
       "       [0.76271186, 0.45454545],\n",
       "       [0.18644068, 0.04545455],\n",
       "       [0.6779661 , 0.07272727],\n",
       "       [0.22033898, 0.18181818],\n",
       "       [0.61016949, 0.96363636],\n",
       "       [0.52542373, 0.88181818],\n",
       "       [0.18644068, 0.29090909],\n",
       "       [0.37288136, 0.07272727],\n",
       "       [0.84745763, 0.        ],\n",
       "       [0.38983051, 0.79090909],\n",
       "       [0.25423729, 0.85454545],\n",
       "       [0.74576271, 0.93636364],\n",
       "       [0.08474576, 0.25454545],\n",
       "       [0.6440678 , 0.3       ],\n",
       "       [0.96610169, 0.58181818],\n",
       "       [0.28813559, 0.21818182],\n",
       "       [0.3220339 , 0.67272727],\n",
       "       [0.74576271, 0.92727273],\n",
       "       [0.72881356, 0.        ],\n",
       "       [0.44067797, 0.93636364],\n",
       "       [0.16949153, 0.21818182],\n",
       "       [0.05084746, 0.34545455],\n",
       "       [0.10169492, 0.97272727],\n",
       "       [0.76271186, 0.81818182],\n",
       "       [0.22033898, 0.75454545],\n",
       "       [0.11864407, 0.38181818],\n",
       "       [0.89830508, 0.1       ],\n",
       "       [0.86440678, 0.16363636],\n",
       "       [0.83050847, 0.68181818],\n",
       "       [0.79661017, 0.47272727],\n",
       "       [0.94915254, 0.        ],\n",
       "       [0.69491525, 0.4       ],\n",
       "       [0.72881356, 0.33636364],\n",
       "       [0.88135593, 0.52727273],\n",
       "       [0.3220339 , 0.86363636],\n",
       "       [0.93220339, 0.28181818],\n",
       "       [0.3220339 , 0.63636364],\n",
       "       [0.98305085, 0.86363636],\n",
       "       [0.44067797, 0.81818182],\n",
       "       [0.52542373, 0.92727273],\n",
       "       [0.6779661 , 0.09090909],\n",
       "       [0.27118644, 0.50909091],\n",
       "       [0.98305085, 0.53636364],\n",
       "       [0.49152542, 0.34545455],\n",
       "       [0.45762712, 0.26363636],\n",
       "       [0.44067797, 0.85454545],\n",
       "       [0.        , 0.23636364],\n",
       "       [0.20338983, 0.58181818],\n",
       "       [0.91525424, 0.50909091],\n",
       "       [0.72881356, 0.23636364],\n",
       "       [0.        , 0.87272727],\n",
       "       [0.61016949, 0.64545455],\n",
       "       [0.6440678 , 1.        ],\n",
       "       [0.74576271, 1.        ],\n",
       "       [0.03389831, 0.73636364],\n",
       "       [0.03389831, 0.17272727],\n",
       "       [0.38983051, 0.66363636],\n",
       "       [0.10169492, 0.54545455],\n",
       "       [0.05084746, 0.9       ],\n",
       "       [0.33898305, 0.80909091],\n",
       "       [0.42372881, 0.84545455],\n",
       "       [0.79661017, 0.8       ],\n",
       "       [0.6779661 , 0.20909091],\n",
       "       [0.27118644, 0.35454545],\n",
       "       [0.71186441, 0.43636364],\n",
       "       [0.81355932, 0.58181818],\n",
       "       [0.79661017, 0.38181818],\n",
       "       [0.96610169, 0.34545455],\n",
       "       [0.10169492, 0.8       ],\n",
       "       [0.40677966, 0.19090909],\n",
       "       [0.88135593, 0.80909091],\n",
       "       [0.30508475, 0.41818182],\n",
       "       [0.81355932, 0.28181818],\n",
       "       [0.6440678 , 0.81818182],\n",
       "       [0.37288136, 0.72727273],\n",
       "       [0.3220339 , 0.53636364],\n",
       "       [0.23728814, 0.03636364],\n",
       "       [0.93220339, 0.1       ],\n",
       "       [0.15254237, 0.45454545],\n",
       "       [0.77966102, 0.70909091],\n",
       "       [0.03389831, 0.37272727],\n",
       "       [0.72881356, 0.5       ],\n",
       "       [0.57627119, 0.36363636],\n",
       "       [0.47457627, 0.84545455],\n",
       "       [0.79661017, 0.41818182],\n",
       "       [0.25423729, 0.19090909],\n",
       "       [0.84745763, 0.77272727],\n",
       "       [0.81355932, 0.45454545],\n",
       "       [0.06779661, 0.34545455],\n",
       "       [0.16949153, 0.42727273],\n",
       "       [0.79661017, 0.27272727],\n",
       "       [0.54237288, 0.52727273],\n",
       "       [0.77966102, 0.87272727],\n",
       "       [0.62711864, 0.28181818],\n",
       "       [0.6779661 , 0.96363636],\n",
       "       [0.54237288, 0.55454545],\n",
       "       [0.84745763, 0.96363636],\n",
       "       [0.62711864, 0.60909091],\n",
       "       [0.49152542, 0.86363636],\n",
       "       [0.74576271, 0.32727273],\n",
       "       [0.13559322, 0.09090909],\n",
       "       [0.47457627, 0.33636364],\n",
       "       [0.28813559, 0.09090909],\n",
       "       [0.81355932, 0.03636364],\n",
       "       [0.71186441, 0.18181818],\n",
       "       [0.49152542, 0.78181818],\n",
       "       [0.08474576, 0.26363636],\n",
       "       [0.69491525, 0.80909091],\n",
       "       [0.62711864, 0.46363636],\n",
       "       [0.3220339 , 0.94545455],\n",
       "       [0.18644068, 0.10909091],\n",
       "       [0.13559322, 0.03636364],\n",
       "       [0.45762712, 0.54545455],\n",
       "       [0.49152542, 0.64545455],\n",
       "       [0.71186441, 0.69090909],\n",
       "       [0.66101695, 0.66363636],\n",
       "       [0.66101695, 0.98181818],\n",
       "       [0.44067797, 0.51818182],\n",
       "       [0.98305085, 0.        ],\n",
       "       [0.86440678, 0.10909091],\n",
       "       [0.45762712, 0.77272727],\n",
       "       [0.18644068, 0.94545455],\n",
       "       [0.69491525, 0.5       ],\n",
       "       [0.88135593, 0.46363636],\n",
       "       [0.83050847, 0.74545455],\n",
       "       [0.38983051, 0.99090909],\n",
       "       [0.79661017, 0.78181818],\n",
       "       [0.6779661 , 0.9       ],\n",
       "       [0.15254237, 0.1       ],\n",
       "       [0.23728814, 0.38181818],\n",
       "       [0.72881356, 0.8       ],\n",
       "       [0.50847458, 0.96363636],\n",
       "       [0.61016949, 0.03636364],\n",
       "       [0.6440678 , 0.31818182],\n",
       "       [0.81355932, 0.59090909],\n",
       "       [0.23728814, 0.41818182],\n",
       "       [0.44067797, 0.69090909],\n",
       "       [0.15254237, 0.52727273],\n",
       "       [0.16949153, 0.40909091],\n",
       "       [0.        , 0.87272727],\n",
       "       [0.08474576, 0.44545455],\n",
       "       [0.11864407, 0.4       ],\n",
       "       [0.72881356, 0.88181818],\n",
       "       [0.69491525, 0.94545455],\n",
       "       [0.15254237, 0.1       ],\n",
       "       [0.54237288, 0.53636364],\n",
       "       [0.10169492, 0.46363636],\n",
       "       [1.        , 0.96363636],\n",
       "       [0.44067797, 0.18181818],\n",
       "       [0.42372881, 0.40909091],\n",
       "       [0.94915254, 0.99090909],\n",
       "       [0.57627119, 0.8       ],\n",
       "       [0.93220339, 0.17272727],\n",
       "       [0.37288136, 0.16363636],\n",
       "       [0.52542373, 0.73636364],\n",
       "       [0.01694915, 0.84545455],\n",
       "       [0.69491525, 0.55454545],\n",
       "       [0.93220339, 0.13636364],\n",
       "       [0.23728814, 0.86363636],\n",
       "       [0.74576271, 0.06363636],\n",
       "       [0.10169492, 0.18181818],\n",
       "       [0.79661017, 0.10909091],\n",
       "       [0.57627119, 0.03636364],\n",
       "       [0.77966102, 0.79090909],\n",
       "       [0.3220339 , 0.49090909],\n",
       "       [0.27118644, 0.01818182],\n",
       "       [0.88135593, 0.46363636],\n",
       "       [0.6779661 , 0.08181818],\n",
       "       [0.89830508, 0.03636364],\n",
       "       [0.72881356, 0.90909091],\n",
       "       [0.71186441, 0.91818182],\n",
       "       [0.40677966, 0.83636364],\n",
       "       [1.        , 0.38181818],\n",
       "       [0.08474576, 0.82727273],\n",
       "       [0.59322034, 0.77272727],\n",
       "       [0.77966102, 0.81818182],\n",
       "       [0.86440678, 0.26363636],\n",
       "       [0.71186441, 0.30909091],\n",
       "       [0.59322034, 0.63636364],\n",
       "       [0.61016949, 0.33636364],\n",
       "       [0.3559322 , 0.59090909],\n",
       "       [0.49152542, 0.54545455],\n",
       "       [0.05084746, 0.61818182],\n",
       "       [0.81355932, 0.06363636],\n",
       "       [0.42372881, 0.10909091],\n",
       "       [0.6440678 , 0.26363636],\n",
       "       [0.40677966, 0.69090909],\n",
       "       [0.69491525, 0.82727273],\n",
       "       [0.94915254, 0.65454545],\n",
       "       [0.22033898, 0.87272727],\n",
       "       [0.33898305, 0.96363636],\n",
       "       [0.59322034, 0.3       ],\n",
       "       [0.        , 0.84545455],\n",
       "       [0.98305085, 0.78181818],\n",
       "       [0.33898305, 0.53636364],\n",
       "       [0.66101695, 0.54545455],\n",
       "       [0.74576271, 0.3       ],\n",
       "       [0.47457627, 0.        ],\n",
       "       [0.66101695, 0.39090909],\n",
       "       [0.74576271, 0.23636364],\n",
       "       [0.3559322 , 0.61818182],\n",
       "       [0.03389831, 0.32727273],\n",
       "       [0.57627119, 0.51818182],\n",
       "       [0.01694915, 0.31818182],\n",
       "       [0.52542373, 0.82727273],\n",
       "       [0.74576271, 0.74545455],\n",
       "       [0.93220339, 0.69090909],\n",
       "       [0.54237288, 0.5       ],\n",
       "       [0.16949153, 0.        ],\n",
       "       [0.83050847, 0.33636364],\n",
       "       [0.71186441, 0.20909091],\n",
       "       [0.        , 0.92727273],\n",
       "       [0.62711864, 0.1       ],\n",
       "       [0.40677966, 0.22727273],\n",
       "       [0.16949153, 0.33636364],\n",
       "       [0.28813559, 0.93636364],\n",
       "       [0.28813559, 0.01818182],\n",
       "       [0.79661017, 0.72727273],\n",
       "       [0.76271186, 0.4       ],\n",
       "       [0.72881356, 0.41818182],\n",
       "       [0.3559322 , 0.86363636],\n",
       "       [0.93220339, 0.93636364],\n",
       "       [0.38983051, 0.54545455],\n",
       "       [0.74576271, 0.50909091],\n",
       "       [0.11864407, 0.30909091],\n",
       "       [0.44067797, 0.1       ],\n",
       "       [0.25423729, 0.00909091],\n",
       "       [0.23728814, 0.74545455],\n",
       "       [0.3220339 , 0.49090909],\n",
       "       [0.33898305, 0.3       ],\n",
       "       [0.38983051, 0.06363636],\n",
       "       [0.61016949, 0.53636364],\n",
       "       [0.98305085, 0.        ],\n",
       "       [0.52542373, 0.95454545],\n",
       "       [0.72881356, 0.93636364],\n",
       "       [0.25423729, 0.59090909],\n",
       "       [0.20338983, 0.82727273],\n",
       "       [0.62711864, 0.95454545],\n",
       "       [0.94915254, 0.6       ],\n",
       "       [0.93220339, 0.88181818],\n",
       "       [0.47457627, 0.77272727],\n",
       "       [0.81355932, 0.70909091],\n",
       "       [0.96610169, 0.9       ],\n",
       "       [0.3220339 , 0.81818182],\n",
       "       [0.30508475, 0.40909091],\n",
       "       [0.74576271, 0.64545455],\n",
       "       [0.81355932, 0.27272727],\n",
       "       [0.40677966, 0.18181818],\n",
       "       [0.3559322 , 0.2       ],\n",
       "       [0.50847458, 0.59090909],\n",
       "       [0.50847458, 0.28181818],\n",
       "       [0.49152542, 0.82727273],\n",
       "       [0.22033898, 0.9       ],\n",
       "       [0.66101695, 0.15454545],\n",
       "       [0.74576271, 0.88181818],\n",
       "       [1.        , 0.44545455],\n",
       "       [0.66101695, 0.58181818],\n",
       "       [0.20338983, 0.87272727],\n",
       "       [0.23728814, 0.45454545],\n",
       "       [0.96610169, 0.2       ],\n",
       "       [0.42372881, 0.3       ],\n",
       "       [0.3559322 , 0.94545455],\n",
       "       [0.66101695, 0.3       ],\n",
       "       [0.16949153, 0.62727273],\n",
       "       [0.94915254, 0.17272727],\n",
       "       [0.47457627, 0.59090909],\n",
       "       [0.47457627, 0.80909091],\n",
       "       [0.        , 0.01818182],\n",
       "       [0.77966102, 0.89090909],\n",
       "       [0.84745763, 0.        ],\n",
       "       [0.76271186, 0.09090909],\n",
       "       [0.08474576, 0.60909091],\n",
       "       [0.23728814, 0.28181818],\n",
       "       [0.40677966, 1.        ],\n",
       "       [0.76271186, 0.01818182],\n",
       "       [0.81355932, 0.44545455],\n",
       "       [0.79661017, 0.65454545],\n",
       "       [0.55932203, 0.73636364],\n",
       "       [0.28813559, 0.54545455],\n",
       "       [0.3559322 , 0.76363636],\n",
       "       [0.6440678 , 0.60909091],\n",
       "       [0.44067797, 1.        ],\n",
       "       [0.08474576, 0.72727273],\n",
       "       [0.6440678 , 0.8       ],\n",
       "       [0.47457627, 0.98181818],\n",
       "       [0.3559322 , 0.95454545]])"
      ]
     },
     "execution_count": 23,
     "metadata": {},
     "output_type": "execute_result"
    }
   ],
   "source": [
    "X_train_processed"
   ]
  },
  {
   "cell_type": "markdown",
   "metadata": {},
   "source": [
    "## Training the Data"
   ]
  },
  {
   "cell_type": "code",
   "execution_count": 24,
   "metadata": {},
   "outputs": [],
   "source": [
    "def create_model():\n",
    "    model = tf.keras.models.Sequential([\n",
    "        tf.keras.layers.Dropout(0.5),\n",
    "        tf.keras.layers.Dense(128, activation='relu'),\n",
    "        tf.keras.layers.Dense(64, activation='relu'),\n",
    "        tf.keras.layers.Dense(1, activation='sigmoid')\n",
    "        ]) \n",
    "    model.compile(optimizer = 'adam',\n",
    "                  loss = 'binary_crossentropy',\n",
    "                  metrics = ['accuracy'])\n",
    "\n",
    "    return model"
   ]
  },
  {
   "cell_type": "code",
   "execution_count": 25,
   "metadata": {},
   "outputs": [],
   "source": [
    "# model = create_model()\n",
    "# model.fit(\n",
    "#     x_train, y_train,\n",
    "#     epochs=100\n",
    "# )"
   ]
  },
  {
   "cell_type": "code",
   "execution_count": 26,
   "metadata": {},
   "outputs": [],
   "source": [
    "# model.summary()"
   ]
  },
  {
   "cell_type": "code",
   "execution_count": null,
   "metadata": {},
   "outputs": [],
   "source": []
  }
 ],
 "metadata": {
  "kernelspec": {
   "display_name": "base",
   "language": "python",
   "name": "python3"
  },
  "language_info": {
   "codemirror_mode": {
    "name": "ipython",
    "version": 3
   },
   "file_extension": ".py",
   "mimetype": "text/x-python",
   "name": "python",
   "nbconvert_exporter": "python",
   "pygments_lexer": "ipython3",
   "version": "3.12.4"
  }
 },
 "nbformat": 4,
 "nbformat_minor": 2
}
