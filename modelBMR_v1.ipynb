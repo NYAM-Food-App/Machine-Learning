{
 "cells": [
  {
   "cell_type": "markdown",
   "metadata": {},
   "source": [
    "# Multi-Class Prediction"
   ]
  },
  {
   "cell_type": "markdown",
   "metadata": {},
   "source": [
    "## Import the Libraries"
   ]
  },
  {
   "cell_type": "code",
   "execution_count": 69,
   "metadata": {},
   "outputs": [],
   "source": [
    "from sklearn.preprocessing import StandardScaler\n",
    "from sklearn.model_selection import train_test_split, KFold\n",
    "from sklearn.utils import resample\n",
    "import seaborn as sns\n",
    "import pandas as pd\n",
    "import tensorflow as tf\n",
    "import matplotlib.pyplot as plt\n",
    "import numpy as np"
   ]
  },
  {
   "cell_type": "markdown",
   "metadata": {},
   "source": [
    "## Gathering Data"
   ]
  },
  {
   "cell_type": "markdown",
   "metadata": {},
   "source": [
    "*Load the train data table*"
   ]
  },
  {
   "cell_type": "code",
   "execution_count": 28,
   "metadata": {},
   "outputs": [
    {
     "data": {
      "text/html": [
       "<div>\n",
       "<style scoped>\n",
       "    .dataframe tbody tr th:only-of-type {\n",
       "        vertical-align: middle;\n",
       "    }\n",
       "\n",
       "    .dataframe tbody tr th {\n",
       "        vertical-align: top;\n",
       "    }\n",
       "\n",
       "    .dataframe thead th {\n",
       "        text-align: right;\n",
       "    }\n",
       "</style>\n",
       "<table border=\"1\" class=\"dataframe\">\n",
       "  <thead>\n",
       "    <tr style=\"text-align: right;\">\n",
       "      <th></th>\n",
       "      <th>Gender</th>\n",
       "      <th>Height</th>\n",
       "      <th>Weight</th>\n",
       "      <th>Index</th>\n",
       "    </tr>\n",
       "  </thead>\n",
       "  <tbody>\n",
       "    <tr>\n",
       "      <th>0</th>\n",
       "      <td>Male</td>\n",
       "      <td>161</td>\n",
       "      <td>89</td>\n",
       "      <td>4</td>\n",
       "    </tr>\n",
       "    <tr>\n",
       "      <th>1</th>\n",
       "      <td>Male</td>\n",
       "      <td>179</td>\n",
       "      <td>127</td>\n",
       "      <td>4</td>\n",
       "    </tr>\n",
       "    <tr>\n",
       "      <th>2</th>\n",
       "      <td>Male</td>\n",
       "      <td>172</td>\n",
       "      <td>139</td>\n",
       "      <td>5</td>\n",
       "    </tr>\n",
       "    <tr>\n",
       "      <th>3</th>\n",
       "      <td>Male</td>\n",
       "      <td>153</td>\n",
       "      <td>104</td>\n",
       "      <td>5</td>\n",
       "    </tr>\n",
       "    <tr>\n",
       "      <th>4</th>\n",
       "      <td>Male</td>\n",
       "      <td>165</td>\n",
       "      <td>68</td>\n",
       "      <td>2</td>\n",
       "    </tr>\n",
       "  </tbody>\n",
       "</table>\n",
       "</div>"
      ],
      "text/plain": [
       "  Gender  Height  Weight  Index\n",
       "0   Male     161      89      4\n",
       "1   Male     179     127      4\n",
       "2   Male     172     139      5\n",
       "3   Male     153     104      5\n",
       "4   Male     165      68      2"
      ]
     },
     "execution_count": 28,
     "metadata": {},
     "output_type": "execute_result"
    }
   ],
   "source": [
    "TRAIN_DT = pd.read_csv('csv/bmi_train.csv')\n",
    "TRAIN_DT.head()"
   ]
  },
  {
   "cell_type": "markdown",
   "metadata": {},
   "source": [
    "*Load the validation data table*"
   ]
  },
  {
   "cell_type": "code",
   "execution_count": 29,
   "metadata": {},
   "outputs": [
    {
     "data": {
      "text/html": [
       "<div>\n",
       "<style scoped>\n",
       "    .dataframe tbody tr th:only-of-type {\n",
       "        vertical-align: middle;\n",
       "    }\n",
       "\n",
       "    .dataframe tbody tr th {\n",
       "        vertical-align: top;\n",
       "    }\n",
       "\n",
       "    .dataframe thead th {\n",
       "        text-align: right;\n",
       "    }\n",
       "</style>\n",
       "<table border=\"1\" class=\"dataframe\">\n",
       "  <thead>\n",
       "    <tr style=\"text-align: right;\">\n",
       "      <th></th>\n",
       "      <th>Gender</th>\n",
       "      <th>Height</th>\n",
       "      <th>Weight</th>\n",
       "    </tr>\n",
       "  </thead>\n",
       "  <tbody>\n",
       "    <tr>\n",
       "      <th>0</th>\n",
       "      <td>Male</td>\n",
       "      <td>161</td>\n",
       "      <td>103</td>\n",
       "    </tr>\n",
       "    <tr>\n",
       "      <th>1</th>\n",
       "      <td>Male</td>\n",
       "      <td>180</td>\n",
       "      <td>75</td>\n",
       "    </tr>\n",
       "    <tr>\n",
       "      <th>2</th>\n",
       "      <td>Male</td>\n",
       "      <td>174</td>\n",
       "      <td>95</td>\n",
       "    </tr>\n",
       "    <tr>\n",
       "      <th>3</th>\n",
       "      <td>Female</td>\n",
       "      <td>179</td>\n",
       "      <td>103</td>\n",
       "    </tr>\n",
       "    <tr>\n",
       "      <th>4</th>\n",
       "      <td>Female</td>\n",
       "      <td>192</td>\n",
       "      <td>140</td>\n",
       "    </tr>\n",
       "  </tbody>\n",
       "</table>\n",
       "</div>"
      ],
      "text/plain": [
       "   Gender  Height  Weight\n",
       "0    Male     161     103\n",
       "1    Male     180      75\n",
       "2    Male     174      95\n",
       "3  Female     179     103\n",
       "4  Female     192     140"
      ]
     },
     "execution_count": 29,
     "metadata": {},
     "output_type": "execute_result"
    }
   ],
   "source": [
    "VALIDATION_DT = pd.read_csv('csv/bmi_validation.csv')\n",
    "VALIDATION_DT.head()"
   ]
  },
  {
   "cell_type": "markdown",
   "metadata": {},
   "source": [
    "## Assessing Data"
   ]
  },
  {
   "cell_type": "code",
   "execution_count": 30,
   "metadata": {},
   "outputs": [
    {
     "name": "stdout",
     "output_type": "stream",
     "text": [
      "<class 'pandas.core.frame.DataFrame'>\n",
      "RangeIndex: 400 entries, 0 to 399\n",
      "Data columns (total 4 columns):\n",
      " #   Column  Non-Null Count  Dtype \n",
      "---  ------  --------------  ----- \n",
      " 0   Gender  400 non-null    object\n",
      " 1   Height  400 non-null    int64 \n",
      " 2   Weight  400 non-null    int64 \n",
      " 3   Index   400 non-null    int64 \n",
      "dtypes: int64(3), object(1)\n",
      "memory usage: 12.6+ KB\n"
     ]
    }
   ],
   "source": [
    "TRAIN_DT.info()"
   ]
  },
  {
   "cell_type": "code",
   "execution_count": 31,
   "metadata": {},
   "outputs": [
    {
     "name": "stdout",
     "output_type": "stream",
     "text": [
      "<class 'pandas.core.frame.DataFrame'>\n",
      "RangeIndex: 100 entries, 0 to 99\n",
      "Data columns (total 3 columns):\n",
      " #   Column  Non-Null Count  Dtype \n",
      "---  ------  --------------  ----- \n",
      " 0   Gender  100 non-null    object\n",
      " 1   Height  100 non-null    int64 \n",
      " 2   Weight  100 non-null    int64 \n",
      "dtypes: int64(2), object(1)\n",
      "memory usage: 2.5+ KB\n"
     ]
    }
   ],
   "source": [
    "VALIDATION_DT.info()"
   ]
  },
  {
   "cell_type": "markdown",
   "metadata": {},
   "source": [
    "*Looking for empty or null data/cell in dataset*"
   ]
  },
  {
   "cell_type": "code",
   "execution_count": 32,
   "metadata": {},
   "outputs": [
    {
     "data": {
      "text/plain": [
       "Gender    0\n",
       "Height    0\n",
       "Weight    0\n",
       "Index     0\n",
       "dtype: int64"
      ]
     },
     "execution_count": 32,
     "metadata": {},
     "output_type": "execute_result"
    }
   ],
   "source": [
    "TRAIN_DT.isna().sum()"
   ]
  },
  {
   "cell_type": "code",
   "execution_count": 33,
   "metadata": {},
   "outputs": [
    {
     "data": {
      "text/plain": [
       "Gender    0\n",
       "Height    0\n",
       "Weight    0\n",
       "dtype: int64"
      ]
     },
     "execution_count": 33,
     "metadata": {},
     "output_type": "execute_result"
    }
   ],
   "source": [
    "VALIDATION_DT.isna().sum()"
   ]
  },
  {
   "cell_type": "markdown",
   "metadata": {},
   "source": [
    "*Looking for duplicated data in dataset*"
   ]
  },
  {
   "cell_type": "code",
   "execution_count": 34,
   "metadata": {},
   "outputs": [
    {
     "data": {
      "text/plain": [
       "8"
      ]
     },
     "execution_count": 34,
     "metadata": {},
     "output_type": "execute_result"
    }
   ],
   "source": [
    "TRAIN_DT.duplicated().sum()"
   ]
  },
  {
   "cell_type": "code",
   "execution_count": 35,
   "metadata": {},
   "outputs": [
    {
     "data": {
      "text/plain": [
       "0"
      ]
     },
     "execution_count": 35,
     "metadata": {},
     "output_type": "execute_result"
    }
   ],
   "source": [
    "VALIDATION_DT.duplicated().sum()"
   ]
  },
  {
   "cell_type": "markdown",
   "metadata": {},
   "source": [
    "## Preprocessing and Cleaning the Data"
   ]
  },
  {
   "cell_type": "markdown",
   "metadata": {},
   "source": [
    "*Making copy of datasets and drop all the duplicates data in train dataset*"
   ]
  },
  {
   "cell_type": "code",
   "execution_count": 36,
   "metadata": {},
   "outputs": [],
   "source": [
    "train_dt_c = TRAIN_DT.copy()\n",
    "train_dt_c.drop_duplicates(inplace=True)\n",
    "\n",
    "valid_dt_c = VALIDATION_DT.copy()"
   ]
  },
  {
   "cell_type": "markdown",
   "metadata": {},
   "source": [
    "*Using map function to encoding the gender feature with numerical type, 0 for male and 1 for female*"
   ]
  },
  {
   "cell_type": "code",
   "execution_count": 37,
   "metadata": {},
   "outputs": [],
   "source": [
    "train_dt_c['Gender'] = train_dt_c['Gender'].map({'Male': 0, 'Female': 1})\n",
    "valid_dt_c['Gender'] = valid_dt_c['Gender'].map({'Male': 0, 'Female': 1})"
   ]
  },
  {
   "cell_type": "markdown",
   "metadata": {},
   "source": [
    "*Using StandardScaler function from sklearn to feature scalling the height and weight*"
   ]
  },
  {
   "cell_type": "code",
   "execution_count": 38,
   "metadata": {},
   "outputs": [],
   "source": [
    "# Apply feature scaling to weight and height\n",
    "scaler = StandardScaler()\n",
    "scaler.fit(train_dt_c[['Weight', 'Height']])  # Fit only on training data\n",
    "\n",
    "# Transform both training and validation data\n",
    "train_dt_c[['Weight', 'Height']] = scaler.transform(train_dt_c[['Weight', 'Height']])\n",
    "valid_dt_c[['Weight', 'Height']] = scaler.transform(valid_dt_c[['Weight', 'Height']])"
   ]
  },
  {
   "cell_type": "markdown",
   "metadata": {},
   "source": [
    "*Separate the features and label for train dataset*"
   ]
  },
  {
   "cell_type": "code",
   "execution_count": 39,
   "metadata": {},
   "outputs": [],
   "source": [
    "X = train_dt_c.drop('Index', axis=1)\n",
    "Y = train_dt_c['Index']"
   ]
  },
  {
   "cell_type": "markdown",
   "metadata": {},
   "source": [
    "*Split the data into 70% Train, 15% Valid and 15% Test*"
   ]
  },
  {
   "cell_type": "code",
   "execution_count": 40,
   "metadata": {},
   "outputs": [],
   "source": [
    "# Split the dataset into training and temp (validation + test)\n",
    "x_train, x_temp, y_train, y_temp = train_test_split(X, Y, test_size=0.3, random_state=42)\n",
    "\n",
    "# Split the temp dataset into validation and test sets\n",
    "x_valid, x_test, y_valid, y_test = train_test_split(x_temp, y_temp, test_size=0.5, random_state=42)"
   ]
  },
  {
   "cell_type": "markdown",
   "metadata": {},
   "source": [
    "*Augmented the data*"
   ]
  },
  {
   "cell_type": "code",
   "execution_count": 41,
   "metadata": {},
   "outputs": [],
   "source": [
    "x_train_augmented, y_train_augmented = resample(\n",
    "    x_train, y_train, \n",
    "    n_samples=len(x_train),\n",
    "    replace=True\n",
    ")\n"
   ]
  },
  {
   "cell_type": "code",
   "execution_count": 71,
   "metadata": {},
   "outputs": [],
   "source": [
    "# Define the number of folds for cross-validation\n",
    "num_folds = 5\n",
    "kf = KFold(n_splits=num_folds, shuffle=True, random_state=42)\n",
    "\n",
    "# Store the results for each fold\n",
    "fold_accuracies = []\n",
    "\n",
    "for train_index, val_index in kf.split(x_train_augmented):\n",
    "    # Split the data into training and validation sets for this fold using .iloc\n",
    "    x_train_fold, x_val_fold = x_train_augmented.iloc[train_index], x_train_augmented.iloc[val_index]\n",
    "    y_train_fold, y_val_fold = y_train_augmented.iloc[train_index], y_train_augmented.iloc[val_index]"
   ]
  },
  {
   "cell_type": "code",
   "execution_count": 42,
   "metadata": {},
   "outputs": [
    {
     "data": {
      "text/html": [
       "<div>\n",
       "<style scoped>\n",
       "    .dataframe tbody tr th:only-of-type {\n",
       "        vertical-align: middle;\n",
       "    }\n",
       "\n",
       "    .dataframe tbody tr th {\n",
       "        vertical-align: top;\n",
       "    }\n",
       "\n",
       "    .dataframe thead th {\n",
       "        text-align: right;\n",
       "    }\n",
       "</style>\n",
       "<table border=\"1\" class=\"dataframe\">\n",
       "  <thead>\n",
       "    <tr style=\"text-align: right;\">\n",
       "      <th></th>\n",
       "      <th>Gender</th>\n",
       "      <th>Height</th>\n",
       "      <th>Weight</th>\n",
       "    </tr>\n",
       "  </thead>\n",
       "  <tbody>\n",
       "    <tr>\n",
       "      <th>110</th>\n",
       "      <td>0</td>\n",
       "      <td>-1.044882</td>\n",
       "      <td>-1.115680</td>\n",
       "    </tr>\n",
       "    <tr>\n",
       "      <th>17</th>\n",
       "      <td>0</td>\n",
       "      <td>-0.321750</td>\n",
       "      <td>1.502240</td>\n",
       "    </tr>\n",
       "    <tr>\n",
       "      <th>324</th>\n",
       "      <td>1</td>\n",
       "      <td>0.401381</td>\n",
       "      <td>-1.392872</td>\n",
       "    </tr>\n",
       "    <tr>\n",
       "      <th>24</th>\n",
       "      <td>1</td>\n",
       "      <td>-1.044882</td>\n",
       "      <td>-0.869288</td>\n",
       "    </tr>\n",
       "    <tr>\n",
       "      <th>128</th>\n",
       "      <td>0</td>\n",
       "      <td>-1.225665</td>\n",
       "      <td>-0.992484</td>\n",
       "    </tr>\n",
       "  </tbody>\n",
       "</table>\n",
       "</div>"
      ],
      "text/plain": [
       "     Gender    Height    Weight\n",
       "110       0 -1.044882 -1.115680\n",
       "17        0 -0.321750  1.502240\n",
       "324       1  0.401381 -1.392872\n",
       "24        1 -1.044882 -0.869288\n",
       "128       0 -1.225665 -0.992484"
      ]
     },
     "execution_count": 42,
     "metadata": {},
     "output_type": "execute_result"
    }
   ],
   "source": [
    "x_train.head()"
   ]
  },
  {
   "cell_type": "code",
   "execution_count": 43,
   "metadata": {},
   "outputs": [
    {
     "data": {
      "text/plain": [
       "110    3\n",
       "17     5\n",
       "324    2\n",
       "24     2\n",
       "128    4\n",
       "Name: Index, dtype: int64"
      ]
     },
     "execution_count": 43,
     "metadata": {},
     "output_type": "execute_result"
    }
   ],
   "source": [
    "y_train.head()"
   ]
  },
  {
   "cell_type": "markdown",
   "metadata": {},
   "source": [
    "## Exploring the data"
   ]
  },
  {
   "cell_type": "code",
   "execution_count": 44,
   "metadata": {},
   "outputs": [
    {
     "data": {
      "text/html": [
       "<div>\n",
       "<style scoped>\n",
       "    .dataframe tbody tr th:only-of-type {\n",
       "        vertical-align: middle;\n",
       "    }\n",
       "\n",
       "    .dataframe tbody tr th {\n",
       "        vertical-align: top;\n",
       "    }\n",
       "\n",
       "    .dataframe thead th {\n",
       "        text-align: right;\n",
       "    }\n",
       "</style>\n",
       "<table border=\"1\" class=\"dataframe\">\n",
       "  <thead>\n",
       "    <tr style=\"text-align: right;\">\n",
       "      <th></th>\n",
       "      <th>Gender</th>\n",
       "      <th>Height</th>\n",
       "      <th>Weight</th>\n",
       "    </tr>\n",
       "  </thead>\n",
       "  <tbody>\n",
       "    <tr>\n",
       "      <th>count</th>\n",
       "      <td>274.000000</td>\n",
       "      <td>274.000000</td>\n",
       "      <td>274.000000</td>\n",
       "    </tr>\n",
       "    <tr>\n",
       "      <th>mean</th>\n",
       "      <td>0.496350</td>\n",
       "      <td>-0.053875</td>\n",
       "      <td>0.015792</td>\n",
       "    </tr>\n",
       "    <tr>\n",
       "      <th>std</th>\n",
       "      <td>0.500902</td>\n",
       "      <td>0.979788</td>\n",
       "      <td>0.993913</td>\n",
       "    </tr>\n",
       "    <tr>\n",
       "      <th>min</th>\n",
       "      <td>0.000000</td>\n",
       "      <td>-1.828274</td>\n",
       "      <td>-1.731662</td>\n",
       "    </tr>\n",
       "    <tr>\n",
       "      <th>25%</th>\n",
       "      <td>0.000000</td>\n",
       "      <td>-0.864099</td>\n",
       "      <td>-0.799990</td>\n",
       "    </tr>\n",
       "    <tr>\n",
       "      <th>50%</th>\n",
       "      <td>0.000000</td>\n",
       "      <td>-0.080707</td>\n",
       "      <td>0.039285</td>\n",
       "    </tr>\n",
       "    <tr>\n",
       "      <th>75%</th>\n",
       "      <td>1.000000</td>\n",
       "      <td>0.762947</td>\n",
       "      <td>0.978656</td>\n",
       "    </tr>\n",
       "    <tr>\n",
       "      <th>max</th>\n",
       "      <td>1.000000</td>\n",
       "      <td>1.666861</td>\n",
       "      <td>1.656235</td>\n",
       "    </tr>\n",
       "  </tbody>\n",
       "</table>\n",
       "</div>"
      ],
      "text/plain": [
       "           Gender      Height      Weight\n",
       "count  274.000000  274.000000  274.000000\n",
       "mean     0.496350   -0.053875    0.015792\n",
       "std      0.500902    0.979788    0.993913\n",
       "min      0.000000   -1.828274   -1.731662\n",
       "25%      0.000000   -0.864099   -0.799990\n",
       "50%      0.000000   -0.080707    0.039285\n",
       "75%      1.000000    0.762947    0.978656\n",
       "max      1.000000    1.666861    1.656235"
      ]
     },
     "execution_count": 44,
     "metadata": {},
     "output_type": "execute_result"
    }
   ],
   "source": [
    "x_train.describe(include=\"all\")"
   ]
  },
  {
   "cell_type": "code",
   "execution_count": 45,
   "metadata": {},
   "outputs": [
    {
     "data": {
      "text/plain": [
       "count    274.000000\n",
       "mean       3.788321\n",
       "std        1.322838\n",
       "min        0.000000\n",
       "25%        3.000000\n",
       "50%        4.000000\n",
       "75%        5.000000\n",
       "max        5.000000\n",
       "Name: Index, dtype: float64"
      ]
     },
     "execution_count": 45,
     "metadata": {},
     "output_type": "execute_result"
    }
   ],
   "source": [
    "y_train.describe(include=\"all\")"
   ]
  },
  {
   "cell_type": "code",
   "execution_count": 46,
   "metadata": {},
   "outputs": [
    {
     "data": {
      "text/html": [
       "<div>\n",
       "<style scoped>\n",
       "    .dataframe tbody tr th:only-of-type {\n",
       "        vertical-align: middle;\n",
       "    }\n",
       "\n",
       "    .dataframe tbody tr th {\n",
       "        vertical-align: top;\n",
       "    }\n",
       "\n",
       "    .dataframe thead th {\n",
       "        text-align: right;\n",
       "    }\n",
       "</style>\n",
       "<table border=\"1\" class=\"dataframe\">\n",
       "  <thead>\n",
       "    <tr style=\"text-align: right;\">\n",
       "      <th></th>\n",
       "      <th>Gender</th>\n",
       "      <th>Height</th>\n",
       "      <th>Weight</th>\n",
       "    </tr>\n",
       "  </thead>\n",
       "  <tbody>\n",
       "    <tr>\n",
       "      <th>count</th>\n",
       "      <td>100.00</td>\n",
       "      <td>100.000000</td>\n",
       "      <td>100.000000</td>\n",
       "    </tr>\n",
       "    <tr>\n",
       "      <th>mean</th>\n",
       "      <td>0.55</td>\n",
       "      <td>-0.124697</td>\n",
       "      <td>-0.014306</td>\n",
       "    </tr>\n",
       "    <tr>\n",
       "      <th>std</th>\n",
       "      <td>0.50</td>\n",
       "      <td>0.935359</td>\n",
       "      <td>1.004856</td>\n",
       "    </tr>\n",
       "    <tr>\n",
       "      <th>min</th>\n",
       "      <td>0.00</td>\n",
       "      <td>-1.768013</td>\n",
       "      <td>-1.700863</td>\n",
       "    </tr>\n",
       "    <tr>\n",
       "      <th>25%</th>\n",
       "      <td>0.00</td>\n",
       "      <td>-0.864099</td>\n",
       "      <td>-0.915486</td>\n",
       "    </tr>\n",
       "    <tr>\n",
       "      <th>50%</th>\n",
       "      <td>1.00</td>\n",
       "      <td>-0.140968</td>\n",
       "      <td>-0.083912</td>\n",
       "    </tr>\n",
       "    <tr>\n",
       "      <th>75%</th>\n",
       "      <td>1.00</td>\n",
       "      <td>0.597229</td>\n",
       "      <td>0.893959</td>\n",
       "    </tr>\n",
       "    <tr>\n",
       "      <th>max</th>\n",
       "      <td>1.00</td>\n",
       "      <td>1.606600</td>\n",
       "      <td>1.656235</td>\n",
       "    </tr>\n",
       "  </tbody>\n",
       "</table>\n",
       "</div>"
      ],
      "text/plain": [
       "       Gender      Height      Weight\n",
       "count  100.00  100.000000  100.000000\n",
       "mean     0.55   -0.124697   -0.014306\n",
       "std      0.50    0.935359    1.004856\n",
       "min      0.00   -1.768013   -1.700863\n",
       "25%      0.00   -0.864099   -0.915486\n",
       "50%      1.00   -0.140968   -0.083912\n",
       "75%      1.00    0.597229    0.893959\n",
       "max      1.00    1.606600    1.656235"
      ]
     },
     "execution_count": 46,
     "metadata": {},
     "output_type": "execute_result"
    }
   ],
   "source": [
    "valid_dt_c.describe(include=\"all\")"
   ]
  },
  {
   "cell_type": "code",
   "execution_count": 47,
   "metadata": {},
   "outputs": [
    {
     "name": "stdout",
     "output_type": "stream",
     "text": [
      "The shape of X_train is: (274, 3)\n",
      "The shape of y_train is: (274,)\n",
      "We have m = 274 training examples\n",
      "\n",
      "The shape of validation dataset is: (100, 3)\n",
      "We have m = 100 validation examples\n"
     ]
    }
   ],
   "source": [
    "print ('The shape of X_train is: ' + str(x_train.shape))\n",
    "print ('The shape of y_train is: ' + str(y_train.shape))\n",
    "print ('We have m = %d training examples' % (len(y_train)))\n",
    "\n",
    "print ('\\nThe shape of validation dataset is: ' + str(valid_dt_c.shape))\n",
    "print ('We have m = %d validation examples' % (len(valid_dt_c)))"
   ]
  },
  {
   "cell_type": "markdown",
   "metadata": {},
   "source": [
    "## Visualize the Data"
   ]
  },
  {
   "cell_type": "code",
   "execution_count": 48,
   "metadata": {},
   "outputs": [
    {
     "data": {
      "image/png": "[encoded data removed]",
      "text/plain": [
       "<Figure size 640x480 with 1 Axes>"
      ]
     },
     "metadata": {},
     "output_type": "display_data"
    },
    {
     "data": {
      "image/png": "[encoded data removed]",
      "text/plain": [
       "<Figure size 640x480 with 1 Axes>"
      ]
     },
     "metadata": {},
     "output_type": "display_data"
    },
    {
     "data": {
      "image/png": "[encoded data removed]",
      "text/plain": [
       "<Figure size 640x480 with 1 Axes>"
      ]
     },
     "metadata": {},
     "output_type": "display_data"
    }
   ],
   "source": [
    "data = x_train['Gender']\n",
    "\n",
    "# Histogram\n",
    "sns.histplot(data, kde=True)\n",
    "plt.show()\n",
    "\n",
    "data = x_train['Height']\n",
    "\n",
    "# Histogram\n",
    "sns.histplot(data, kde=True)\n",
    "plt.show()\n",
    "\n",
    "data = x_train['Weight']\n",
    "\n",
    "# Histogram\n",
    "sns.histplot(data, kde=True)\n",
    "plt.show()"
   ]
  },
  {
   "cell_type": "markdown",
   "metadata": {},
   "source": [
    "## Training the Data"
   ]
  },
  {
   "cell_type": "code",
   "execution_count": 239,
   "metadata": {},
   "outputs": [],
   "source": [
    "model = tf.keras.models.Sequential([\n",
    "    tf.keras.Input(shape=(3,)),\n",
    "    tf.keras.layers.Dense(32, activation='relu', kernel_regularizer=tf.keras.regularizers.l2(5e-4)),\n",
    "    tf.keras.layers.BatchNormalization(),\n",
    "    tf.keras.layers.Dropout(0.4),\n",
    "    tf.keras.layers.Dense(32, activation='relu', kernel_regularizer=tf.keras.regularizers.l2(5e-4)),\n",
    "    tf.keras.layers.BatchNormalization(),\n",
    "    tf.keras.layers.Dropout(0.4),\n",
    "    tf.keras.layers.Dense(6, activation='softmax', kernel_regularizer=tf.keras.regularizers.l2(5e-4))\n",
    "    ]) \n",
    "model.compile(optimizer = 'adam',\n",
    "                loss = 'sparse_categorical_crossentropy',\n",
    "                metrics = ['accuracy'])"
   ]
  },
  {
   "cell_type": "code",
   "execution_count": null,
   "metadata": {},
   "outputs": [],
   "source": [
    "print(f'Input shape: {model.input_shape}')\n",
    "print(f'Output shape: {model.output_shape}')"
   ]
  },
  {
   "cell_type": "code",
   "execution_count": 240,
   "metadata": {},
   "outputs": [
    {
     "data": {
      "text/html": [
       "<pre style=\"white-space:pre;overflow-x:auto;line-height:normal;font-family:Menlo,'DejaVu Sans Mono',consolas,'Courier New',monospace\"><span style=\"font-weight: bold\">Model: \"sequential_36\"</span>\n",
       "</pre>\n"
      ],
      "text/plain": [
       "\u001b[1mModel: \"sequential_36\"\u001b[0m\n"
      ]
     },
     "metadata": {},
     "output_type": "display_data"
    },
    {
     "data": {
      "text/html": [
       "<pre style=\"white-space:pre;overflow-x:auto;line-height:normal;font-family:Menlo,'DejaVu Sans Mono',consolas,'Courier New',monospace\">┏━━━━━━━━━━━━━━━━━━━━━━━━━━━━━━━━━┳━━━━━━━━━━━━━━━━━━━━━━━━┳━━━━━━━━━━━━━━━┓\n",
       "┃<span style=\"font-weight: bold\"> Layer (type)                    </span>┃<span style=\"font-weight: bold\"> Output Shape           </span>┃<span style=\"font-weight: bold\">       Param # </span>┃\n",
       "┡━━━━━━━━━━━━━━━━━━━━━━━━━━━━━━━━━╇━━━━━━━━━━━━━━━━━━━━━━━━╇━━━━━━━━━━━━━━━┩\n",
       "│ dense_104 (<span style=\"color: #0087ff; text-decoration-color: #0087ff\">Dense</span>)               │ (<span style=\"color: #00d7ff; text-decoration-color: #00d7ff\">None</span>, <span style=\"color: #00af00; text-decoration-color: #00af00\">32</span>)             │           <span style=\"color: #00af00; text-decoration-color: #00af00\">128</span> │\n",
       "├─────────────────────────────────┼────────────────────────┼───────────────┤\n",
       "│ batch_normalization_60          │ (<span style=\"color: #00d7ff; text-decoration-color: #00d7ff\">None</span>, <span style=\"color: #00af00; text-decoration-color: #00af00\">32</span>)             │           <span style=\"color: #00af00; text-decoration-color: #00af00\">128</span> │\n",
       "│ (<span style=\"color: #0087ff; text-decoration-color: #0087ff\">BatchNormalization</span>)            │                        │               │\n",
       "├─────────────────────────────────┼────────────────────────┼───────────────┤\n",
       "│ dropout_68 (<span style=\"color: #0087ff; text-decoration-color: #0087ff\">Dropout</span>)            │ (<span style=\"color: #00d7ff; text-decoration-color: #00d7ff\">None</span>, <span style=\"color: #00af00; text-decoration-color: #00af00\">32</span>)             │             <span style=\"color: #00af00; text-decoration-color: #00af00\">0</span> │\n",
       "├─────────────────────────────────┼────────────────────────┼───────────────┤\n",
       "│ dense_105 (<span style=\"color: #0087ff; text-decoration-color: #0087ff\">Dense</span>)               │ (<span style=\"color: #00d7ff; text-decoration-color: #00d7ff\">None</span>, <span style=\"color: #00af00; text-decoration-color: #00af00\">32</span>)             │         <span style=\"color: #00af00; text-decoration-color: #00af00\">1,056</span> │\n",
       "├─────────────────────────────────┼────────────────────────┼───────────────┤\n",
       "│ batch_normalization_61          │ (<span style=\"color: #00d7ff; text-decoration-color: #00d7ff\">None</span>, <span style=\"color: #00af00; text-decoration-color: #00af00\">32</span>)             │           <span style=\"color: #00af00; text-decoration-color: #00af00\">128</span> │\n",
       "│ (<span style=\"color: #0087ff; text-decoration-color: #0087ff\">BatchNormalization</span>)            │                        │               │\n",
       "├─────────────────────────────────┼────────────────────────┼───────────────┤\n",
       "│ dropout_69 (<span style=\"color: #0087ff; text-decoration-color: #0087ff\">Dropout</span>)            │ (<span style=\"color: #00d7ff; text-decoration-color: #00d7ff\">None</span>, <span style=\"color: #00af00; text-decoration-color: #00af00\">32</span>)             │             <span style=\"color: #00af00; text-decoration-color: #00af00\">0</span> │\n",
       "├─────────────────────────────────┼────────────────────────┼───────────────┤\n",
       "│ dense_106 (<span style=\"color: #0087ff; text-decoration-color: #0087ff\">Dense</span>)               │ (<span style=\"color: #00d7ff; text-decoration-color: #00d7ff\">None</span>, <span style=\"color: #00af00; text-decoration-color: #00af00\">6</span>)              │           <span style=\"color: #00af00; text-decoration-color: #00af00\">198</span> │\n",
       "└─────────────────────────────────┴────────────────────────┴───────────────┘\n",
       "</pre>\n"
      ],
      "text/plain": [
       "┏━━━━━━━━━━━━━━━━━━━━━━━━━━━━━━━━━┳━━━━━━━━━━━━━━━━━━━━━━━━┳━━━━━━━━━━━━━━━┓\n",
       "┃\u001b[1m \u001b[0m\u001b[1mLayer (type)                   \u001b[0m\u001b[1m \u001b[0m┃\u001b[1m \u001b[0m\u001b[1mOutput Shape          \u001b[0m\u001b[1m \u001b[0m┃\u001b[1m \u001b[0m\u001b[1m      Param #\u001b[0m\u001b[1m \u001b[0m┃\n",
       "┡━━━━━━━━━━━━━━━━━━━━━━━━━━━━━━━━━╇━━━━━━━━━━━━━━━━━━━━━━━━╇━━━━━━━━━━━━━━━┩\n",
       "│ dense_104 (\u001b[38;5;33mDense\u001b[0m)               │ (\u001b[38;5;45mNone\u001b[0m, \u001b[38;5;34m32\u001b[0m)             │           \u001b[38;5;34m128\u001b[0m │\n",
       "├─────────────────────────────────┼────────────────────────┼───────────────┤\n",
       "│ batch_normalization_60          │ (\u001b[38;5;45mNone\u001b[0m, \u001b[38;5;34m32\u001b[0m)             │           \u001b[38;5;34m128\u001b[0m │\n",
       "│ (\u001b[38;5;33mBatchNormalization\u001b[0m)            │                        │               │\n",
       "├─────────────────────────────────┼────────────────────────┼───────────────┤\n",
       "│ dropout_68 (\u001b[38;5;33mDropout\u001b[0m)            │ (\u001b[38;5;45mNone\u001b[0m, \u001b[38;5;34m32\u001b[0m)             │             \u001b[38;5;34m0\u001b[0m │\n",
       "├─────────────────────────────────┼────────────────────────┼───────────────┤\n",
       "│ dense_105 (\u001b[38;5;33mDense\u001b[0m)               │ (\u001b[38;5;45mNone\u001b[0m, \u001b[38;5;34m32\u001b[0m)             │         \u001b[38;5;34m1,056\u001b[0m │\n",
       "├─────────────────────────────────┼────────────────────────┼───────────────┤\n",
       "│ batch_normalization_61          │ (\u001b[38;5;45mNone\u001b[0m, \u001b[38;5;34m32\u001b[0m)             │           \u001b[38;5;34m128\u001b[0m │\n",
       "│ (\u001b[38;5;33mBatchNormalization\u001b[0m)            │                        │               │\n",
       "├─────────────────────────────────┼────────────────────────┼───────────────┤\n",
       "│ dropout_69 (\u001b[38;5;33mDropout\u001b[0m)            │ (\u001b[38;5;45mNone\u001b[0m, \u001b[38;5;34m32\u001b[0m)             │             \u001b[38;5;34m0\u001b[0m │\n",
       "├─────────────────────────────────┼────────────────────────┼───────────────┤\n",
       "│ dense_106 (\u001b[38;5;33mDense\u001b[0m)               │ (\u001b[38;5;45mNone\u001b[0m, \u001b[38;5;34m6\u001b[0m)              │           \u001b[38;5;34m198\u001b[0m │\n",
       "└─────────────────────────────────┴────────────────────────┴───────────────┘\n"
      ]
     },
     "metadata": {},
     "output_type": "display_data"
    },
    {
     "data": {
      "text/html": [
       "<pre style=\"white-space:pre;overflow-x:auto;line-height:normal;font-family:Menlo,'DejaVu Sans Mono',consolas,'Courier New',monospace\"><span style=\"font-weight: bold\"> Total params: </span><span style=\"color: #00af00; text-decoration-color: #00af00\">1,638</span> (6.40 KB)\n",
       "</pre>\n"
      ],
      "text/plain": [
       "\u001b[1m Total params: \u001b[0m\u001b[38;5;34m1,638\u001b[0m (6.40 KB)\n"
      ]
     },
     "metadata": {},
     "output_type": "display_data"
    },
    {
     "data": {
      "text/html": [
       "<pre style=\"white-space:pre;overflow-x:auto;line-height:normal;font-family:Menlo,'DejaVu Sans Mono',consolas,'Courier New',monospace\"><span style=\"font-weight: bold\"> Trainable params: </span><span style=\"color: #00af00; text-decoration-color: #00af00\">1,510</span> (5.90 KB)\n",
       "</pre>\n"
      ],
      "text/plain": [
       "\u001b[1m Trainable params: \u001b[0m\u001b[38;5;34m1,510\u001b[0m (5.90 KB)\n"
      ]
     },
     "metadata": {},
     "output_type": "display_data"
    },
    {
     "data": {
      "text/html": [
       "<pre style=\"white-space:pre;overflow-x:auto;line-height:normal;font-family:Menlo,'DejaVu Sans Mono',consolas,'Courier New',monospace\"><span style=\"font-weight: bold\"> Non-trainable params: </span><span style=\"color: #00af00; text-decoration-color: #00af00\">128</span> (512.00 B)\n",
       "</pre>\n"
      ],
      "text/plain": [
       "\u001b[1m Non-trainable params: \u001b[0m\u001b[38;5;34m128\u001b[0m (512.00 B)\n"
      ]
     },
     "metadata": {},
     "output_type": "display_data"
    }
   ],
   "source": [
    "model.summary()"
   ]
  },
  {
   "cell_type": "code",
   "execution_count": null,
   "metadata": {},
   "outputs": [
    {
     "name": "stdout",
     "output_type": "stream",
     "text": [
      "Epoch 1/1000\n",
      "9/9 - 3s - 328ms/step - accuracy: 0.1971 - loss: 2.4883 - val_accuracy: 0.1525 - val_loss: 1.8574\n",
      "Epoch 2/1000\n",
      "9/9 - 0s - 5ms/step - accuracy: 0.2409 - loss: 2.2775 - val_accuracy: 0.1525 - val_loss: 1.8084\n",
      "Epoch 3/1000\n",
      "9/9 - 0s - 7ms/step - accuracy: 0.3175 - loss: 2.0069 - val_accuracy: 0.2881 - val_loss: 1.7603\n",
      "Epoch 4/1000\n",
      "9/9 - 0s - 5ms/step - accuracy: 0.3248 - loss: 1.8073 - val_accuracy: 0.3220 - val_loss: 1.7173\n",
      "Epoch 5/1000\n",
      "9/9 - 0s - 5ms/step - accuracy: 0.3577 - loss: 1.9141 - val_accuracy: 0.4237 - val_loss: 1.6731\n",
      "Epoch 6/1000\n",
      "9/9 - 0s - 5ms/step - accuracy: 0.3796 - loss: 1.7182 - val_accuracy: 0.5593 - val_loss: 1.6284\n",
      "Epoch 7/1000\n",
      "9/9 - 0s - 5ms/step - accuracy: 0.4562 - loss: 1.5635 - val_accuracy: 0.5424 - val_loss: 1.5849\n",
      "Epoch 8/1000\n",
      "9/9 - 0s - 5ms/step - accuracy: 0.4562 - loss: 1.5357 - val_accuracy: 0.5085 - val_loss: 1.5428\n",
      "Epoch 9/1000\n",
      "9/9 - 0s - 5ms/step - accuracy: 0.4708 - loss: 1.4456 - val_accuracy: 0.5085 - val_loss: 1.4990\n",
      "Epoch 10/1000\n",
      "9/9 - 0s - 6ms/step - accuracy: 0.4964 - loss: 1.4132 - val_accuracy: 0.5085 - val_loss: 1.4568\n",
      "Epoch 11/1000\n",
      "9/9 - 0s - 6ms/step - accuracy: 0.5657 - loss: 1.3003 - val_accuracy: 0.5085 - val_loss: 1.4172\n",
      "Epoch 12/1000\n",
      "9/9 - 0s - 6ms/step - accuracy: 0.5511 - loss: 1.3159 - val_accuracy: 0.5085 - val_loss: 1.3780\n",
      "Epoch 13/1000\n",
      "9/9 - 0s - 5ms/step - accuracy: 0.5803 - loss: 1.2012 - val_accuracy: 0.5085 - val_loss: 1.3421\n",
      "Epoch 14/1000\n",
      "9/9 - 0s - 7ms/step - accuracy: 0.5584 - loss: 1.2121 - val_accuracy: 0.5085 - val_loss: 1.3031\n",
      "Epoch 15/1000\n",
      "9/9 - 0s - 9ms/step - accuracy: 0.5839 - loss: 1.1307 - val_accuracy: 0.5085 - val_loss: 1.2638\n",
      "Epoch 16/1000\n",
      "9/9 - 0s - 5ms/step - accuracy: 0.6496 - loss: 1.0836 - val_accuracy: 0.5424 - val_loss: 1.2257\n",
      "Epoch 17/1000\n",
      "9/9 - 0s - 5ms/step - accuracy: 0.6095 - loss: 1.1113 - val_accuracy: 0.5254 - val_loss: 1.1927\n",
      "Epoch 18/1000\n",
      "9/9 - 0s - 7ms/step - accuracy: 0.6277 - loss: 1.0878 - val_accuracy: 0.5254 - val_loss: 1.1599\n",
      "Epoch 19/1000\n",
      "9/9 - 0s - 5ms/step - accuracy: 0.6168 - loss: 1.0401 - val_accuracy: 0.5254 - val_loss: 1.1255\n",
      "Epoch 20/1000\n",
      "9/9 - 0s - 6ms/step - accuracy: 0.6350 - loss: 1.0562 - val_accuracy: 0.5254 - val_loss: 1.0918\n",
      "Epoch 21/1000\n",
      "9/9 - 0s - 4ms/step - accuracy: 0.6460 - loss: 0.9954 - val_accuracy: 0.5763 - val_loss: 1.0662\n",
      "Epoch 22/1000\n",
      "9/9 - 0s - 5ms/step - accuracy: 0.6168 - loss: 0.9794 - val_accuracy: 0.5932 - val_loss: 1.0406\n",
      "Epoch 23/1000\n",
      "9/9 - 0s - 6ms/step - accuracy: 0.6058 - loss: 1.0746 - val_accuracy: 0.5932 - val_loss: 1.0142\n",
      "Epoch 24/1000\n",
      "9/9 - 0s - 10ms/step - accuracy: 0.6314 - loss: 1.0043 - val_accuracy: 0.6102 - val_loss: 0.9909\n",
      "Epoch 25/1000\n",
      "9/9 - 0s - 5ms/step - accuracy: 0.6606 - loss: 0.9656 - val_accuracy: 0.6271 - val_loss: 0.9698\n",
      "Epoch 26/1000\n",
      "9/9 - 0s - 7ms/step - accuracy: 0.6788 - loss: 0.9546 - val_accuracy: 0.6271 - val_loss: 0.9486\n",
      "Epoch 27/1000\n",
      "9/9 - 0s - 5ms/step - accuracy: 0.6752 - loss: 0.9317 - val_accuracy: 0.6441 - val_loss: 0.9294\n",
      "Epoch 28/1000\n",
      "9/9 - 0s - 5ms/step - accuracy: 0.6715 - loss: 0.8195 - val_accuracy: 0.6610 - val_loss: 0.9110\n",
      "Epoch 29/1000\n",
      "9/9 - 0s - 7ms/step - accuracy: 0.6679 - loss: 0.9086 - val_accuracy: 0.6780 - val_loss: 0.8934\n",
      "Epoch 30/1000\n",
      "9/9 - 0s - 4ms/step - accuracy: 0.6825 - loss: 0.8339 - val_accuracy: 0.7119 - val_loss: 0.8734\n",
      "Epoch 31/1000\n",
      "9/9 - 0s - 5ms/step - accuracy: 0.6496 - loss: 0.8820 - val_accuracy: 0.7288 - val_loss: 0.8512\n",
      "Epoch 32/1000\n",
      "9/9 - 0s - 5ms/step - accuracy: 0.7190 - loss: 0.7888 - val_accuracy: 0.7288 - val_loss: 0.8353\n",
      "Epoch 33/1000\n",
      "9/9 - 0s - 9ms/step - accuracy: 0.6825 - loss: 0.8678 - val_accuracy: 0.7119 - val_loss: 0.8191\n",
      "Epoch 34/1000\n",
      "9/9 - 0s - 7ms/step - accuracy: 0.6825 - loss: 0.8919 - val_accuracy: 0.7119 - val_loss: 0.7996\n",
      "Epoch 35/1000\n",
      "9/9 - 0s - 5ms/step - accuracy: 0.7080 - loss: 0.8069 - val_accuracy: 0.7119 - val_loss: 0.7863\n",
      "Epoch 36/1000\n",
      "9/9 - 0s - 7ms/step - accuracy: 0.6752 - loss: 0.8512 - val_accuracy: 0.7119 - val_loss: 0.7748\n",
      "Epoch 37/1000\n",
      "9/9 - 0s - 5ms/step - accuracy: 0.6934 - loss: 0.8008 - val_accuracy: 0.7119 - val_loss: 0.7623\n",
      "Epoch 38/1000\n",
      "9/9 - 0s - 6ms/step - accuracy: 0.6715 - loss: 0.8166 - val_accuracy: 0.7119 - val_loss: 0.7513\n",
      "Epoch 39/1000\n",
      "9/9 - 0s - 5ms/step - accuracy: 0.6898 - loss: 0.8025 - val_accuracy: 0.7119 - val_loss: 0.7410\n",
      "Epoch 40/1000\n",
      "9/9 - 0s - 7ms/step - accuracy: 0.7263 - loss: 0.7629 - val_accuracy: 0.7288 - val_loss: 0.7280\n",
      "Epoch 41/1000\n",
      "9/9 - 0s - 5ms/step - accuracy: 0.7007 - loss: 0.8541 - val_accuracy: 0.7458 - val_loss: 0.7188\n",
      "Epoch 42/1000\n",
      "9/9 - 0s - 5ms/step - accuracy: 0.7007 - loss: 0.7653 - val_accuracy: 0.7288 - val_loss: 0.7132\n",
      "Epoch 43/1000\n",
      "9/9 - 0s - 7ms/step - accuracy: 0.7007 - loss: 0.7770 - val_accuracy: 0.7288 - val_loss: 0.7067\n",
      "Epoch 44/1000\n",
      "9/9 - 0s - 4ms/step - accuracy: 0.6752 - loss: 0.8275 - val_accuracy: 0.7288 - val_loss: 0.7063\n",
      "Epoch 45/1000\n",
      "9/9 - 0s - 5ms/step - accuracy: 0.7153 - loss: 0.7419 - val_accuracy: 0.7288 - val_loss: 0.6939\n",
      "Epoch 46/1000\n",
      "9/9 - 0s - 5ms/step - accuracy: 0.6934 - loss: 0.8001 - val_accuracy: 0.7288 - val_loss: 0.6804\n",
      "Epoch 47/1000\n",
      "9/9 - 0s - 7ms/step - accuracy: 0.7299 - loss: 0.7236 - val_accuracy: 0.7288 - val_loss: 0.6711\n",
      "Epoch 48/1000\n",
      "9/9 - 0s - 5ms/step - accuracy: 0.7336 - loss: 0.7048 - val_accuracy: 0.7288 - val_loss: 0.6602\n",
      "Epoch 49/1000\n",
      "9/9 - 0s - 5ms/step - accuracy: 0.7153 - loss: 0.7421 - val_accuracy: 0.7288 - val_loss: 0.6509\n",
      "Epoch 50/1000\n",
      "9/9 - 0s - 5ms/step - accuracy: 0.7628 - loss: 0.6698 - val_accuracy: 0.7458 - val_loss: 0.6424\n",
      "Epoch 51/1000\n",
      "9/9 - 0s - 7ms/step - accuracy: 0.7336 - loss: 0.6987 - val_accuracy: 0.7288 - val_loss: 0.6367\n",
      "Epoch 52/1000\n",
      "9/9 - 0s - 5ms/step - accuracy: 0.7628 - loss: 0.6729 - val_accuracy: 0.7458 - val_loss: 0.6303\n",
      "Epoch 53/1000\n",
      "9/9 - 0s - 5ms/step - accuracy: 0.7591 - loss: 0.6799 - val_accuracy: 0.7458 - val_loss: 0.6204\n",
      "Epoch 54/1000\n",
      "9/9 - 0s - 7ms/step - accuracy: 0.7226 - loss: 0.7381 - val_accuracy: 0.7458 - val_loss: 0.6086\n",
      "Epoch 55/1000\n",
      "9/9 - 0s - 5ms/step - accuracy: 0.7518 - loss: 0.6345 - val_accuracy: 0.7458 - val_loss: 0.5995\n",
      "Epoch 56/1000\n",
      "9/9 - 0s - 5ms/step - accuracy: 0.7372 - loss: 0.6461 - val_accuracy: 0.7458 - val_loss: 0.5924\n",
      "Epoch 57/1000\n",
      "9/9 - 0s - 7ms/step - accuracy: 0.7591 - loss: 0.6781 - val_accuracy: 0.7458 - val_loss: 0.5833\n",
      "Epoch 58/1000\n",
      "9/9 - 0s - 6ms/step - accuracy: 0.7591 - loss: 0.6652 - val_accuracy: 0.7458 - val_loss: 0.5801\n",
      "Epoch 59/1000\n",
      "9/9 - 0s - 5ms/step - accuracy: 0.7628 - loss: 0.6578 - val_accuracy: 0.7797 - val_loss: 0.5742\n",
      "Epoch 60/1000\n",
      "9/9 - 0s - 5ms/step - accuracy: 0.7263 - loss: 0.6904 - val_accuracy: 0.7797 - val_loss: 0.5709\n",
      "Epoch 61/1000\n",
      "9/9 - 0s - 5ms/step - accuracy: 0.7445 - loss: 0.7078 - val_accuracy: 0.7797 - val_loss: 0.5654\n",
      "Epoch 62/1000\n",
      "9/9 - 0s - 5ms/step - accuracy: 0.7847 - loss: 0.5948 - val_accuracy: 0.7797 - val_loss: 0.5547\n",
      "Epoch 63/1000\n",
      "9/9 - 0s - 5ms/step - accuracy: 0.7153 - loss: 0.6674 - val_accuracy: 0.7797 - val_loss: 0.5516\n",
      "Epoch 64/1000\n",
      "9/9 - 0s - 7ms/step - accuracy: 0.7591 - loss: 0.6038 - val_accuracy: 0.7966 - val_loss: 0.5503\n",
      "Epoch 65/1000\n",
      "9/9 - 0s - 5ms/step - accuracy: 0.7847 - loss: 0.5795 - val_accuracy: 0.7966 - val_loss: 0.5448\n",
      "Epoch 66/1000\n",
      "9/9 - 0s - 5ms/step - accuracy: 0.7883 - loss: 0.5940 - val_accuracy: 0.8305 - val_loss: 0.5441\n",
      "Epoch 67/1000\n",
      "9/9 - 0s - 7ms/step - accuracy: 0.7482 - loss: 0.6955 - val_accuracy: 0.8136 - val_loss: 0.5402\n",
      "Epoch 68/1000\n",
      "9/9 - 0s - 5ms/step - accuracy: 0.7299 - loss: 0.6942 - val_accuracy: 0.7966 - val_loss: 0.5393\n",
      "Epoch 69/1000\n",
      "9/9 - 0s - 11ms/step - accuracy: 0.7737 - loss: 0.6317 - val_accuracy: 0.7966 - val_loss: 0.5366\n",
      "Epoch 70/1000\n",
      "9/9 - 0s - 5ms/step - accuracy: 0.7737 - loss: 0.6121 - val_accuracy: 0.8305 - val_loss: 0.5313\n",
      "Epoch 71/1000\n",
      "9/9 - 0s - 5ms/step - accuracy: 0.7956 - loss: 0.5729 - val_accuracy: 0.8475 - val_loss: 0.5294\n",
      "Epoch 72/1000\n",
      "9/9 - 0s - 5ms/step - accuracy: 0.7774 - loss: 0.6294 - val_accuracy: 0.7966 - val_loss: 0.5304\n",
      "Epoch 73/1000\n",
      "9/9 - 0s - 5ms/step - accuracy: 0.7701 - loss: 0.5777 - val_accuracy: 0.7966 - val_loss: 0.5245\n",
      "Epoch 74/1000\n",
      "9/9 - 0s - 7ms/step - accuracy: 0.7591 - loss: 0.5983 - val_accuracy: 0.8305 - val_loss: 0.5221\n",
      "Epoch 75/1000\n",
      "9/9 - 0s - 5ms/step - accuracy: 0.7628 - loss: 0.5850 - val_accuracy: 0.7966 - val_loss: 0.5252\n",
      "Epoch 76/1000\n",
      "9/9 - 0s - 5ms/step - accuracy: 0.7701 - loss: 0.6567 - val_accuracy: 0.8136 - val_loss: 0.5233\n",
      "Epoch 77/1000\n",
      "9/9 - 0s - 7ms/step - accuracy: 0.7847 - loss: 0.5502 - val_accuracy: 0.8305 - val_loss: 0.5170\n",
      "Epoch 78/1000\n",
      "9/9 - 0s - 5ms/step - accuracy: 0.7883 - loss: 0.5811 - val_accuracy: 0.8305 - val_loss: 0.5132\n",
      "Epoch 79/1000\n",
      "9/9 - 0s - 7ms/step - accuracy: 0.7409 - loss: 0.6174 - val_accuracy: 0.8136 - val_loss: 0.5083\n",
      "Epoch 80/1000\n",
      "9/9 - 0s - 5ms/step - accuracy: 0.7993 - loss: 0.5388 - val_accuracy: 0.8305 - val_loss: 0.5061\n",
      "Epoch 81/1000\n",
      "9/9 - 0s - 5ms/step - accuracy: 0.8066 - loss: 0.5167 - val_accuracy: 0.7966 - val_loss: 0.5094\n",
      "Epoch 82/1000\n",
      "9/9 - 0s - 5ms/step - accuracy: 0.7847 - loss: 0.5877 - val_accuracy: 0.7966 - val_loss: 0.5066\n",
      "Epoch 83/1000\n",
      "9/9 - 0s - 5ms/step - accuracy: 0.7847 - loss: 0.5521 - val_accuracy: 0.8136 - val_loss: 0.5031\n",
      "Epoch 84/1000\n",
      "9/9 - 0s - 6ms/step - accuracy: 0.8029 - loss: 0.5421 - val_accuracy: 0.7966 - val_loss: 0.4974\n",
      "Epoch 85/1000\n",
      "9/9 - 0s - 7ms/step - accuracy: 0.7445 - loss: 0.6323 - val_accuracy: 0.7966 - val_loss: 0.4962\n",
      "Epoch 86/1000\n",
      "9/9 - 0s - 5ms/step - accuracy: 0.7518 - loss: 0.6280 - val_accuracy: 0.7966 - val_loss: 0.5004\n",
      "Epoch 87/1000\n",
      "9/9 - 0s - 7ms/step - accuracy: 0.7883 - loss: 0.5869 - val_accuracy: 0.7797 - val_loss: 0.5037\n",
      "Epoch 88/1000\n",
      "9/9 - 0s - 5ms/step - accuracy: 0.7372 - loss: 0.6346 - val_accuracy: 0.7966 - val_loss: 0.5102\n",
      "Epoch 89/1000\n",
      "9/9 - 0s - 6ms/step - accuracy: 0.7774 - loss: 0.6171 - val_accuracy: 0.7966 - val_loss: 0.5099\n",
      "Epoch 90/1000\n",
      "9/9 - 0s - 6ms/step - accuracy: 0.8066 - loss: 0.5540 - val_accuracy: 0.7966 - val_loss: 0.5143\n"
     ]
    }
   ],
   "source": [
    "early_stopping = tf.keras.callbacks.EarlyStopping(\n",
    "    monitor='val_loss',  # Can be changed to 'val_accuracy' if focusing on accuracy\n",
    "    patience=5, \n",
    "    restore_best_weights=True\n",
    ")\n",
    "\n",
    "history = model.fit(\n",
    "    x_train_augmented, y_train_augmented,\n",
    "    validation_data=(x_valid, y_valid),\n",
    "    epochs=100,\n",
    "    callbacks=[early_stopping],\n",
    "    batch_size=32,\n",
    "    verbose=2\n",
    ")"
   ]
  },
  {
   "cell_type": "code",
   "execution_count": 242,
   "metadata": {},
   "outputs": [
    {
     "data": {
      "image/png": "[encoded data removed]",
      "text/plain": [
       "<Figure size 1000x500 with 2 Axes>"
      ]
     },
     "metadata": {},
     "output_type": "display_data"
    }
   ],
   "source": [
    "# Get training and validation accuracies\n",
    "acc = history.history['accuracy']\n",
    "val_acc = history.history['val_accuracy']\n",
    "loss = history.history['loss']\n",
    "val_loss = history.history['val_loss']\n",
    "\n",
    "# Get number of epochs\n",
    "epochs = range(len(acc))\n",
    "\n",
    "fig, ax = plt.subplots(1, 2, figsize=(10, 5))\n",
    "fig.suptitle('Training and validation accuracy')\n",
    "\n",
    "for i, (data, label) in enumerate(zip([(acc, val_acc), (loss, val_loss)], [\"Accuracy\", \"Loss\"])):\n",
    "    ax[i].plot(epochs, data[0], 'r', label=\"Training \" + label)\n",
    "    ax[i].plot(epochs, data[1], 'b', label=\"Validation \" + label)\n",
    "    ax[i].legend()\n",
    "    ax[i].set_xlabel('epochs')\n",
    "\n",
    "plt.show()"
   ]
  },
  {
   "cell_type": "code",
   "execution_count": 243,
   "metadata": {},
   "outputs": [
    {
     "name": "stdout",
     "output_type": "stream",
     "text": [
      "\u001b[1m2/2\u001b[0m \u001b[32m━━━━━━━━━━━━━━━━━━━━\u001b[0m\u001b[37m\u001b[0m \u001b[1m0s\u001b[0m 54ms/step\n",
      "Accuracy: 86.44%\n"
     ]
    }
   ],
   "source": [
    "# Predict the model\n",
    "y_pred = model.predict(x_test)\n",
    "\n",
    "y_pred_class = np.argmax(y_pred, axis=1)\n",
    "\n",
    "accuracy = np.mean(y_test == y_pred_class)\n",
    "\n",
    "# Print out the accuracy that based on comparing the y_test and the predicted labelx\n",
    "print(f'Accuracy: {accuracy*100:.2f}%')"
   ]
  },
  {
   "cell_type": "code",
   "execution_count": null,
   "metadata": {},
   "outputs": [],
   "source": []
  }
 ],
 "metadata": {
  "kernelspec": {
   "display_name": "base",
   "language": "python",
   "name": "python3"
  },
  "language_info": {
   "codemirror_mode": {
    "name": "ipython",
    "version": 3
   },
   "file_extension": ".py",
   "mimetype": "text/x-python",
   "name": "python",
   "nbconvert_exporter": "python",
   "pygments_lexer": "ipython3",
   "version": "3.12.4"
  }
 },
 "nbformat": 4,
 "nbformat_minor": 2
}
