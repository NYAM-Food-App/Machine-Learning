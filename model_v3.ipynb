{
 "cells": [
  {
   "cell_type": "markdown",
   "metadata": {},
   "source": [
    "# Import Library"
   ]
  },
  {
   "cell_type": "code",
   "execution_count": 1,
   "metadata": {},
   "outputs": [],
   "source": [
    "import os\n",
    "import numpy as np\n",
    "import tensorflow as tf\n",
    "import matplotlib.pyplot as plt\n",
    "import pandas as pd\n",
    "import cv2\n",
    "from tensorflow.keras.models import Sequential, load_model\n",
    "from tensorflow.keras.layers import Conv2D, MaxPooling2D, Dense, Flatten, Dropout\n",
    "from tensorflow.keras import layers, models, optimizers\n",
    "from tensorflow.keras.utils import to_categorical\n",
    "from sklearn.model_selection import StratifiedShuffleSplit\n",
    "from tensorflow.keras.preprocessing.image import ImageDataGenerator\n",
    "from ipywidgets import widgets\n",
    "from tensorflow.keras.regularizers import l2\n",
    "from tensorflow.keras.layers import Dropout\n",
    "from io import BytesIO\n",
    "import shutil\n",
    "import re\n",
    "import random"
   ]
  },
  {
   "cell_type": "code",
   "execution_count": 2,
   "metadata": {},
   "outputs": [],
   "source": [
    "filePath = 'dataset/'\n",
    "\n",
    "fileName = []\n",
    "tag = []\n",
    "full_path = []\n",
    "labels = []\n",
    "for path, subdirs, files in os.walk(filePath):\n",
    "    for name in files:\n",
    "        full_path.append(os.path.join(path, name))\n",
    "        tag.append(path.split('/')[-1])\n",
    "        fileName.append(name)"
   ]
  },
  {
   "cell_type": "code",
   "execution_count": 3,
   "metadata": {},
   "outputs": [
    {
     "data": {
      "text/plain": [
       "ClassLabel\n",
       "ayam           698\n",
       "brokoli        600\n",
       "ikan           616\n",
       "kambing        600\n",
       "kembang kol    600\n",
       "kentang        600\n",
       "kol            600\n",
       "labu           600\n",
       "mentimun       600\n",
       "paprika        600\n",
       "sapi           620\n",
       "tahu           660\n",
       "telur          648\n",
       "tempe          699\n",
       "tomat          600\n",
       "udang          600\n",
       "wortel         600\n",
       "dtype: int64"
      ]
     },
     "execution_count": 3,
     "metadata": {},
     "output_type": "execute_result"
    }
   ],
   "source": [
    "dataset_path = 'dataset/'\n",
    "\n",
    "# Lists to store data\n",
    "file_names = []\n",
    "labels = []\n",
    "full_paths = []\n",
    "\n",
    "# Traverse the dataset directory\n",
    "for class_folder in sorted(os.listdir(dataset_path)):\n",
    "    class_folder_path = os.path.join(dataset_path, class_folder)\n",
    "    if os.path.isdir(class_folder_path):  # Check if it's a directory\n",
    "        for image_file in os.listdir(class_folder_path):\n",
    "            full_paths.append(os.path.join(class_folder_path, image_file))\n",
    "            file_names.append(image_file)\n",
    "            labels.append(class_folder)  # Use folder name as class label\n",
    "\n",
    "# Create a DataFrame\n",
    "data = {\n",
    "    'FileName': file_names,\n",
    "    'ClassLabel': labels,\n",
    "    'FullPath': full_paths\n",
    "}\n",
    "df = pd.DataFrame({\"FileName\": file_names, 'ClassLabel':labels, 'FullPath':full_path})\n",
    "df.groupby(['ClassLabel']).size()\n"
   ]
  },
  {
   "cell_type": "code",
   "execution_count": 4,
   "metadata": {},
   "outputs": [
    {
     "data": {
      "text/html": [
       "<div>\n",
       "<style scoped>\n",
       "    .dataframe tbody tr th:only-of-type {\n",
       "        vertical-align: middle;\n",
       "    }\n",
       "\n",
       "    .dataframe tbody tr th {\n",
       "        vertical-align: top;\n",
       "    }\n",
       "\n",
       "    .dataframe thead th {\n",
       "        text-align: right;\n",
       "    }\n",
       "</style>\n",
       "<table border=\"1\" class=\"dataframe\">\n",
       "  <thead>\n",
       "    <tr style=\"text-align: right;\">\n",
       "      <th></th>\n",
       "      <th>FileName</th>\n",
       "      <th>ClassLabel</th>\n",
       "      <th>FullPath</th>\n",
       "    </tr>\n",
       "  </thead>\n",
       "  <tbody>\n",
       "    <tr>\n",
       "      <th>0</th>\n",
       "      <td>ayam01.jpg</td>\n",
       "      <td>ayam</td>\n",
       "      <td>dataset/ayam\\ayam01.jpg</td>\n",
       "    </tr>\n",
       "    <tr>\n",
       "      <th>1</th>\n",
       "      <td>ayam10.jpeg</td>\n",
       "      <td>ayam</td>\n",
       "      <td>dataset/ayam\\ayam10.jpeg</td>\n",
       "    </tr>\n",
       "    <tr>\n",
       "      <th>2</th>\n",
       "      <td>ayam100.png</td>\n",
       "      <td>ayam</td>\n",
       "      <td>dataset/ayam\\ayam100.png</td>\n",
       "    </tr>\n",
       "    <tr>\n",
       "      <th>3</th>\n",
       "      <td>ayam101.png</td>\n",
       "      <td>ayam</td>\n",
       "      <td>dataset/ayam\\ayam101.png</td>\n",
       "    </tr>\n",
       "    <tr>\n",
       "      <th>4</th>\n",
       "      <td>ayam102.jpg</td>\n",
       "      <td>ayam</td>\n",
       "      <td>dataset/ayam\\ayam102.jpg</td>\n",
       "    </tr>\n",
       "  </tbody>\n",
       "</table>\n",
       "</div>"
      ],
      "text/plain": [
       "      FileName ClassLabel                  FullPath\n",
       "0   ayam01.jpg       ayam   dataset/ayam\\ayam01.jpg\n",
       "1  ayam10.jpeg       ayam  dataset/ayam\\ayam10.jpeg\n",
       "2  ayam100.png       ayam  dataset/ayam\\ayam100.png\n",
       "3  ayam101.png       ayam  dataset/ayam\\ayam101.png\n",
       "4  ayam102.jpg       ayam  dataset/ayam\\ayam102.jpg"
      ]
     },
     "execution_count": 4,
     "metadata": {},
     "output_type": "execute_result"
    }
   ],
   "source": [
    "df.head()"
   ]
  },
  {
   "cell_type": "code",
   "execution_count": 5,
   "metadata": {},
   "outputs": [],
   "source": [
    "x = df['FullPath'].values\n",
    "y = df['ClassLabel'].values\n",
    "\n",
    "# x adalah gambar dan y adalah label\n",
    "sss = StratifiedShuffleSplit(n_splits=1, test_size=0.3, random_state=300)\n",
    "\n",
    "# Pertama, bagi data menjadi train dan temp (yang akan dibagi lagi menjadi validasi dan testing)\n",
    "for train_index, temp_index in sss.split(x, y):\n",
    "    X_train, X_temp = x[train_index], x[temp_index]\n",
    "    y_train, y_temp = y[train_index], y[temp_index]\n",
    "\n",
    "# Kedua, bagi temp menjadi validation dan testing\n",
    "sss_temp = StratifiedShuffleSplit(n_splits=1, test_size=0.5, random_state=300)\n",
    "for val_index, test_index in sss_temp.split(X_temp, y_temp):\n",
    "    X_val, X_test = X_temp[val_index], X_temp[test_index]\n",
    "    y_val, y_test = y_temp[val_index], y_temp[test_index]\n"
   ]
  },
  {
   "cell_type": "code",
   "execution_count": 6,
   "metadata": {},
   "outputs": [
    {
     "name": "stdout",
     "output_type": "stream",
     "text": [
      "Training size: 7378\n",
      "Validation size: 1581\n",
      "Test size: 1582\n"
     ]
    }
   ],
   "source": [
    "print(f\"Training size: {len(X_train)}\")\n",
    "print(f\"Validation size: {len(X_val)}\")\n",
    "print(f\"Test size: {len(X_test)}\")"
   ]
  },
  {
   "cell_type": "code",
   "execution_count": 7,
   "metadata": {},
   "outputs": [],
   "source": [
    "DIMENSION = (224, 224, 3)\n",
    "IMG_SIZE = (224, 224)\n",
    "BATCH_SIZE = 32\n",
    "EPOCH = 15\n",
    "NUM_CLASSES = 17"
   ]
  },
  {
   "cell_type": "markdown",
   "metadata": {},
   "source": [
    "# Image Preprocessing"
   ]
  },
  {
   "cell_type": "code",
   "execution_count": 8,
   "metadata": {},
   "outputs": [],
   "source": [
    "#apply laplacian filter\n",
    "def PreProcess(path):\n",
    "    img = cv2.imread(path)\n",
    "    img_rgb = cv2.cvtColor(img, cv2.COLOR_BGR2RGB)\n",
    "    # img_gray = cv2.cvtColor(img_rgb, cv2.COLOR_GRAY2RGB)\n",
    "    blurred = cv2.GaussianBlur(img_rgb, (3, 3), 0)\n",
    "    laplace = cv2.Laplacian(blurred, cv2.CV_64F)\n",
    "    laplace_abs = cv2.convertScaleAbs(laplace)\n",
    "    sharpened = cv2.convertScaleAbs(img_rgb - laplace_abs)\n",
    "\n",
    "    plt.subplots(figsize=(10,5))\n",
    "    plt.subplot(1,2,1)\n",
    "    plt.imshow(img_rgb)\n",
    "    plt.title(\"Original\")\n",
    "\n",
    "    plt.subplot(1,2,2)\n",
    "    plt.imshow(sharpened)\n",
    "    plt.title(\"Sharpened\")\n",
    "\n",
    "    plt.show()\n",
    "\n"
   ]
  },
  {
   "cell_type": "code",
   "execution_count": 9,
   "metadata": {},
   "outputs": [],
   "source": [
    "def PreProcess1(path):\n",
    "    img = cv2.imread(path)\n",
    "    img_gray = cv2.cvtColor(img, cv2.COLOR_BGR2GRAY)\n",
    "    img_rgb = cv2.cvtColor(img, cv2.COLOR_GRAY2RGB)\n",
    "    \n",
    "    laplace = cv2.Laplacian(img_rgb, cv2.CV_64F, ksize=3)\n",
    "    laplace_abs = cv2.convertScaleAbs(laplace)\n",
    "\n",
    "    sharpened = cv2.convertScaleAbs(img_rgb - laplace_abs)\n",
    "\n",
    "    \n",
    "    # Display results\n",
    "    plt.subplots(figsize=(10,5))\n",
    "    plt.subplot(1,2,1)\n",
    "    plt.imshow(img_rgb, 0)\n",
    "    plt.title(\"Original\")\n",
    "    \n",
    "    plt.subplot(1,2,2)\n",
    "    plt.imshow(sharpened, 0)\n",
    "    plt.title(\"Sharpened\")\n",
    "    \n",
    "    plt.show()\n",
    "    \n",
    "    return sharpened"
   ]
  },
  {
   "cell_type": "code",
   "execution_count": 10,
   "metadata": {},
   "outputs": [],
   "source": [
    "def ImagePreprocess1(path):\n",
    "    # Load the image \n",
    "    image = cv2.imread(path) \n",
    "    img_rgb = cv2.cvtColor(image, cv2.COLOR_BGR2RGB)\n",
    "    img_resize = cv2.resize(img_rgb, IMG_SIZE)\n",
    "\n",
    "    # Create the sharpening kernel \n",
    "    kernel = np.array([[0, -1, 0], [-1, 5, -1], [0, -1, 0]]) \n",
    "\n",
    "    # Sharpen the image \n",
    "    sharpened_image = cv2.filter2D(img_resize, -1, kernel) \n",
    "    return sharpened_image"
   ]
  },
  {
   "cell_type": "code",
   "execution_count": 11,
   "metadata": {},
   "outputs": [],
   "source": [
    "preprocessed_img_train = [ImagePreprocess1(path) for path in X_train]\n",
    "X_train_preprocessed = np.array(preprocessed_img_train, dtype=np.float32)\n",
    "\n",
    "preprocessed_img_val = [ImagePreprocess1(path) for path in X_val]\n",
    "X_val_preprocessed = np.array(preprocessed_img_val, dtype=np.float32)\n",
    "\n",
    "preprocessed_img_test = [ImagePreprocess1(path) for path in X_test]\n",
    "X_test_preprocessed = np.array(preprocessed_img_test, dtype=np.float32)"
   ]
  },
  {
   "cell_type": "code",
   "execution_count": 12,
   "metadata": {},
   "outputs": [],
   "source": [
    "def changeLabel(name):\n",
    "    if name == \"ayam\":\n",
    "        return 0\n",
    "    elif name == \"brokoli\":\n",
    "        return 1\n",
    "    elif name == \"ikan\":\n",
    "        return 2\n",
    "    elif name == \"kambing\":\n",
    "        return 3\n",
    "    elif name == \"kembang kol\":\n",
    "        return 4\n",
    "    elif name == \"kentang\":\n",
    "        return 5\n",
    "    elif name == \"kol\":\n",
    "        return 6\n",
    "    elif name == \"labu\":\n",
    "        return 7\n",
    "    elif name == \"mentimun\":\n",
    "        return 8\n",
    "    elif name == \"paprika\":\n",
    "        return 9\n",
    "    elif name == \"sapi\":\n",
    "        return 10\n",
    "    elif name == \"tahu\":\n",
    "        return 11\n",
    "    elif name == \"telur\":\n",
    "        return 12\n",
    "    elif name == \"tempe\":\n",
    "        return 13\n",
    "    elif name == \"tomat\":\n",
    "        return 14\n",
    "    elif name == \"udang\":\n",
    "        return 15\n",
    "    elif name == \"wortel\":\n",
    "        return 16\n"
   ]
  },
  {
   "cell_type": "code",
   "execution_count": 13,
   "metadata": {},
   "outputs": [],
   "source": [
    "num_labels = np.array([changeLabel(i) for i in y_train], dtype=np.float32)\n",
    "val_labels = np.array([changeLabel(j) for j in y_val], dtype=np.float32)\n",
    "test_labels = np.array([changeLabel(k) for k in y_test], dtype=np.float32)\n",
    "y_train_one_hot = to_categorical(num_labels, num_classes=17)\n",
    "y_val_one_hot = to_categorical(val_labels, num_classes=17)\n",
    "y_test_one_hot = to_categorical(test_labels, num_classes=17)"
   ]
  },
  {
   "cell_type": "code",
   "execution_count": 14,
   "metadata": {},
   "outputs": [
    {
     "data": {
      "text/plain": [
       "array([ 5., 14.,  9., ...,  8.,  8., 10.], dtype=float32)"
      ]
     },
     "execution_count": 14,
     "metadata": {},
     "output_type": "execute_result"
    }
   ],
   "source": [
    "num_labels"
   ]
  },
  {
   "cell_type": "code",
   "execution_count": 15,
   "metadata": {},
   "outputs": [],
   "source": [
    "validation_img = (np.array(preprocessed_img_val), y_val_one_hot)"
   ]
  },
  {
   "cell_type": "code",
   "execution_count": 16,
   "metadata": {},
   "outputs": [],
   "source": [
    "# Define fill mode.\n",
    "FILL_MODE = 'nearest'\n",
    "\n",
    "# Create the augmentation model.\n",
    "data_augmentation = tf.keras.Sequential([\n",
    "    # Add the augmentation layers\n",
    "    tf.keras.layers.RandomFlip(\"horizontal\"),\n",
    "    tf.keras.layers.RandomRotation(0.2, fill_mode=FILL_MODE),\n",
    "    tf.keras.layers.RandomZoom(0.2, fill_mode=FILL_MODE)\n",
    "    ])"
   ]
  },
  {
   "cell_type": "markdown",
   "metadata": {},
   "source": [
    "# Train into model  "
   ]
  },
  {
   "cell_type": "code",
   "execution_count": 17,
   "metadata": {},
   "outputs": [],
   "source": [
    "base_model = tf.keras.applications.MobileNetV2(\n",
    "    input_shape=DIMENSION,\n",
    "    include_top=False,\n",
    "    weights='imagenet'\n",
    ")\n",
    "\n",
    "# Fine-tuning: Freeze the first 30 layers, allow the rest to train\n",
    "for layer in base_model.layers[:30]:\n",
    "    layer.trainable = False\n",
    "\n",
    "model = models.Sequential([\n",
    "    data_augmentation,\n",
    "    tf.keras.layers.Rescaling(1./255),  # Normalize the image\n",
    "    base_model,  # Input layer\n",
    "    layers.GlobalAveragePooling2D(),\n",
    "    layers.Flatten(),  # Flatten the output for dense layers\n",
    "    layers.Dense(64, activation='relu', kernel_regularizer=tf.keras.regularizers.l2(0.01)),  # Fully connected layer\n",
    "    layers.BatchNormalization(),\n",
    "    layers.Dropout(0.5),\n",
    "    layers.Dense(17, activation='softmax')  # Output layer (17 classes)\n",
    "])\n"
   ]
  },
  {
   "cell_type": "code",
   "execution_count": 18,
   "metadata": {},
   "outputs": [
    {
     "data": {
      "text/html": [
       "<pre style=\"white-space:pre;overflow-x:auto;line-height:normal;font-family:Menlo,'DejaVu Sans Mono',consolas,'Courier New',monospace\"><span style=\"font-weight: bold\">Model: \"sequential_1\"</span>\n",
       "</pre>\n"
      ],
      "text/plain": [
       "\u001b[1mModel: \"sequential_1\"\u001b[0m\n"
      ]
     },
     "metadata": {},
     "output_type": "display_data"
    },
    {
     "data": {
      "text/html": [
       "<pre style=\"white-space:pre;overflow-x:auto;line-height:normal;font-family:Menlo,'DejaVu Sans Mono',consolas,'Courier New',monospace\">┏━━━━━━━━━━━━━━━━━━━━━━━━━━━━━━━━━┳━━━━━━━━━━━━━━━━━━━━━━━━┳━━━━━━━━━━━━━━━┓\n",
       "┃<span style=\"font-weight: bold\"> Layer (type)                    </span>┃<span style=\"font-weight: bold\"> Output Shape           </span>┃<span style=\"font-weight: bold\">       Param # </span>┃\n",
       "┡━━━━━━━━━━━━━━━━━━━━━━━━━━━━━━━━━╇━━━━━━━━━━━━━━━━━━━━━━━━╇━━━━━━━━━━━━━━━┩\n",
       "│ sequential (<span style=\"color: #0087ff; text-decoration-color: #0087ff\">Sequential</span>)         │ (<span style=\"color: #00d7ff; text-decoration-color: #00d7ff\">None</span>, <span style=\"color: #00af00; text-decoration-color: #00af00\">224</span>, <span style=\"color: #00af00; text-decoration-color: #00af00\">224</span>, <span style=\"color: #00af00; text-decoration-color: #00af00\">3</span>)    │             <span style=\"color: #00af00; text-decoration-color: #00af00\">0</span> │\n",
       "├─────────────────────────────────┼────────────────────────┼───────────────┤\n",
       "│ rescaling (<span style=\"color: #0087ff; text-decoration-color: #0087ff\">Rescaling</span>)           │ (<span style=\"color: #00d7ff; text-decoration-color: #00d7ff\">None</span>, <span style=\"color: #00af00; text-decoration-color: #00af00\">224</span>, <span style=\"color: #00af00; text-decoration-color: #00af00\">224</span>, <span style=\"color: #00af00; text-decoration-color: #00af00\">3</span>)    │             <span style=\"color: #00af00; text-decoration-color: #00af00\">0</span> │\n",
       "├─────────────────────────────────┼────────────────────────┼───────────────┤\n",
       "│ mobilenetv2_1.00_224            │ (<span style=\"color: #00d7ff; text-decoration-color: #00d7ff\">None</span>, <span style=\"color: #00af00; text-decoration-color: #00af00\">7</span>, <span style=\"color: #00af00; text-decoration-color: #00af00\">7</span>, <span style=\"color: #00af00; text-decoration-color: #00af00\">1280</span>)     │     <span style=\"color: #00af00; text-decoration-color: #00af00\">2,257,984</span> │\n",
       "│ (<span style=\"color: #0087ff; text-decoration-color: #0087ff\">Functional</span>)                    │                        │               │\n",
       "├─────────────────────────────────┼────────────────────────┼───────────────┤\n",
       "│ global_average_pooling2d        │ (<span style=\"color: #00d7ff; text-decoration-color: #00d7ff\">None</span>, <span style=\"color: #00af00; text-decoration-color: #00af00\">1280</span>)           │             <span style=\"color: #00af00; text-decoration-color: #00af00\">0</span> │\n",
       "│ (<span style=\"color: #0087ff; text-decoration-color: #0087ff\">GlobalAveragePooling2D</span>)        │                        │               │\n",
       "├─────────────────────────────────┼────────────────────────┼───────────────┤\n",
       "│ flatten (<span style=\"color: #0087ff; text-decoration-color: #0087ff\">Flatten</span>)               │ (<span style=\"color: #00d7ff; text-decoration-color: #00d7ff\">None</span>, <span style=\"color: #00af00; text-decoration-color: #00af00\">1280</span>)           │             <span style=\"color: #00af00; text-decoration-color: #00af00\">0</span> │\n",
       "├─────────────────────────────────┼────────────────────────┼───────────────┤\n",
       "│ dense (<span style=\"color: #0087ff; text-decoration-color: #0087ff\">Dense</span>)                   │ (<span style=\"color: #00d7ff; text-decoration-color: #00d7ff\">None</span>, <span style=\"color: #00af00; text-decoration-color: #00af00\">64</span>)             │        <span style=\"color: #00af00; text-decoration-color: #00af00\">81,984</span> │\n",
       "├─────────────────────────────────┼────────────────────────┼───────────────┤\n",
       "│ batch_normalization             │ (<span style=\"color: #00d7ff; text-decoration-color: #00d7ff\">None</span>, <span style=\"color: #00af00; text-decoration-color: #00af00\">64</span>)             │           <span style=\"color: #00af00; text-decoration-color: #00af00\">256</span> │\n",
       "│ (<span style=\"color: #0087ff; text-decoration-color: #0087ff\">BatchNormalization</span>)            │                        │               │\n",
       "├─────────────────────────────────┼────────────────────────┼───────────────┤\n",
       "│ dropout (<span style=\"color: #0087ff; text-decoration-color: #0087ff\">Dropout</span>)               │ (<span style=\"color: #00d7ff; text-decoration-color: #00d7ff\">None</span>, <span style=\"color: #00af00; text-decoration-color: #00af00\">64</span>)             │             <span style=\"color: #00af00; text-decoration-color: #00af00\">0</span> │\n",
       "├─────────────────────────────────┼────────────────────────┼───────────────┤\n",
       "│ dense_1 (<span style=\"color: #0087ff; text-decoration-color: #0087ff\">Dense</span>)                 │ (<span style=\"color: #00d7ff; text-decoration-color: #00d7ff\">None</span>, <span style=\"color: #00af00; text-decoration-color: #00af00\">17</span>)             │         <span style=\"color: #00af00; text-decoration-color: #00af00\">1,105</span> │\n",
       "└─────────────────────────────────┴────────────────────────┴───────────────┘\n",
       "</pre>\n"
      ],
      "text/plain": [
       "┏━━━━━━━━━━━━━━━━━━━━━━━━━━━━━━━━━┳━━━━━━━━━━━━━━━━━━━━━━━━┳━━━━━━━━━━━━━━━┓\n",
       "┃\u001b[1m \u001b[0m\u001b[1mLayer (type)                   \u001b[0m\u001b[1m \u001b[0m┃\u001b[1m \u001b[0m\u001b[1mOutput Shape          \u001b[0m\u001b[1m \u001b[0m┃\u001b[1m \u001b[0m\u001b[1m      Param #\u001b[0m\u001b[1m \u001b[0m┃\n",
       "┡━━━━━━━━━━━━━━━━━━━━━━━━━━━━━━━━━╇━━━━━━━━━━━━━━━━━━━━━━━━╇━━━━━━━━━━━━━━━┩\n",
       "│ sequential (\u001b[38;5;33mSequential\u001b[0m)         │ (\u001b[38;5;45mNone\u001b[0m, \u001b[38;5;34m224\u001b[0m, \u001b[38;5;34m224\u001b[0m, \u001b[38;5;34m3\u001b[0m)    │             \u001b[38;5;34m0\u001b[0m │\n",
       "├─────────────────────────────────┼────────────────────────┼───────────────┤\n",
       "│ rescaling (\u001b[38;5;33mRescaling\u001b[0m)           │ (\u001b[38;5;45mNone\u001b[0m, \u001b[38;5;34m224\u001b[0m, \u001b[38;5;34m224\u001b[0m, \u001b[38;5;34m3\u001b[0m)    │             \u001b[38;5;34m0\u001b[0m │\n",
       "├─────────────────────────────────┼────────────────────────┼───────────────┤\n",
       "│ mobilenetv2_1.00_224            │ (\u001b[38;5;45mNone\u001b[0m, \u001b[38;5;34m7\u001b[0m, \u001b[38;5;34m7\u001b[0m, \u001b[38;5;34m1280\u001b[0m)     │     \u001b[38;5;34m2,257,984\u001b[0m │\n",
       "│ (\u001b[38;5;33mFunctional\u001b[0m)                    │                        │               │\n",
       "├─────────────────────────────────┼────────────────────────┼───────────────┤\n",
       "│ global_average_pooling2d        │ (\u001b[38;5;45mNone\u001b[0m, \u001b[38;5;34m1280\u001b[0m)           │             \u001b[38;5;34m0\u001b[0m │\n",
       "│ (\u001b[38;5;33mGlobalAveragePooling2D\u001b[0m)        │                        │               │\n",
       "├─────────────────────────────────┼────────────────────────┼───────────────┤\n",
       "│ flatten (\u001b[38;5;33mFlatten\u001b[0m)               │ (\u001b[38;5;45mNone\u001b[0m, \u001b[38;5;34m1280\u001b[0m)           │             \u001b[38;5;34m0\u001b[0m │\n",
       "├─────────────────────────────────┼────────────────────────┼───────────────┤\n",
       "│ dense (\u001b[38;5;33mDense\u001b[0m)                   │ (\u001b[38;5;45mNone\u001b[0m, \u001b[38;5;34m64\u001b[0m)             │        \u001b[38;5;34m81,984\u001b[0m │\n",
       "├─────────────────────────────────┼────────────────────────┼───────────────┤\n",
       "│ batch_normalization             │ (\u001b[38;5;45mNone\u001b[0m, \u001b[38;5;34m64\u001b[0m)             │           \u001b[38;5;34m256\u001b[0m │\n",
       "│ (\u001b[38;5;33mBatchNormalization\u001b[0m)            │                        │               │\n",
       "├─────────────────────────────────┼────────────────────────┼───────────────┤\n",
       "│ dropout (\u001b[38;5;33mDropout\u001b[0m)               │ (\u001b[38;5;45mNone\u001b[0m, \u001b[38;5;34m64\u001b[0m)             │             \u001b[38;5;34m0\u001b[0m │\n",
       "├─────────────────────────────────┼────────────────────────┼───────────────┤\n",
       "│ dense_1 (\u001b[38;5;33mDense\u001b[0m)                 │ (\u001b[38;5;45mNone\u001b[0m, \u001b[38;5;34m17\u001b[0m)             │         \u001b[38;5;34m1,105\u001b[0m │\n",
       "└─────────────────────────────────┴────────────────────────┴───────────────┘\n"
      ]
     },
     "metadata": {},
     "output_type": "display_data"
    },
    {
     "data": {
      "text/html": [
       "<pre style=\"white-space:pre;overflow-x:auto;line-height:normal;font-family:Menlo,'DejaVu Sans Mono',consolas,'Courier New',monospace\"><span style=\"font-weight: bold\"> Total params: </span><span style=\"color: #00af00; text-decoration-color: #00af00\">2,341,329</span> (8.93 MB)\n",
       "</pre>\n"
      ],
      "text/plain": [
       "\u001b[1m Total params: \u001b[0m\u001b[38;5;34m2,341,329\u001b[0m (8.93 MB)\n"
      ]
     },
     "metadata": {},
     "output_type": "display_data"
    },
    {
     "data": {
      "text/html": [
       "<pre style=\"white-space:pre;overflow-x:auto;line-height:normal;font-family:Menlo,'DejaVu Sans Mono',consolas,'Courier New',monospace\"><span style=\"font-weight: bold\"> Trainable params: </span><span style=\"color: #00af00; text-decoration-color: #00af00\">2,287,553</span> (8.73 MB)\n",
       "</pre>\n"
      ],
      "text/plain": [
       "\u001b[1m Trainable params: \u001b[0m\u001b[38;5;34m2,287,553\u001b[0m (8.73 MB)\n"
      ]
     },
     "metadata": {},
     "output_type": "display_data"
    },
    {
     "data": {
      "text/html": [
       "<pre style=\"white-space:pre;overflow-x:auto;line-height:normal;font-family:Menlo,'DejaVu Sans Mono',consolas,'Courier New',monospace\"><span style=\"font-weight: bold\"> Non-trainable params: </span><span style=\"color: #00af00; text-decoration-color: #00af00\">53,776</span> (210.06 KB)\n",
       "</pre>\n"
      ],
      "text/plain": [
       "\u001b[1m Non-trainable params: \u001b[0m\u001b[38;5;34m53,776\u001b[0m (210.06 KB)\n"
      ]
     },
     "metadata": {},
     "output_type": "display_data"
    }
   ],
   "source": [
    "model.build(input_shape=(None, *DIMENSION))\n",
    "model.summary()"
   ]
  },
  {
   "cell_type": "code",
   "execution_count": 19,
   "metadata": {},
   "outputs": [
    {
     "name": "stdout",
     "output_type": "stream",
     "text": [
      "(7378, 224, 224, 3)\n",
      "(1582, 224, 224, 3)\n"
     ]
    }
   ],
   "source": [
    "print(X_train_preprocessed.shape)\n",
    "print(X_test_preprocessed.shape)\n"
   ]
  },
  {
   "cell_type": "code",
   "execution_count": 20,
   "metadata": {},
   "outputs": [],
   "source": [
    "model.compile(\n",
    "    optimizer=optimizers.Adam(1e-4), \n",
    "    loss='categorical_crossentropy',\n",
    "    metrics=['accuracy'])"
   ]
  },
  {
   "cell_type": "code",
   "execution_count": 21,
   "metadata": {},
   "outputs": [
    {
     "name": "stdout",
     "output_type": "stream",
     "text": [
      "predictions have shape: (7378, 17)\n"
     ]
    }
   ],
   "source": [
    "try:\n",
    "\tmodel.evaluate(X_train_preprocessed, y_train_one_hot, verbose=False)\n",
    "except:\n",
    "\tprint(\"Your model is not compatible with the dataset you defined earlier. Check that the loss function, last layer and label_mode are compatible with one another.\")\n",
    "else:\n",
    "\tpredictions = model.predict(X_train_preprocessed, verbose=False)\n",
    "\tprint(f\"predictions have shape: {predictions.shape}\")"
   ]
  },
  {
   "cell_type": "code",
   "execution_count": 22,
   "metadata": {},
   "outputs": [
    {
     "name": "stdout",
     "output_type": "stream",
     "text": [
      "Input shape: (None, 224, 224, 3)\n",
      "Output shape: (None, 17)\n"
     ]
    }
   ],
   "source": [
    "print(f'Input shape: {model.input_shape}')\n",
    "print(f'Output shape: {model.output_shape}')"
   ]
  },
  {
   "cell_type": "code",
   "execution_count": 23,
   "metadata": {},
   "outputs": [
    {
     "name": "stdout",
     "output_type": "stream",
     "text": [
      "(1581, 224, 224, 3)\n",
      "(1581, 17)\n"
     ]
    }
   ],
   "source": [
    "features = np.array(validation_img[0])  # Convert features list to a NumPy array\n",
    "labels = np.array(validation_img[1])    # Convert labels list to a NumPy array\n",
    "\n",
    "print(features.shape)  # Features shape\n",
    "print(labels.shape)    # Labels shape"
   ]
  },
  {
   "cell_type": "code",
   "execution_count": 24,
   "metadata": {},
   "outputs": [
    {
     "name": "stdout",
     "output_type": "stream",
     "text": [
      "Epoch 1/15\n",
      "\u001b[1m231/231\u001b[0m \u001b[32m━━━━━━━━━━━━━━━━━━━━\u001b[0m\u001b[37m\u001b[0m \u001b[1m0s\u001b[0m 1s/step - accuracy: 0.4433 - loss: 3.2774\n",
      "Epoch 1: loss improved from inf to 2.50466, saving model to saved_models_v3_image_2/weights-improvment-01-2.50.keras\n",
      "\u001b[1m231/231\u001b[0m \u001b[32m━━━━━━━━━━━━━━━━━━━━\u001b[0m\u001b[37m\u001b[0m \u001b[1m378s\u001b[0m 2s/step - accuracy: 0.4441 - loss: 3.2740 - val_accuracy: 0.7805 - val_loss: 1.9551\n",
      "Epoch 2/15\n",
      "\u001b[1m231/231\u001b[0m \u001b[32m━━━━━━━━━━━━━━━━━━━━\u001b[0m\u001b[37m\u001b[0m \u001b[1m0s\u001b[0m 1s/step - accuracy: 0.8513 - loss: 1.7230\n",
      "Epoch 2: loss improved from 2.50466 to 1.66387, saving model to saved_models_v3_image_2/weights-improvment-02-1.66.keras\n",
      "\u001b[1m231/231\u001b[0m \u001b[32m━━━━━━━━━━━━━━━━━━━━\u001b[0m\u001b[37m\u001b[0m \u001b[1m347s\u001b[0m 2s/step - accuracy: 0.8514 - loss: 1.7228 - val_accuracy: 0.8368 - val_loss: 1.6677\n",
      "Epoch 3/15\n",
      "\u001b[1m231/231\u001b[0m \u001b[32m━━━━━━━━━━━━━━━━━━━━\u001b[0m\u001b[37m\u001b[0m \u001b[1m0s\u001b[0m 1s/step - accuracy: 0.8902 - loss: 1.4947\n",
      "Epoch 3: loss improved from 1.66387 to 1.45053, saving model to saved_models_v3_image_2/weights-improvment-03-1.45.keras\n",
      "\u001b[1m231/231\u001b[0m \u001b[32m━━━━━━━━━━━━━━━━━━━━\u001b[0m\u001b[37m\u001b[0m \u001b[1m345s\u001b[0m 1s/step - accuracy: 0.8902 - loss: 1.4945 - val_accuracy: 0.8824 - val_loss: 1.4152\n",
      "Epoch 4/15\n",
      "\u001b[1m231/231\u001b[0m \u001b[32m━━━━━━━━━━━━━━━━━━━━\u001b[0m\u001b[37m\u001b[0m \u001b[1m0s\u001b[0m 1s/step - accuracy: 0.9190 - loss: 1.3117\n",
      "Epoch 4: loss improved from 1.45053 to 1.28448, saving model to saved_models_v3_image_2/weights-improvment-04-1.28.keras\n",
      "\u001b[1m231/231\u001b[0m \u001b[32m━━━━━━━━━━━━━━━━━━━━\u001b[0m\u001b[37m\u001b[0m \u001b[1m343s\u001b[0m 1s/step - accuracy: 0.9190 - loss: 1.3116 - val_accuracy: 0.8918 - val_loss: 1.3176\n",
      "Epoch 5/15\n",
      "\u001b[1m231/231\u001b[0m \u001b[32m━━━━━━━━━━━━━━━━━━━━\u001b[0m\u001b[37m\u001b[0m \u001b[1m0s\u001b[0m 1s/step - accuracy: 0.9366 - loss: 1.1740\n",
      "Epoch 5: loss improved from 1.28448 to 1.15117, saving model to saved_models_v3_image_2/weights-improvment-05-1.15.keras\n",
      "\u001b[1m231/231\u001b[0m \u001b[32m━━━━━━━━━━━━━━━━━━━━\u001b[0m\u001b[37m\u001b[0m \u001b[1m344s\u001b[0m 1s/step - accuracy: 0.9366 - loss: 1.1739 - val_accuracy: 0.9039 - val_loss: 1.2305\n",
      "Epoch 6/15\n",
      "\u001b[1m231/231\u001b[0m \u001b[32m━━━━━━━━━━━━━━━━━━━━\u001b[0m\u001b[37m\u001b[0m \u001b[1m0s\u001b[0m 1s/step - accuracy: 0.9432 - loss: 1.0554\n",
      "Epoch 6: loss improved from 1.15117 to 1.02215, saving model to saved_models_v3_image_2/weights-improvment-06-1.02.keras\n",
      "\u001b[1m231/231\u001b[0m \u001b[32m━━━━━━━━━━━━━━━━━━━━\u001b[0m\u001b[37m\u001b[0m \u001b[1m344s\u001b[0m 1s/step - accuracy: 0.9432 - loss: 1.0552 - val_accuracy: 0.8994 - val_loss: 1.1587\n",
      "Epoch 7/15\n",
      "\u001b[1m231/231\u001b[0m \u001b[32m━━━━━━━━━━━━━━━━━━━━\u001b[0m\u001b[37m\u001b[0m \u001b[1m0s\u001b[0m 1s/step - accuracy: 0.9535 - loss: 0.9436\n",
      "Epoch 7: loss improved from 1.02215 to 0.91724, saving model to saved_models_v3_image_2/weights-improvment-07-0.92.keras\n",
      "\u001b[1m231/231\u001b[0m \u001b[32m━━━━━━━━━━━━━━━━━━━━\u001b[0m\u001b[37m\u001b[0m \u001b[1m344s\u001b[0m 1s/step - accuracy: 0.9535 - loss: 0.9435 - val_accuracy: 0.9114 - val_loss: 1.0290\n",
      "Epoch 8/15\n",
      "\u001b[1m231/231\u001b[0m \u001b[32m━━━━━━━━━━━━━━━━━━━━\u001b[0m\u001b[37m\u001b[0m \u001b[1m0s\u001b[0m 1s/step - accuracy: 0.9570 - loss: 0.8403\n",
      "Epoch 8: loss improved from 0.91724 to 0.82996, saving model to saved_models_v3_image_2/weights-improvment-08-0.83.keras\n",
      "\u001b[1m231/231\u001b[0m \u001b[32m━━━━━━━━━━━━━━━━━━━━\u001b[0m\u001b[37m\u001b[0m \u001b[1m345s\u001b[0m 1s/step - accuracy: 0.9570 - loss: 0.8403 - val_accuracy: 0.9298 - val_loss: 0.8987\n",
      "Epoch 9/15\n",
      "\u001b[1m231/231\u001b[0m \u001b[32m━━━━━━━━━━━━━━━━━━━━\u001b[0m\u001b[37m\u001b[0m \u001b[1m0s\u001b[0m 1s/step - accuracy: 0.9690 - loss: 0.7325\n",
      "Epoch 9: loss improved from 0.82996 to 0.71568, saving model to saved_models_v3_image_2/weights-improvment-09-0.72.keras\n",
      "\u001b[1m231/231\u001b[0m \u001b[32m━━━━━━━━━━━━━━━━━━━━\u001b[0m\u001b[37m\u001b[0m \u001b[1m345s\u001b[0m 1s/step - accuracy: 0.9690 - loss: 0.7324 - val_accuracy: 0.9285 - val_loss: 0.8365\n",
      "Epoch 10/15\n",
      "\u001b[1m231/231\u001b[0m \u001b[32m━━━━━━━━━━━━━━━━━━━━\u001b[0m\u001b[37m\u001b[0m \u001b[1m0s\u001b[0m 1s/step - accuracy: 0.9722 - loss: 0.6403\n",
      "Epoch 10: loss improved from 0.71568 to 0.62531, saving model to saved_models_v3_image_2/weights-improvment-10-0.63.keras\n",
      "\u001b[1m231/231\u001b[0m \u001b[32m━━━━━━━━━━━━━━━━━━━━\u001b[0m\u001b[37m\u001b[0m \u001b[1m347s\u001b[0m 2s/step - accuracy: 0.9722 - loss: 0.6402 - val_accuracy: 0.9311 - val_loss: 0.7260\n",
      "Epoch 11/15\n",
      "\u001b[1m231/231\u001b[0m \u001b[32m━━━━━━━━━━━━━━━━━━━━\u001b[0m\u001b[37m\u001b[0m \u001b[1m0s\u001b[0m 1s/step - accuracy: 0.9713 - loss: 0.5767\n",
      "Epoch 11: loss improved from 0.62531 to 0.56951, saving model to saved_models_v3_image_2/weights-improvment-11-0.57.keras\n",
      "\u001b[1m231/231\u001b[0m \u001b[32m━━━━━━━━━━━━━━━━━━━━\u001b[0m\u001b[37m\u001b[0m \u001b[1m346s\u001b[0m 1s/step - accuracy: 0.9713 - loss: 0.5767 - val_accuracy: 0.9190 - val_loss: 0.7207\n",
      "Epoch 12/15\n",
      "\u001b[1m231/231\u001b[0m \u001b[32m━━━━━━━━━━━━━━━━━━━━\u001b[0m\u001b[37m\u001b[0m \u001b[1m0s\u001b[0m 1s/step - accuracy: 0.9724 - loss: 0.5039\n",
      "Epoch 12: loss improved from 0.56951 to 0.48685, saving model to saved_models_v3_image_2/weights-improvment-12-0.49.keras\n",
      "\u001b[1m231/231\u001b[0m \u001b[32m━━━━━━━━━━━━━━━━━━━━\u001b[0m\u001b[37m\u001b[0m \u001b[1m348s\u001b[0m 2s/step - accuracy: 0.9724 - loss: 0.5038 - val_accuracy: 0.9298 - val_loss: 0.6065\n",
      "Epoch 13/15\n",
      "\u001b[1m231/231\u001b[0m \u001b[32m━━━━━━━━━━━━━━━━━━━━\u001b[0m\u001b[37m\u001b[0m \u001b[1m0s\u001b[0m 1s/step - accuracy: 0.9762 - loss: 0.4404\n",
      "Epoch 13: loss improved from 0.48685 to 0.43113, saving model to saved_models_v3_image_2/weights-improvment-13-0.43.keras\n",
      "\u001b[1m231/231\u001b[0m \u001b[32m━━━━━━━━━━━━━━━━━━━━\u001b[0m\u001b[37m\u001b[0m \u001b[1m336s\u001b[0m 1s/step - accuracy: 0.9762 - loss: 0.4404 - val_accuracy: 0.9336 - val_loss: 0.5727\n",
      "Epoch 14/15\n",
      "\u001b[1m231/231\u001b[0m \u001b[32m━━━━━━━━━━━━━━━━━━━━\u001b[0m\u001b[37m\u001b[0m \u001b[1m0s\u001b[0m 1s/step - accuracy: 0.9755 - loss: 0.3949\n",
      "Epoch 14: loss improved from 0.43113 to 0.38334, saving model to saved_models_v3_image_2/weights-improvment-14-0.38.keras\n",
      "\u001b[1m231/231\u001b[0m \u001b[32m━━━━━━━━━━━━━━━━━━━━\u001b[0m\u001b[37m\u001b[0m \u001b[1m335s\u001b[0m 1s/step - accuracy: 0.9755 - loss: 0.3949 - val_accuracy: 0.9355 - val_loss: 0.5022\n",
      "Epoch 15/15\n",
      "\u001b[1m231/231\u001b[0m \u001b[32m━━━━━━━━━━━━━━━━━━━━\u001b[0m\u001b[37m\u001b[0m \u001b[1m0s\u001b[0m 1s/step - accuracy: 0.9804 - loss: 0.3373\n",
      "Epoch 15: loss improved from 0.38334 to 0.32926, saving model to saved_models_v3_image_2/weights-improvment-15-0.33.keras\n",
      "\u001b[1m231/231\u001b[0m \u001b[32m━━━━━━━━━━━━━━━━━━━━\u001b[0m\u001b[37m\u001b[0m \u001b[1m337s\u001b[0m 1s/step - accuracy: 0.9804 - loss: 0.3373 - val_accuracy: 0.9228 - val_loss: 0.5403\n"
     ]
    }
   ],
   "source": [
    "os.makedirs('saved_models_v3_image_2', exist_ok=True)\n",
    "checkpoint_filepath = 'saved_models_v3_image_2/weights-improvment-{epoch:02d}-{loss:.2f}.keras'\n",
    "model_checkpoint_callback = tf.keras.callbacks.ModelCheckpoint(\n",
    "    filepath=checkpoint_filepath,\n",
    "    monitor='loss',\n",
    "    verbose=1,\n",
    "    mode='min',\n",
    "    save_best_only=True\n",
    ")\n",
    "\n",
    "early_stop = tf.keras.callbacks.EarlyStopping(monitor='val_loss', patience=5, restore_best_weights=True)\n",
    "\n",
    "history = model.fit(\n",
    "    X_train_preprocessed, \n",
    "    y_train_one_hot, \n",
    "    epochs=EPOCH, \n",
    "    batch_size=BATCH_SIZE, \n",
    "    validation_data=(X_val_preprocessed, y_val_one_hot),\n",
    "    callbacks=[model_checkpoint_callback, early_stop]\n",
    ")"
   ]
  },
  {
   "cell_type": "code",
   "execution_count": 25,
   "metadata": {},
   "outputs": [
    {
     "data": {
      "image/png": "[encoded data removed]",
      "text/plain": [
       "<Figure size 1000x500 with 2 Axes>"
      ]
     },
     "metadata": {},
     "output_type": "display_data"
    }
   ],
   "source": [
    "acc = history.history['accuracy']\n",
    "val_acc = history.history['val_accuracy']\n",
    "loss = history.history['loss']\n",
    "val_loss = history.history['val_loss']\n",
    "\n",
    "epochs = range(len(acc))\n",
    "\n",
    "fig, ax = plt.subplots(1, 2, figsize=(10, 5))\n",
    "fig.suptitle('Training and validation accuracy')\n",
    "\n",
    "for i, (data, label) in enumerate(zip([(acc, val_acc), (loss, val_loss)], [\"Accuracy\", \"Loss\"])):\n",
    "    ax[i].plot(epochs, data[0], 'r', label=\"Training \" + label)\n",
    "    ax[i].plot(epochs, data[1], 'b', label=\"Validation \" + label)\n",
    "    ax[i].legend()\n",
    "    ax[i].set_xlabel('epochs')\n",
    "\n",
    "plt.show()"
   ]
  },
  {
   "cell_type": "code",
   "execution_count": null,
   "metadata": {},
   "outputs": [],
   "source": [
    "# model = load_model(\"saved_models_v3_image_2/weights-improvment-15-0.33.keras\")"
   ]
  },
  {
   "cell_type": "code",
   "execution_count": 27,
   "metadata": {},
   "outputs": [
    {
     "data": {
      "application/vnd.jupyter.widget-view+json": {
       "model_id": "d0efb939fa884746880cba675f69e54d",
       "version_major": 2,
       "version_minor": 0
      },
      "text/plain": [
       "FileUpload(value={}, accept='image/*', description='Upload', multiple=True)"
      ]
     },
     "metadata": {},
     "output_type": "display_data"
    },
    {
     "data": {
      "application/vnd.jupyter.widget-view+json": {
       "model_id": "e5ed689c3af74439a6e458ed403795fe",
       "version_major": 2,
       "version_minor": 0
      },
      "text/plain": [
       "Output()"
      ]
     },
     "metadata": {},
     "output_type": "display_data"
    }
   ],
   "source": [
    "# Create the uploader widget\n",
    "uploader = widgets.FileUpload(accept=\"image/*\", multiple=True)\n",
    "display(uploader)\n",
    "\n",
    "# Create an output widget\n",
    "out = widgets.Output()\n",
    "display(out)\n",
    "\n",
    "# Function to process and predict uploaded images\n",
    "def file_predict(filename, file, out):\n",
    "    try:\n",
    "        # Load the image with a target size of (224, 224)\n",
    "        image = tf.keras.utils.load_img(file, target_size=(224, 224))\n",
    "        image = tf.keras.utils.img_to_array(image)\n",
    "        image = np.expand_dims(image, axis=0)\n",
    "\n",
    "        # Predict using the model\n",
    "        prediction = model.predict(image, verbose=0)[0]\n",
    "\n",
    "        # Display the results\n",
    "        with out:\n",
    "            print(f'\\nModel output: {prediction}')\n",
    "            prediction_index = np.argmax(prediction)\n",
    "            classes = [\"ayam\", \"brokoli\", \"ikan\", \"kambing\", \"kembang kol\", \"kentang\", \"kol\", \"labu\", \"mentimun\", \"paprika\", \"sapi\", \"tahu\", \"telur\", \"tempe\", \"tomat\", \"udang\", \"wortel\"]\n",
    "            predicted_class = classes[prediction_index]\n",
    "            print(f'{filename} is {predicted_class}')\n",
    "    except Exception as e:\n",
    "        with out:\n",
    "            print(f\"Error processing {filename}: {str(e)}\")\n",
    "            \n",
    "# Callback function to handle uploaded files\n",
    "def on_upload_change(change):\n",
    "    items = change.new  # Access the uploaded files\n",
    "    for filename, file_data in items.items():  # Iterate through files\n",
    "        try:\n",
    "            # Extract content and wrap in BytesIO for prediction\n",
    "            file_jpgdata = BytesIO(file_data['content'])\n",
    "            file_predict(filename, file_jpgdata, out)\n",
    "        except Exception as e:\n",
    "            with out:\n",
    "                print(f\"Error processing {filename}: {str(e)}\")\n",
    "\n",
    "# Attach the callback function to the uploader widget\n",
    "uploader.observe(on_upload_change, names='value')"
   ]
  },
  {
   "cell_type": "code",
   "execution_count": null,
   "metadata": {},
   "outputs": [],
   "source": [
    "# model.save(\"model_v3_acc_98.04_loss_0.33.keras\")"
   ]
  },
  {
   "cell_type": "code",
   "execution_count": null,
   "metadata": {},
   "outputs": [],
   "source": []
  }
 ],
 "metadata": {
  "kernelspec": {
   "display_name": "base",
   "language": "python",
   "name": "python3"
  },
  "language_info": {
   "codemirror_mode": {
    "name": "ipython",
    "version": 3
   },
   "file_extension": ".py",
   "mimetype": "text/x-python",
   "name": "python",
   "nbconvert_exporter": "python",
   "pygments_lexer": "ipython3",
   "version": "3.12.7"
  }
 },
 "nbformat": 4,
 "nbformat_minor": 2
}
