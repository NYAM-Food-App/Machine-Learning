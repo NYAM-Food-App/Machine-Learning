{
 "cells": [
  {
   "cell_type": "code",
   "execution_count": null,
   "metadata": {},
   "outputs": [],
   "source": [
    "import os\n",
    "import random\n",
    "import matplotlib.pyplot as plt\n",
    "import tensorflow as tf\n",
    "from PIL import Image, ImageDraw, ImageFont"
   ]
  },
  {
   "cell_type": "code",
   "execution_count": 1,
   "metadata": {},
   "outputs": [
    {
     "ename": "ModuleNotFoundError",
     "evalue": "No module named 'google'",
     "output_type": "error",
     "traceback": [
      "\u001b[1;31m---------------------------------------------------------------------------\u001b[0m",
      "\u001b[1;31mModuleNotFoundError\u001b[0m                       Traceback (most recent call last)",
      "Cell \u001b[1;32mIn[1], line 1\u001b[0m\n\u001b[1;32m----> 1\u001b[0m \u001b[38;5;28;01mfrom\u001b[39;00m \u001b[38;5;21;01mgoogle\u001b[39;00m\u001b[38;5;21;01m.\u001b[39;00m\u001b[38;5;21;01mcolab\u001b[39;00m \u001b[38;5;28;01mimport\u001b[39;00m drive\n\u001b[0;32m      2\u001b[0m drive\u001b[38;5;241m.\u001b[39mmount(\u001b[38;5;124m'\u001b[39m\u001b[38;5;124m/content/drive\u001b[39m\u001b[38;5;124m'\u001b[39m)\n",
      "\u001b[1;31mModuleNotFoundError\u001b[0m: No module named 'google'"
     ]
    }
   ],
   "source": [
    "from google.colab import drive\n",
    "drive.mount('/content/drive')"
   ]
  },
  {
   "cell_type": "code",
   "execution_count": 2,
   "metadata": {},
   "outputs": [
    {
     "ename": "FileNotFoundError",
     "evalue": "[WinError 3] The system cannot find the path specified: '/content/drive/Shared drives/Machine Learning/DATASET/INGREDIENTS/'",
     "output_type": "error",
     "traceback": [
      "\u001b[1;31m---------------------------------------------------------------------------\u001b[0m",
      "\u001b[1;31mFileNotFoundError\u001b[0m                         Traceback (most recent call last)",
      "Cell \u001b[1;32mIn[2], line 4\u001b[0m\n\u001b[0;32m      1\u001b[0m \u001b[38;5;28;01mimport\u001b[39;00m \u001b[38;5;21;01mos\u001b[39;00m\n\u001b[0;32m      3\u001b[0m \u001b[38;5;66;03m#path\u001b[39;00m\n\u001b[1;32m----> 4\u001b[0m \u001b[43mos\u001b[49m\u001b[38;5;241;43m.\u001b[39;49m\u001b[43mchdir\u001b[49m\u001b[43m(\u001b[49m\u001b[38;5;124;43m'\u001b[39;49m\u001b[38;5;124;43m/content/drive/Shared drives/Machine Learning/DATASET/INGREDIENTS/\u001b[39;49m\u001b[38;5;124;43m'\u001b[39;49m\u001b[43m)\u001b[49m\n\u001b[0;32m      5\u001b[0m \u001b[38;5;28mprint\u001b[39m(\u001b[38;5;124m\"\u001b[39m\u001b[38;5;124mCurrent working directory:\u001b[39m\u001b[38;5;124m\"\u001b[39m, os\u001b[38;5;241m.\u001b[39mgetcwd())\n\u001b[0;32m      7\u001b[0m get_ipython()\u001b[38;5;241m.\u001b[39msystem(\u001b[38;5;124m'\u001b[39m\u001b[38;5;124mls \u001b[39m\u001b[38;5;124m\"\u001b[39m\u001b[38;5;124m{\u001b[39m\u001b[38;5;124mos.getcwd()}\u001b[39m\u001b[38;5;124m\"\u001b[39m\u001b[38;5;124m'\u001b[39m)\n",
      "\u001b[1;31mFileNotFoundError\u001b[0m: [WinError 3] The system cannot find the path specified: '/content/drive/Shared drives/Machine Learning/DATASET/INGREDIENTS/'"
     ]
    }
   ],
   "source": [
    "import os\n",
    "\n",
    "#path\n",
    "os.chdir('/content/drive/Shared drives/Machine Learning/DATASET/INGREDIENTS/')\n",
    "print(\"Current working directory:\", os.getcwd())\n",
    "\n",
    "!ls \"{os.getcwd()}\""
   ]
  },
  {
   "cell_type": "code",
   "execution_count": 3,
   "metadata": {},
   "outputs": [
    {
     "name": "stdout",
     "output_type": "stream",
     "text": [
      "Subfolders in directory: ['.git']\n",
      "No images found in the specified directories.\n"
     ]
    }
   ],
   "source": [
    "subfolders = [f for f in os.listdir(os.getcwd()) if os.path.isdir(f)]\n",
    "print(\"Subfolders in directory:\", subfolders)\n",
    "\n",
    "example_imgs = []\n",
    "\n",
    "for subfolder in subfolders:\n",
    "    subfolder_path = os.path.join(os.getcwd(), subfolder)\n",
    "    image_files = os.listdir(subfolder_path)\n",
    "\n",
    "    image_extensions = ('.jpeg', '.jpg', '.png')\n",
    "    for file in image_files:\n",
    "        if file.endswith(image_extensions):\n",
    "            img = Image.open(os.path.join(subfolder_path, file))\n",
    "            example_imgs.append(img)\n",
    "\n",
    "num_images = len(example_imgs)\n",
    "if num_images == 0:\n",
    "    print(\"No images found in the specified directories.\")\n",
    "else:\n",
    "    w, h = example_imgs[0].size\n",
    "    grid = Image.new('RGBA', size=(3 * w, (num_images // 3 + 1) * h))\n",
    "    grid_w, grid_h = grid.size\n",
    "    ls = grid_w / 3\n",
    "\n",
    "    for i, img in enumerate(example_imgs):\n",
    "        grid.paste(img, box=(i % 3 * w, i // 3 * h))\n",
    "\n",
    "    # Menampilkan gambar\n",
    "    plt.figure(figsize=(18, 10))\n",
    "    plt.title(\"Example Images\", fontsize=18)\n",
    "    plt.imshow(grid)\n",
    "    plt.xticks([ls - ls / 2, ls * 2 - ls / 2, ls * 3 - ls / 2],\n",
    "               [f\"Image {i+1}\" for i in range(min(3, num_images))], fontsize=15)\n",
    "    plt.tick_params(axis=u'both', which=u'both', length=0)\n",
    "    plt.yticks([])\n",
    "    plt.show()"
   ]
  },
  {
   "cell_type": "code",
   "execution_count": 4,
   "metadata": {},
   "outputs": [
    {
     "ename": "ModuleNotFoundError",
     "evalue": "No module named 'PIL'",
     "output_type": "error",
     "traceback": [
      "\u001b[1;31m---------------------------------------------------------------------------\u001b[0m",
      "\u001b[1;31mModuleNotFoundError\u001b[0m                       Traceback (most recent call last)",
      "Cell \u001b[1;32mIn[4], line 2\u001b[0m\n\u001b[0;32m      1\u001b[0m \u001b[38;5;66;03m#from keras.preprocessing import image\u001b[39;00m\n\u001b[1;32m----> 2\u001b[0m \u001b[38;5;28;01mfrom\u001b[39;00m \u001b[38;5;21;01mPIL\u001b[39;00m \u001b[38;5;28;01mimport\u001b[39;00m Image, ImageDraw, ImageFont\n\u001b[0;32m      4\u001b[0m ayam_img \u001b[38;5;241m=\u001b[39m Image\u001b[38;5;241m.\u001b[39mopen(\u001b[38;5;124m\"\u001b[39m\u001b[38;5;124mdagingayam/daging_ayam (239).jpg\u001b[39m\u001b[38;5;124m\"\u001b[39m)\n\u001b[0;32m      6\u001b[0m example_imgs \u001b[38;5;241m=\u001b[39m [ayam_img, ayam_img, ayam_img]\n",
      "\u001b[1;31mModuleNotFoundError\u001b[0m: No module named 'PIL'"
     ]
    }
   ],
   "source": [
    "#from keras.preprocessing import image\n",
    "from PIL import Image, ImageDraw, ImageFont\n",
    "\n",
    "ayam_img = Image.open(\"dagingayam/daging_ayam (239).jpg\")\n",
    "\n",
    "example_imgs = [ayam_img, ayam_img, ayam_img]\n",
    "\n",
    "w, h = example_imgs[1].size\n",
    "grid = Image.new('RGBA', size=(3*w, h))\n",
    "grid_w, grid_h = grid.size\n",
    "ls = grid_w/3\n",
    "\n",
    "for i, img in enumerate(example_imgs):\n",
    "    grid.paste(img, box=(i%3*w, i//3*h))\n",
    "\n",
    "plt.figure(figsize=(18, 10))\n",
    "plt.title(\"Example Images\", fontsize=18)\n",
    "plt.imshow(grid)\n",
    "plt.xticks([ls - ls/2, ls*2-ls/2, ls*3 - ls/2], (\"Daging Ayam\", \"Daging Ayam\", \"Daging Ayam\"), fontsize=15)\n",
    "plt.tick_params(axis=u'both', which=u'both',length=0)\n",
    "plt.yticks([])\n",
    "plt.show()"
   ]
  },
  {
   "cell_type": "code",
   "execution_count": 5,
   "metadata": {},
   "outputs": [],
   "source": [
    "def train_val_datasets(dataset):\n",
    "    train_size = int(0.8 * len(dataset))\n",
    "    train_dataset = dataset.take(train_size)\n",
    "    val_dataset = dataset.skip(train_size)\n",
    "    return train_dataset, val_dataset"
   ]
  },
  {
   "cell_type": "code",
   "execution_count": null,
   "metadata": {},
   "outputs": [],
   "source": []
  }
 ],
 "metadata": {
  "kernelspec": {
   "display_name": "Python 3",
   "language": "python",
   "name": "python3"
  },
  "language_info": {
   "codemirror_mode": {
    "name": "ipython",
    "version": 3
   },
   "file_extension": ".py",
   "mimetype": "text/x-python",
   "name": "python",
   "nbconvert_exporter": "python",
   "pygments_lexer": "ipython3",
   "version": "3.12.7"
  }
 },
 "nbformat": 4,
 "nbformat_minor": 2
}
