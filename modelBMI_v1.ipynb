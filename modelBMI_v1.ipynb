{
 "cells": [
  {
   "cell_type": "markdown",
   "metadata": {},
   "source": [
    "# Multi-Class Prediction"
   ]
  },
  {
   "cell_type": "markdown",
   "metadata": {},
   "source": [
    "## Import the Libraries"
   ]
  },
  {
   "cell_type": "code",
   "execution_count": 1,
   "metadata": {},
   "outputs": [],
   "source": [
    "from sklearn.model_selection import train_test_split, KFold\n",
    "from sklearn.utils import resample\n",
    "import seaborn as sns\n",
    "import pandas as pd\n",
    "import tensorflow as tf\n",
    "import matplotlib.pyplot as plt\n",
    "import numpy as np\n",
    "import  os"
   ]
  },
  {
   "cell_type": "markdown",
   "metadata": {},
   "source": [
    "## Gathering Data"
   ]
  },
  {
   "cell_type": "markdown",
   "metadata": {},
   "source": [
    "*Combine and Load the train data table*"
   ]
  },
  {
   "cell_type": "code",
   "execution_count": 2,
   "metadata": {},
   "outputs": [
    {
     "data": {
      "text/html": [
       "<div>\n",
       "<style scoped>\n",
       "    .dataframe tbody tr th:only-of-type {\n",
       "        vertical-align: middle;\n",
       "    }\n",
       "\n",
       "    .dataframe tbody tr th {\n",
       "        vertical-align: top;\n",
       "    }\n",
       "\n",
       "    .dataframe thead th {\n",
       "        text-align: right;\n",
       "    }\n",
       "</style>\n",
       "<table border=\"1\" class=\"dataframe\">\n",
       "  <thead>\n",
       "    <tr style=\"text-align: right;\">\n",
       "      <th></th>\n",
       "      <th>Gender</th>\n",
       "      <th>Height</th>\n",
       "      <th>Weight</th>\n",
       "      <th>Index</th>\n",
       "    </tr>\n",
       "  </thead>\n",
       "  <tbody>\n",
       "    <tr>\n",
       "      <th>0</th>\n",
       "      <td>Male</td>\n",
       "      <td>161</td>\n",
       "      <td>89</td>\n",
       "      <td>4</td>\n",
       "    </tr>\n",
       "    <tr>\n",
       "      <th>1</th>\n",
       "      <td>Male</td>\n",
       "      <td>179</td>\n",
       "      <td>127</td>\n",
       "      <td>4</td>\n",
       "    </tr>\n",
       "    <tr>\n",
       "      <th>2</th>\n",
       "      <td>Male</td>\n",
       "      <td>172</td>\n",
       "      <td>139</td>\n",
       "      <td>5</td>\n",
       "    </tr>\n",
       "    <tr>\n",
       "      <th>3</th>\n",
       "      <td>Male</td>\n",
       "      <td>153</td>\n",
       "      <td>104</td>\n",
       "      <td>5</td>\n",
       "    </tr>\n",
       "    <tr>\n",
       "      <th>4</th>\n",
       "      <td>Male</td>\n",
       "      <td>165</td>\n",
       "      <td>68</td>\n",
       "      <td>2</td>\n",
       "    </tr>\n",
       "  </tbody>\n",
       "</table>\n",
       "</div>"
      ],
      "text/plain": [
       "  Gender  Height  Weight  Index\n",
       "0   Male     161      89      4\n",
       "1   Male     179     127      4\n",
       "2   Male     172     139      5\n",
       "3   Male     153     104      5\n",
       "4   Male     165      68      2"
      ]
     },
     "execution_count": 2,
     "metadata": {},
     "output_type": "execute_result"
    }
   ],
   "source": [
    "TRAIN_DT = pd.concat( \n",
    "    map(pd.read_csv, ['csv/bmi_train.csv', 'csv/bmi.csv']), ignore_index=True) \n",
    "TRAIN_DT.head()"
   ]
  },
  {
   "cell_type": "markdown",
   "metadata": {},
   "source": [
    "*Load the validation data table*"
   ]
  },
  {
   "cell_type": "code",
   "execution_count": 3,
   "metadata": {},
   "outputs": [
    {
     "data": {
      "text/html": [
       "<div>\n",
       "<style scoped>\n",
       "    .dataframe tbody tr th:only-of-type {\n",
       "        vertical-align: middle;\n",
       "    }\n",
       "\n",
       "    .dataframe tbody tr th {\n",
       "        vertical-align: top;\n",
       "    }\n",
       "\n",
       "    .dataframe thead th {\n",
       "        text-align: right;\n",
       "    }\n",
       "</style>\n",
       "<table border=\"1\" class=\"dataframe\">\n",
       "  <thead>\n",
       "    <tr style=\"text-align: right;\">\n",
       "      <th></th>\n",
       "      <th>Gender</th>\n",
       "      <th>Height</th>\n",
       "      <th>Weight</th>\n",
       "    </tr>\n",
       "  </thead>\n",
       "  <tbody>\n",
       "    <tr>\n",
       "      <th>0</th>\n",
       "      <td>Male</td>\n",
       "      <td>161</td>\n",
       "      <td>103</td>\n",
       "    </tr>\n",
       "    <tr>\n",
       "      <th>1</th>\n",
       "      <td>Male</td>\n",
       "      <td>180</td>\n",
       "      <td>75</td>\n",
       "    </tr>\n",
       "    <tr>\n",
       "      <th>2</th>\n",
       "      <td>Male</td>\n",
       "      <td>174</td>\n",
       "      <td>95</td>\n",
       "    </tr>\n",
       "    <tr>\n",
       "      <th>3</th>\n",
       "      <td>Female</td>\n",
       "      <td>179</td>\n",
       "      <td>103</td>\n",
       "    </tr>\n",
       "    <tr>\n",
       "      <th>4</th>\n",
       "      <td>Female</td>\n",
       "      <td>192</td>\n",
       "      <td>140</td>\n",
       "    </tr>\n",
       "  </tbody>\n",
       "</table>\n",
       "</div>"
      ],
      "text/plain": [
       "   Gender  Height  Weight\n",
       "0    Male     161     103\n",
       "1    Male     180      75\n",
       "2    Male     174      95\n",
       "3  Female     179     103\n",
       "4  Female     192     140"
      ]
     },
     "execution_count": 3,
     "metadata": {},
     "output_type": "execute_result"
    }
   ],
   "source": [
    "VALIDATION_DT = pd.read_csv('csv/bmi_validation.csv')\n",
    "VALIDATION_DT.head()"
   ]
  },
  {
   "cell_type": "markdown",
   "metadata": {},
   "source": [
    "## Assessing Data"
   ]
  },
  {
   "cell_type": "code",
   "execution_count": 4,
   "metadata": {},
   "outputs": [
    {
     "name": "stdout",
     "output_type": "stream",
     "text": [
      "<class 'pandas.core.frame.DataFrame'>\n",
      "RangeIndex: 900 entries, 0 to 899\n",
      "Data columns (total 4 columns):\n",
      " #   Column  Non-Null Count  Dtype \n",
      "---  ------  --------------  ----- \n",
      " 0   Gender  900 non-null    object\n",
      " 1   Height  900 non-null    int64 \n",
      " 2   Weight  900 non-null    int64 \n",
      " 3   Index   900 non-null    int64 \n",
      "dtypes: int64(3), object(1)\n",
      "memory usage: 28.3+ KB\n"
     ]
    }
   ],
   "source": [
    "TRAIN_DT.info()"
   ]
  },
  {
   "cell_type": "code",
   "execution_count": 5,
   "metadata": {},
   "outputs": [
    {
     "name": "stdout",
     "output_type": "stream",
     "text": [
      "<class 'pandas.core.frame.DataFrame'>\n",
      "RangeIndex: 100 entries, 0 to 99\n",
      "Data columns (total 3 columns):\n",
      " #   Column  Non-Null Count  Dtype \n",
      "---  ------  --------------  ----- \n",
      " 0   Gender  100 non-null    object\n",
      " 1   Height  100 non-null    int64 \n",
      " 2   Weight  100 non-null    int64 \n",
      "dtypes: int64(2), object(1)\n",
      "memory usage: 2.5+ KB\n"
     ]
    }
   ],
   "source": [
    "VALIDATION_DT.info()"
   ]
  },
  {
   "cell_type": "markdown",
   "metadata": {},
   "source": [
    "*Looking for empty or null data/cell in dataset*"
   ]
  },
  {
   "cell_type": "code",
   "execution_count": 6,
   "metadata": {},
   "outputs": [
    {
     "data": {
      "text/plain": [
       "Gender    0\n",
       "Height    0\n",
       "Weight    0\n",
       "Index     0\n",
       "dtype: int64"
      ]
     },
     "execution_count": 6,
     "metadata": {},
     "output_type": "execute_result"
    }
   ],
   "source": [
    "TRAIN_DT.isna().sum()"
   ]
  },
  {
   "cell_type": "code",
   "execution_count": 7,
   "metadata": {},
   "outputs": [
    {
     "data": {
      "text/plain": [
       "Gender    0\n",
       "Height    0\n",
       "Weight    0\n",
       "dtype: int64"
      ]
     },
     "execution_count": 7,
     "metadata": {},
     "output_type": "execute_result"
    }
   ],
   "source": [
    "VALIDATION_DT.isna().sum()"
   ]
  },
  {
   "cell_type": "markdown",
   "metadata": {},
   "source": [
    "*Looking for duplicated data in dataset*"
   ]
  },
  {
   "cell_type": "code",
   "execution_count": 8,
   "metadata": {},
   "outputs": [
    {
     "data": {
      "text/plain": [
       "411"
      ]
     },
     "execution_count": 8,
     "metadata": {},
     "output_type": "execute_result"
    }
   ],
   "source": [
    "TRAIN_DT.duplicated().sum()"
   ]
  },
  {
   "cell_type": "code",
   "execution_count": 9,
   "metadata": {},
   "outputs": [
    {
     "data": {
      "text/plain": [
       "0"
      ]
     },
     "execution_count": 9,
     "metadata": {},
     "output_type": "execute_result"
    }
   ],
   "source": [
    "VALIDATION_DT.duplicated().sum()"
   ]
  },
  {
   "cell_type": "markdown",
   "metadata": {},
   "source": [
    "## Preprocessing and Cleaning the Data"
   ]
  },
  {
   "cell_type": "markdown",
   "metadata": {},
   "source": [
    "*Making copy of datasets and drop all the duplicates data in train dataset*"
   ]
  },
  {
   "cell_type": "code",
   "execution_count": 10,
   "metadata": {},
   "outputs": [],
   "source": [
    "train_dt_c = TRAIN_DT.copy()\n",
    "train_dt_c.drop_duplicates(inplace=True)\n",
    "\n",
    "valid_dt_c = VALIDATION_DT.copy()"
   ]
  },
  {
   "cell_type": "code",
   "execution_count": 11,
   "metadata": {},
   "outputs": [
    {
     "name": "stdout",
     "output_type": "stream",
     "text": [
      "<class 'pandas.core.frame.DataFrame'>\n",
      "Index: 489 entries, 0 to 897\n",
      "Data columns (total 4 columns):\n",
      " #   Column  Non-Null Count  Dtype \n",
      "---  ------  --------------  ----- \n",
      " 0   Gender  489 non-null    object\n",
      " 1   Height  489 non-null    int64 \n",
      " 2   Weight  489 non-null    int64 \n",
      " 3   Index   489 non-null    int64 \n",
      "dtypes: int64(3), object(1)\n",
      "memory usage: 19.1+ KB\n"
     ]
    }
   ],
   "source": [
    "train_dt_c.info()"
   ]
  },
  {
   "cell_type": "markdown",
   "metadata": {},
   "source": [
    "*Using map function to encoding the gender feature with numerical type, 0 for male and 1 for female*"
   ]
  },
  {
   "cell_type": "code",
   "execution_count": 12,
   "metadata": {},
   "outputs": [],
   "source": [
    "train_dt_c['Gender'] = train_dt_c['Gender'].map({'Male': 0, 'Female': 1})\n",
    "valid_dt_c['Gender'] = valid_dt_c['Gender'].map({'Male': 0, 'Female': 1})"
   ]
  },
  {
   "cell_type": "markdown",
   "metadata": {},
   "source": [
    "*Separate the features and label for train dataset*"
   ]
  },
  {
   "cell_type": "code",
   "execution_count": 13,
   "metadata": {},
   "outputs": [],
   "source": [
    "X = train_dt_c.drop('Index', axis=1)\n",
    "Y = train_dt_c['Index']"
   ]
  },
  {
   "cell_type": "code",
   "execution_count": 14,
   "metadata": {},
   "outputs": [],
   "source": [
    "X['BMI'] = X['Weight'] / ( (X['Height'] ** 2)/10000 )\n",
    "X['BMI'] = X['BMI'].round(2)"
   ]
  },
  {
   "cell_type": "code",
   "execution_count": 15,
   "metadata": {},
   "outputs": [
    {
     "data": {
      "text/html": [
       "<div>\n",
       "<style scoped>\n",
       "    .dataframe tbody tr th:only-of-type {\n",
       "        vertical-align: middle;\n",
       "    }\n",
       "\n",
       "    .dataframe tbody tr th {\n",
       "        vertical-align: top;\n",
       "    }\n",
       "\n",
       "    .dataframe thead th {\n",
       "        text-align: right;\n",
       "    }\n",
       "</style>\n",
       "<table border=\"1\" class=\"dataframe\">\n",
       "  <thead>\n",
       "    <tr style=\"text-align: right;\">\n",
       "      <th></th>\n",
       "      <th>Gender</th>\n",
       "      <th>Height</th>\n",
       "      <th>Weight</th>\n",
       "      <th>BMI</th>\n",
       "    </tr>\n",
       "  </thead>\n",
       "  <tbody>\n",
       "    <tr>\n",
       "      <th>0</th>\n",
       "      <td>0</td>\n",
       "      <td>161</td>\n",
       "      <td>89</td>\n",
       "      <td>34.34</td>\n",
       "    </tr>\n",
       "    <tr>\n",
       "      <th>1</th>\n",
       "      <td>0</td>\n",
       "      <td>179</td>\n",
       "      <td>127</td>\n",
       "      <td>39.64</td>\n",
       "    </tr>\n",
       "    <tr>\n",
       "      <th>2</th>\n",
       "      <td>0</td>\n",
       "      <td>172</td>\n",
       "      <td>139</td>\n",
       "      <td>46.98</td>\n",
       "    </tr>\n",
       "    <tr>\n",
       "      <th>3</th>\n",
       "      <td>0</td>\n",
       "      <td>153</td>\n",
       "      <td>104</td>\n",
       "      <td>44.43</td>\n",
       "    </tr>\n",
       "    <tr>\n",
       "      <th>4</th>\n",
       "      <td>0</td>\n",
       "      <td>165</td>\n",
       "      <td>68</td>\n",
       "      <td>24.98</td>\n",
       "    </tr>\n",
       "  </tbody>\n",
       "</table>\n",
       "</div>"
      ],
      "text/plain": [
       "   Gender  Height  Weight    BMI\n",
       "0       0     161      89  34.34\n",
       "1       0     179     127  39.64\n",
       "2       0     172     139  46.98\n",
       "3       0     153     104  44.43\n",
       "4       0     165      68  24.98"
      ]
     },
     "execution_count": 15,
     "metadata": {},
     "output_type": "execute_result"
    }
   ],
   "source": [
    "X.head()"
   ]
  },
  {
   "cell_type": "markdown",
   "metadata": {},
   "source": [
    "*Split the data into 70% Train, 15% Valid and 15% Test*"
   ]
  },
  {
   "cell_type": "code",
   "execution_count": 16,
   "metadata": {},
   "outputs": [],
   "source": [
    "# Split the dataset into training and temp (validation + test)\n",
    "x_train, x_temp, y_train, y_temp = train_test_split(X, Y, test_size=0.3, random_state=42)\n",
    "\n",
    "# Split the temp dataset into validation and test sets\n",
    "x_valid, x_test, y_valid, y_test = train_test_split(x_temp, y_temp, test_size=0.5, random_state=42)"
   ]
  },
  {
   "cell_type": "markdown",
   "metadata": {},
   "source": [
    "*Augmented the data*"
   ]
  },
  {
   "cell_type": "code",
   "execution_count": 17,
   "metadata": {},
   "outputs": [],
   "source": [
    "x_train_augmented, y_train_augmented = resample(\n",
    "    x_train, y_train, \n",
    "    n_samples=len(x_train),\n",
    "    replace=True\n",
    ")"
   ]
  },
  {
   "cell_type": "code",
   "execution_count": 18,
   "metadata": {},
   "outputs": [],
   "source": [
    "# Define the number of folds for cross-validation\n",
    "num_folds = 5\n",
    "kf = KFold(n_splits=num_folds, shuffle=True, random_state=42)\n",
    "\n",
    "# Store the results for each fold\n",
    "fold_accuracies = []\n",
    "\n",
    "for train_index, val_index in kf.split(x_train_augmented):\n",
    "    # Split the data into training and validation sets for this fold using .iloc\n",
    "    x_train_fold, x_val_fold = x_train_augmented.iloc[train_index], x_train_augmented.iloc[val_index]\n",
    "    y_train_fold, y_val_fold = y_train_augmented.iloc[train_index], y_train_augmented.iloc[val_index]"
   ]
  },
  {
   "cell_type": "code",
   "execution_count": 19,
   "metadata": {},
   "outputs": [
    {
     "data": {
      "text/html": [
       "<div>\n",
       "<style scoped>\n",
       "    .dataframe tbody tr th:only-of-type {\n",
       "        vertical-align: middle;\n",
       "    }\n",
       "\n",
       "    .dataframe tbody tr th {\n",
       "        vertical-align: top;\n",
       "    }\n",
       "\n",
       "    .dataframe thead th {\n",
       "        text-align: right;\n",
       "    }\n",
       "</style>\n",
       "<table border=\"1\" class=\"dataframe\">\n",
       "  <thead>\n",
       "    <tr style=\"text-align: right;\">\n",
       "      <th></th>\n",
       "      <th>Gender</th>\n",
       "      <th>Height</th>\n",
       "      <th>Weight</th>\n",
       "      <th>BMI</th>\n",
       "    </tr>\n",
       "  </thead>\n",
       "  <tbody>\n",
       "    <tr>\n",
       "      <th>433</th>\n",
       "      <td>1</td>\n",
       "      <td>160</td>\n",
       "      <td>131</td>\n",
       "      <td>51.17</td>\n",
       "    </tr>\n",
       "    <tr>\n",
       "      <th>3</th>\n",
       "      <td>0</td>\n",
       "      <td>153</td>\n",
       "      <td>104</td>\n",
       "      <td>44.43</td>\n",
       "    </tr>\n",
       "    <tr>\n",
       "      <th>348</th>\n",
       "      <td>1</td>\n",
       "      <td>155</td>\n",
       "      <td>115</td>\n",
       "      <td>47.87</td>\n",
       "    </tr>\n",
       "    <tr>\n",
       "      <th>717</th>\n",
       "      <td>0</td>\n",
       "      <td>142</td>\n",
       "      <td>135</td>\n",
       "      <td>66.95</td>\n",
       "    </tr>\n",
       "    <tr>\n",
       "      <th>60</th>\n",
       "      <td>1</td>\n",
       "      <td>150</td>\n",
       "      <td>70</td>\n",
       "      <td>31.11</td>\n",
       "    </tr>\n",
       "  </tbody>\n",
       "</table>\n",
       "</div>"
      ],
      "text/plain": [
       "     Gender  Height  Weight    BMI\n",
       "433       1     160     131  51.17\n",
       "3         0     153     104  44.43\n",
       "348       1     155     115  47.87\n",
       "717       0     142     135  66.95\n",
       "60        1     150      70  31.11"
      ]
     },
     "execution_count": 19,
     "metadata": {},
     "output_type": "execute_result"
    }
   ],
   "source": [
    "x_train.head()"
   ]
  },
  {
   "cell_type": "code",
   "execution_count": 20,
   "metadata": {},
   "outputs": [
    {
     "data": {
      "text/plain": [
       "433    5\n",
       "3      5\n",
       "348    5\n",
       "717    5\n",
       "60     4\n",
       "Name: Index, dtype: int64"
      ]
     },
     "execution_count": 20,
     "metadata": {},
     "output_type": "execute_result"
    }
   ],
   "source": [
    "y_train.head()"
   ]
  },
  {
   "cell_type": "markdown",
   "metadata": {},
   "source": [
    "## Exploring the data"
   ]
  },
  {
   "cell_type": "code",
   "execution_count": 21,
   "metadata": {},
   "outputs": [
    {
     "data": {
      "text/html": [
       "<div>\n",
       "<style scoped>\n",
       "    .dataframe tbody tr th:only-of-type {\n",
       "        vertical-align: middle;\n",
       "    }\n",
       "\n",
       "    .dataframe tbody tr th {\n",
       "        vertical-align: top;\n",
       "    }\n",
       "\n",
       "    .dataframe thead th {\n",
       "        text-align: right;\n",
       "    }\n",
       "</style>\n",
       "<table border=\"1\" class=\"dataframe\">\n",
       "  <thead>\n",
       "    <tr style=\"text-align: right;\">\n",
       "      <th></th>\n",
       "      <th>Gender</th>\n",
       "      <th>Height</th>\n",
       "      <th>Weight</th>\n",
       "      <th>BMI</th>\n",
       "    </tr>\n",
       "  </thead>\n",
       "  <tbody>\n",
       "    <tr>\n",
       "      <th>count</th>\n",
       "      <td>342.000000</td>\n",
       "      <td>342.000000</td>\n",
       "      <td>342.000000</td>\n",
       "      <td>342.000000</td>\n",
       "    </tr>\n",
       "    <tr>\n",
       "      <th>mean</th>\n",
       "      <td>0.523392</td>\n",
       "      <td>170.254386</td>\n",
       "      <td>106.652047</td>\n",
       "      <td>37.781257</td>\n",
       "    </tr>\n",
       "    <tr>\n",
       "      <th>std</th>\n",
       "      <td>0.500184</td>\n",
       "      <td>15.989996</td>\n",
       "      <td>31.676221</td>\n",
       "      <td>13.479006</td>\n",
       "    </tr>\n",
       "    <tr>\n",
       "      <th>min</th>\n",
       "      <td>0.000000</td>\n",
       "      <td>140.000000</td>\n",
       "      <td>50.000000</td>\n",
       "      <td>12.750000</td>\n",
       "    </tr>\n",
       "    <tr>\n",
       "      <th>25%</th>\n",
       "      <td>0.000000</td>\n",
       "      <td>157.000000</td>\n",
       "      <td>81.000000</td>\n",
       "      <td>27.412500</td>\n",
       "    </tr>\n",
       "    <tr>\n",
       "      <th>50%</th>\n",
       "      <td>1.000000</td>\n",
       "      <td>171.000000</td>\n",
       "      <td>107.000000</td>\n",
       "      <td>36.970000</td>\n",
       "    </tr>\n",
       "    <tr>\n",
       "      <th>75%</th>\n",
       "      <td>1.000000</td>\n",
       "      <td>184.000000</td>\n",
       "      <td>135.750000</td>\n",
       "      <td>45.725000</td>\n",
       "    </tr>\n",
       "    <tr>\n",
       "      <th>max</th>\n",
       "      <td>1.000000</td>\n",
       "      <td>199.000000</td>\n",
       "      <td>160.000000</td>\n",
       "      <td>74.490000</td>\n",
       "    </tr>\n",
       "  </tbody>\n",
       "</table>\n",
       "</div>"
      ],
      "text/plain": [
       "           Gender      Height      Weight         BMI\n",
       "count  342.000000  342.000000  342.000000  342.000000\n",
       "mean     0.523392  170.254386  106.652047   37.781257\n",
       "std      0.500184   15.989996   31.676221   13.479006\n",
       "min      0.000000  140.000000   50.000000   12.750000\n",
       "25%      0.000000  157.000000   81.000000   27.412500\n",
       "50%      1.000000  171.000000  107.000000   36.970000\n",
       "75%      1.000000  184.000000  135.750000   45.725000\n",
       "max      1.000000  199.000000  160.000000   74.490000"
      ]
     },
     "execution_count": 21,
     "metadata": {},
     "output_type": "execute_result"
    }
   ],
   "source": [
    "x_train.describe(include=\"all\")"
   ]
  },
  {
   "cell_type": "code",
   "execution_count": 22,
   "metadata": {},
   "outputs": [
    {
     "data": {
      "text/plain": [
       "count    342.000000\n",
       "mean       3.774854\n",
       "std        1.317226\n",
       "min        0.000000\n",
       "25%        3.000000\n",
       "50%        4.000000\n",
       "75%        5.000000\n",
       "max        5.000000\n",
       "Name: Index, dtype: float64"
      ]
     },
     "execution_count": 22,
     "metadata": {},
     "output_type": "execute_result"
    }
   ],
   "source": [
    "y_train.describe(include=\"all\")"
   ]
  },
  {
   "cell_type": "code",
   "execution_count": 23,
   "metadata": {},
   "outputs": [
    {
     "data": {
      "text/html": [
       "<div>\n",
       "<style scoped>\n",
       "    .dataframe tbody tr th:only-of-type {\n",
       "        vertical-align: middle;\n",
       "    }\n",
       "\n",
       "    .dataframe tbody tr th {\n",
       "        vertical-align: top;\n",
       "    }\n",
       "\n",
       "    .dataframe thead th {\n",
       "        text-align: right;\n",
       "    }\n",
       "</style>\n",
       "<table border=\"1\" class=\"dataframe\">\n",
       "  <thead>\n",
       "    <tr style=\"text-align: right;\">\n",
       "      <th></th>\n",
       "      <th>Gender</th>\n",
       "      <th>Height</th>\n",
       "      <th>Weight</th>\n",
       "    </tr>\n",
       "  </thead>\n",
       "  <tbody>\n",
       "    <tr>\n",
       "      <th>count</th>\n",
       "      <td>100.00</td>\n",
       "      <td>100.000000</td>\n",
       "      <td>100.000000</td>\n",
       "    </tr>\n",
       "    <tr>\n",
       "      <th>mean</th>\n",
       "      <td>0.55</td>\n",
       "      <td>168.270000</td>\n",
       "      <td>105.760000</td>\n",
       "    </tr>\n",
       "    <tr>\n",
       "      <th>std</th>\n",
       "      <td>0.50</td>\n",
       "      <td>15.521803</td>\n",
       "      <td>32.626172</td>\n",
       "    </tr>\n",
       "    <tr>\n",
       "      <th>min</th>\n",
       "      <td>0.00</td>\n",
       "      <td>141.000000</td>\n",
       "      <td>51.000000</td>\n",
       "    </tr>\n",
       "    <tr>\n",
       "      <th>25%</th>\n",
       "      <td>0.00</td>\n",
       "      <td>156.000000</td>\n",
       "      <td>76.500000</td>\n",
       "    </tr>\n",
       "    <tr>\n",
       "      <th>50%</th>\n",
       "      <td>1.00</td>\n",
       "      <td>168.000000</td>\n",
       "      <td>103.500000</td>\n",
       "    </tr>\n",
       "    <tr>\n",
       "      <th>75%</th>\n",
       "      <td>1.00</td>\n",
       "      <td>180.250000</td>\n",
       "      <td>135.250000</td>\n",
       "    </tr>\n",
       "    <tr>\n",
       "      <th>max</th>\n",
       "      <td>1.00</td>\n",
       "      <td>197.000000</td>\n",
       "      <td>160.000000</td>\n",
       "    </tr>\n",
       "  </tbody>\n",
       "</table>\n",
       "</div>"
      ],
      "text/plain": [
       "       Gender      Height      Weight\n",
       "count  100.00  100.000000  100.000000\n",
       "mean     0.55  168.270000  105.760000\n",
       "std      0.50   15.521803   32.626172\n",
       "min      0.00  141.000000   51.000000\n",
       "25%      0.00  156.000000   76.500000\n",
       "50%      1.00  168.000000  103.500000\n",
       "75%      1.00  180.250000  135.250000\n",
       "max      1.00  197.000000  160.000000"
      ]
     },
     "execution_count": 23,
     "metadata": {},
     "output_type": "execute_result"
    }
   ],
   "source": [
    "valid_dt_c.describe(include=\"all\")"
   ]
  },
  {
   "cell_type": "code",
   "execution_count": 24,
   "metadata": {},
   "outputs": [
    {
     "name": "stdout",
     "output_type": "stream",
     "text": [
      "The shape of X_train is: (342, 4)\n",
      "The shape of y_train is: (342,)\n",
      "We have m = 342 training examples\n",
      "\n",
      "The shape of validation dataset is: (100, 3)\n",
      "We have m = 100 validation examples\n"
     ]
    }
   ],
   "source": [
    "print ('The shape of X_train is: ' + str(x_train.shape))\n",
    "print ('The shape of y_train is: ' + str(y_train.shape))\n",
    "print ('We have m = %d training examples' % (len(y_train)))\n",
    "\n",
    "print ('\\nThe shape of validation dataset is: ' + str(valid_dt_c.shape))\n",
    "print ('We have m = %d validation examples' % (len(valid_dt_c)))"
   ]
  },
  {
   "cell_type": "markdown",
   "metadata": {},
   "source": [
    "## Visualize the Data"
   ]
  },
  {
   "cell_type": "code",
   "execution_count": 25,
   "metadata": {},
   "outputs": [
    {
     "data": {
      "image/png": "[encoded data removed]",
      "text/plain": [
       "<Figure size 640x480 with 1 Axes>"
      ]
     },
     "metadata": {},
     "output_type": "display_data"
    },
    {
     "data": {
      "image/png": "[encoded data removed]",
      "text/plain": [
       "<Figure size 640x480 with 1 Axes>"
      ]
     },
     "metadata": {},
     "output_type": "display_data"
    },
    {
     "data": {
      "image/png": "[encoded data removed]",
      "text/plain": [
       "<Figure size 640x480 with 1 Axes>"
      ]
     },
     "metadata": {},
     "output_type": "display_data"
    }
   ],
   "source": [
    "data = x_train['Gender']\n",
    "\n",
    "# Histogram\n",
    "sns.histplot(data, kde=True)\n",
    "plt.show()\n",
    "\n",
    "data = x_train['Height']\n",
    "\n",
    "# Histogram\n",
    "sns.histplot(data, kde=True)\n",
    "plt.show()\n",
    "\n",
    "data = x_train['Weight']\n",
    "\n",
    "# Histogram\n",
    "sns.histplot(data, kde=True)\n",
    "plt.show()"
   ]
  },
  {
   "cell_type": "markdown",
   "metadata": {},
   "source": [
    "## Training the Data"
   ]
  },
  {
   "cell_type": "code",
   "execution_count": null,
   "metadata": {},
   "outputs": [],
   "source": [
    "model = tf.keras.models.Sequential([\n",
    "    tf.keras.Input(shape=(4,)),\n",
    "\n",
    "    tf.keras.layers.Dense(90, activation='relu', kernel_regularizer=tf.keras.regularizers.l2(1e-4)),\n",
    "    tf.keras.layers.Dense(64, activation='relu', kernel_regularizer=tf.keras.regularizers.l2(1e-4)),\n",
    "    tf.keras.layers.Dense(32, activation='relu', kernel_regularizer=tf.keras.regularizers.l2(1e-4)),\n",
    "    \n",
    "    tf.keras.layers.Dense(6, activation='softmax', kernel_regularizer=tf.keras.regularizers.l2(1e-4))\n",
    "    ]) \n",
    "model.compile(\n",
    "    optimizer = tf.keras.optimizers.Adam(learning_rate=5e-4),\n",
    "    loss = 'sparse_categorical_crossentropy',\n",
    "    metrics = ['accuracy']\n",
    ")"
   ]
  },
  {
   "cell_type": "code",
   "execution_count": 27,
   "metadata": {},
   "outputs": [
    {
     "name": "stdout",
     "output_type": "stream",
     "text": [
      "Input shape: (None, 4)\n",
      "Output shape: (None, 6)\n"
     ]
    }
   ],
   "source": [
    "print(f'Input shape: {model.input_shape}')\n",
    "print(f'Output shape: {model.output_shape}')"
   ]
  },
  {
   "cell_type": "code",
   "execution_count": 28,
   "metadata": {},
   "outputs": [
    {
     "data": {
      "text/html": [
       "<pre style=\"white-space:pre;overflow-x:auto;line-height:normal;font-family:Menlo,'DejaVu Sans Mono',consolas,'Courier New',monospace\"><span style=\"font-weight: bold\">Model: \"sequential\"</span>\n",
       "</pre>\n"
      ],
      "text/plain": [
       "\u001b[1mModel: \"sequential\"\u001b[0m\n"
      ]
     },
     "metadata": {},
     "output_type": "display_data"
    },
    {
     "data": {
      "text/html": [
       "<pre style=\"white-space:pre;overflow-x:auto;line-height:normal;font-family:Menlo,'DejaVu Sans Mono',consolas,'Courier New',monospace\">┏━━━━━━━━━━━━━━━━━━━━━━━━━━━━━━━━━┳━━━━━━━━━━━━━━━━━━━━━━━━┳━━━━━━━━━━━━━━━┓\n",
       "┃<span style=\"font-weight: bold\"> Layer (type)                    </span>┃<span style=\"font-weight: bold\"> Output Shape           </span>┃<span style=\"font-weight: bold\">       Param # </span>┃\n",
       "┡━━━━━━━━━━━━━━━━━━━━━━━━━━━━━━━━━╇━━━━━━━━━━━━━━━━━━━━━━━━╇━━━━━━━━━━━━━━━┩\n",
       "│ dense (<span style=\"color: #0087ff; text-decoration-color: #0087ff\">Dense</span>)                   │ (<span style=\"color: #00d7ff; text-decoration-color: #00d7ff\">None</span>, <span style=\"color: #00af00; text-decoration-color: #00af00\">90</span>)             │           <span style=\"color: #00af00; text-decoration-color: #00af00\">450</span> │\n",
       "├─────────────────────────────────┼────────────────────────┼───────────────┤\n",
       "│ dense_1 (<span style=\"color: #0087ff; text-decoration-color: #0087ff\">Dense</span>)                 │ (<span style=\"color: #00d7ff; text-decoration-color: #00d7ff\">None</span>, <span style=\"color: #00af00; text-decoration-color: #00af00\">64</span>)             │         <span style=\"color: #00af00; text-decoration-color: #00af00\">5,824</span> │\n",
       "├─────────────────────────────────┼────────────────────────┼───────────────┤\n",
       "│ dense_2 (<span style=\"color: #0087ff; text-decoration-color: #0087ff\">Dense</span>)                 │ (<span style=\"color: #00d7ff; text-decoration-color: #00d7ff\">None</span>, <span style=\"color: #00af00; text-decoration-color: #00af00\">32</span>)             │         <span style=\"color: #00af00; text-decoration-color: #00af00\">2,080</span> │\n",
       "├─────────────────────────────────┼────────────────────────┼───────────────┤\n",
       "│ dense_3 (<span style=\"color: #0087ff; text-decoration-color: #0087ff\">Dense</span>)                 │ (<span style=\"color: #00d7ff; text-decoration-color: #00d7ff\">None</span>, <span style=\"color: #00af00; text-decoration-color: #00af00\">6</span>)              │           <span style=\"color: #00af00; text-decoration-color: #00af00\">198</span> │\n",
       "└─────────────────────────────────┴────────────────────────┴───────────────┘\n",
       "</pre>\n"
      ],
      "text/plain": [
       "┏━━━━━━━━━━━━━━━━━━━━━━━━━━━━━━━━━┳━━━━━━━━━━━━━━━━━━━━━━━━┳━━━━━━━━━━━━━━━┓\n",
       "┃\u001b[1m \u001b[0m\u001b[1mLayer (type)                   \u001b[0m\u001b[1m \u001b[0m┃\u001b[1m \u001b[0m\u001b[1mOutput Shape          \u001b[0m\u001b[1m \u001b[0m┃\u001b[1m \u001b[0m\u001b[1m      Param #\u001b[0m\u001b[1m \u001b[0m┃\n",
       "┡━━━━━━━━━━━━━━━━━━━━━━━━━━━━━━━━━╇━━━━━━━━━━━━━━━━━━━━━━━━╇━━━━━━━━━━━━━━━┩\n",
       "│ dense (\u001b[38;5;33mDense\u001b[0m)                   │ (\u001b[38;5;45mNone\u001b[0m, \u001b[38;5;34m90\u001b[0m)             │           \u001b[38;5;34m450\u001b[0m │\n",
       "├─────────────────────────────────┼────────────────────────┼───────────────┤\n",
       "│ dense_1 (\u001b[38;5;33mDense\u001b[0m)                 │ (\u001b[38;5;45mNone\u001b[0m, \u001b[38;5;34m64\u001b[0m)             │         \u001b[38;5;34m5,824\u001b[0m │\n",
       "├─────────────────────────────────┼────────────────────────┼───────────────┤\n",
       "│ dense_2 (\u001b[38;5;33mDense\u001b[0m)                 │ (\u001b[38;5;45mNone\u001b[0m, \u001b[38;5;34m32\u001b[0m)             │         \u001b[38;5;34m2,080\u001b[0m │\n",
       "├─────────────────────────────────┼────────────────────────┼───────────────┤\n",
       "│ dense_3 (\u001b[38;5;33mDense\u001b[0m)                 │ (\u001b[38;5;45mNone\u001b[0m, \u001b[38;5;34m6\u001b[0m)              │           \u001b[38;5;34m198\u001b[0m │\n",
       "└─────────────────────────────────┴────────────────────────┴───────────────┘\n"
      ]
     },
     "metadata": {},
     "output_type": "display_data"
    },
    {
     "data": {
      "text/html": [
       "<pre style=\"white-space:pre;overflow-x:auto;line-height:normal;font-family:Menlo,'DejaVu Sans Mono',consolas,'Courier New',monospace\"><span style=\"font-weight: bold\"> Total params: </span><span style=\"color: #00af00; text-decoration-color: #00af00\">8,552</span> (33.41 KB)\n",
       "</pre>\n"
      ],
      "text/plain": [
       "\u001b[1m Total params: \u001b[0m\u001b[38;5;34m8,552\u001b[0m (33.41 KB)\n"
      ]
     },
     "metadata": {},
     "output_type": "display_data"
    },
    {
     "data": {
      "text/html": [
       "<pre style=\"white-space:pre;overflow-x:auto;line-height:normal;font-family:Menlo,'DejaVu Sans Mono',consolas,'Courier New',monospace\"><span style=\"font-weight: bold\"> Trainable params: </span><span style=\"color: #00af00; text-decoration-color: #00af00\">8,552</span> (33.41 KB)\n",
       "</pre>\n"
      ],
      "text/plain": [
       "\u001b[1m Trainable params: \u001b[0m\u001b[38;5;34m8,552\u001b[0m (33.41 KB)\n"
      ]
     },
     "metadata": {},
     "output_type": "display_data"
    },
    {
     "data": {
      "text/html": [
       "<pre style=\"white-space:pre;overflow-x:auto;line-height:normal;font-family:Menlo,'DejaVu Sans Mono',consolas,'Courier New',monospace\"><span style=\"font-weight: bold\"> Non-trainable params: </span><span style=\"color: #00af00; text-decoration-color: #00af00\">0</span> (0.00 B)\n",
       "</pre>\n"
      ],
      "text/plain": [
       "\u001b[1m Non-trainable params: \u001b[0m\u001b[38;5;34m0\u001b[0m (0.00 B)\n"
      ]
     },
     "metadata": {},
     "output_type": "display_data"
    }
   ],
   "source": [
    "model.summary()"
   ]
  },
  {
   "cell_type": "code",
   "execution_count": null,
   "metadata": {},
   "outputs": [
    {
     "name": "stdout",
     "output_type": "stream",
     "text": [
      "Epoch 1/50\n",
      "11/11 - 2s - 179ms/step - accuracy: 0.1404 - loss: 13.3427 - val_accuracy: 0.2740 - val_loss: 7.4865 - learning_rate: 5.0000e-04\n",
      "Epoch 2/50\n",
      "11/11 - 0s - 10ms/step - accuracy: 0.3538 - loss: 5.4679 - val_accuracy: 0.2192 - val_loss: 3.2224 - learning_rate: 5.0000e-04\n",
      "Epoch 3/50\n",
      "11/11 - 0s - 10ms/step - accuracy: 0.4035 - loss: 1.8032 - val_accuracy: 0.5068 - val_loss: 1.4413 - learning_rate: 5.0000e-04\n",
      "Epoch 4/50\n",
      "11/11 - 0s - 11ms/step - accuracy: 0.4211 - loss: 1.3323 - val_accuracy: 0.5479 - val_loss: 1.0538 - learning_rate: 5.0000e-04\n",
      "Epoch 5/50\n",
      "11/11 - 0s - 12ms/step - accuracy: 0.6023 - loss: 0.9603 - val_accuracy: 0.6301 - val_loss: 0.8883 - learning_rate: 5.0000e-04\n",
      "Epoch 6/50\n",
      "11/11 - 0s - 8ms/step - accuracy: 0.6345 - loss: 0.8116 - val_accuracy: 0.7123 - val_loss: 0.7122 - learning_rate: 5.0000e-04\n",
      "Epoch 7/50\n",
      "11/11 - 0s - 9ms/step - accuracy: 0.6550 - loss: 0.7335 - val_accuracy: 0.7534 - val_loss: 0.7023 - learning_rate: 5.0000e-04\n",
      "Epoch 8/50\n",
      "11/11 - 0s - 19ms/step - accuracy: 0.7105 - loss: 0.6806 - val_accuracy: 0.7260 - val_loss: 0.6292 - learning_rate: 5.0000e-04\n",
      "Epoch 9/50\n",
      "11/11 - 0s - 16ms/step - accuracy: 0.7368 - loss: 0.6600 - val_accuracy: 0.7671 - val_loss: 0.6389 - learning_rate: 5.0000e-04\n",
      "Epoch 10/50\n",
      "11/11 - 0s - 8ms/step - accuracy: 0.7544 - loss: 0.6320 - val_accuracy: 0.7534 - val_loss: 0.5847 - learning_rate: 5.0000e-04\n",
      "Epoch 11/50\n",
      "11/11 - 0s - 8ms/step - accuracy: 0.7544 - loss: 0.6137 - val_accuracy: 0.7945 - val_loss: 0.5713 - learning_rate: 5.0000e-04\n",
      "Epoch 12/50\n",
      "11/11 - 0s - 6ms/step - accuracy: 0.7749 - loss: 0.5859 - val_accuracy: 0.7945 - val_loss: 0.5688 - learning_rate: 5.0000e-04\n",
      "Epoch 13/50\n",
      "11/11 - 0s - 6ms/step - accuracy: 0.7778 - loss: 0.5807 - val_accuracy: 0.8219 - val_loss: 0.5463 - learning_rate: 5.0000e-04\n",
      "Epoch 14/50\n",
      "11/11 - 0s - 7ms/step - accuracy: 0.7807 - loss: 0.5582 - val_accuracy: 0.8082 - val_loss: 0.5452 - learning_rate: 5.0000e-04\n",
      "Epoch 15/50\n",
      "11/11 - 0s - 6ms/step - accuracy: 0.8158 - loss: 0.5446 - val_accuracy: 0.8493 - val_loss: 0.5101 - learning_rate: 5.0000e-04\n",
      "Epoch 16/50\n",
      "11/11 - 0s - 6ms/step - accuracy: 0.7749 - loss: 0.5308 - val_accuracy: 0.7945 - val_loss: 0.5095 - learning_rate: 5.0000e-04\n",
      "Epoch 17/50\n",
      "11/11 - 0s - 6ms/step - accuracy: 0.7865 - loss: 0.5175 - val_accuracy: 0.8219 - val_loss: 0.5038 - learning_rate: 5.0000e-04\n",
      "Epoch 18/50\n",
      "11/11 - 0s - 6ms/step - accuracy: 0.7836 - loss: 0.5026 - val_accuracy: 0.8356 - val_loss: 0.4736 - learning_rate: 5.0000e-04\n",
      "Epoch 19/50\n",
      "11/11 - 0s - 5ms/step - accuracy: 0.8041 - loss: 0.4927 - val_accuracy: 0.8356 - val_loss: 0.4629 - learning_rate: 5.0000e-04\n",
      "Epoch 20/50\n",
      "11/11 - 0s - 9ms/step - accuracy: 0.8158 - loss: 0.4875 - val_accuracy: 0.8630 - val_loss: 0.4469 - learning_rate: 5.0000e-04\n",
      "Epoch 21/50\n",
      "11/11 - 0s - 6ms/step - accuracy: 0.8099 - loss: 0.4685 - val_accuracy: 0.8493 - val_loss: 0.4345 - learning_rate: 5.0000e-04\n",
      "Epoch 22/50\n",
      "11/11 - 0s - 10ms/step - accuracy: 0.8041 - loss: 0.4545 - val_accuracy: 0.8493 - val_loss: 0.4238 - learning_rate: 5.0000e-04\n",
      "Epoch 23/50\n",
      "11/11 - 0s - 11ms/step - accuracy: 0.8275 - loss: 0.4449 - val_accuracy: 0.8630 - val_loss: 0.4136 - learning_rate: 5.0000e-04\n",
      "Epoch 24/50\n",
      "11/11 - 0s - 7ms/step - accuracy: 0.8333 - loss: 0.4563 - val_accuracy: 0.8767 - val_loss: 0.3939 - learning_rate: 5.0000e-04\n",
      "Epoch 25/50\n",
      "11/11 - 0s - 7ms/step - accuracy: 0.7865 - loss: 0.4377 - val_accuracy: 0.8767 - val_loss: 0.3818 - learning_rate: 5.0000e-04\n",
      "Epoch 26/50\n",
      "11/11 - 0s - 6ms/step - accuracy: 0.8333 - loss: 0.4222 - val_accuracy: 0.8767 - val_loss: 0.3974 - learning_rate: 5.0000e-04\n",
      "Epoch 27/50\n",
      "11/11 - 0s - 6ms/step - accuracy: 0.8538 - loss: 0.4144 - val_accuracy: 0.9041 - val_loss: 0.3660 - learning_rate: 5.0000e-04\n",
      "Epoch 28/50\n",
      "11/11 - 0s - 7ms/step - accuracy: 0.8216 - loss: 0.4196 - val_accuracy: 0.8630 - val_loss: 0.3768 - learning_rate: 5.0000e-04\n",
      "Epoch 29/50\n",
      "11/11 - 0s - 6ms/step - accuracy: 0.8596 - loss: 0.4144 - val_accuracy: 0.9041 - val_loss: 0.3620 - learning_rate: 5.0000e-04\n",
      "Epoch 30/50\n",
      "11/11 - 0s - 5ms/step - accuracy: 0.8450 - loss: 0.4023 - val_accuracy: 0.9041 - val_loss: 0.3692 - learning_rate: 5.0000e-04\n",
      "Epoch 31/50\n",
      "11/11 - 0s - 5ms/step - accuracy: 0.8538 - loss: 0.3947 - val_accuracy: 0.9178 - val_loss: 0.3480 - learning_rate: 5.0000e-04\n",
      "Epoch 32/50\n",
      "11/11 - 0s - 5ms/step - accuracy: 0.8772 - loss: 0.3906 - val_accuracy: 0.8630 - val_loss: 0.3614 - learning_rate: 5.0000e-04\n",
      "Epoch 33/50\n",
      "11/11 - 0s - 5ms/step - accuracy: 0.8392 - loss: 0.3960 - val_accuracy: 0.9452 - val_loss: 0.3443 - learning_rate: 5.0000e-04\n",
      "Epoch 34/50\n",
      "11/11 - 0s - 7ms/step - accuracy: 0.8713 - loss: 0.3790 - val_accuracy: 0.8767 - val_loss: 0.3471 - learning_rate: 5.0000e-04\n",
      "Epoch 35/50\n",
      "11/11 - 0s - 7ms/step - accuracy: 0.8626 - loss: 0.3699 - val_accuracy: 0.9452 - val_loss: 0.3076 - learning_rate: 5.0000e-04\n",
      "Epoch 36/50\n",
      "11/11 - 0s - 6ms/step - accuracy: 0.8655 - loss: 0.3718 - val_accuracy: 0.9315 - val_loss: 0.3236 - learning_rate: 5.0000e-04\n",
      "Epoch 37/50\n",
      "11/11 - 0s - 6ms/step - accuracy: 0.8918 - loss: 0.3656 - val_accuracy: 0.9178 - val_loss: 0.3220 - learning_rate: 5.0000e-04\n",
      "Epoch 38/50\n",
      "11/11 - 0s - 5ms/step - accuracy: 0.8860 - loss: 0.3589 - val_accuracy: 0.9452 - val_loss: 0.3069 - learning_rate: 5.0000e-04\n",
      "Epoch 39/50\n",
      "11/11 - 0s - 5ms/step - accuracy: 0.8480 - loss: 0.3719 - val_accuracy: 0.9178 - val_loss: 0.3130 - learning_rate: 5.0000e-04\n",
      "Epoch 40/50\n",
      "11/11 - 0s - 6ms/step - accuracy: 0.8743 - loss: 0.3677 - val_accuracy: 0.9178 - val_loss: 0.3193 - learning_rate: 5.0000e-04\n",
      "Epoch 41/50\n",
      "11/11 - 0s - 6ms/step - accuracy: 0.8509 - loss: 0.3770 - val_accuracy: 0.9041 - val_loss: 0.3280 - learning_rate: 5.0000e-04\n",
      "Epoch 42/50\n",
      "11/11 - 0s - 5ms/step - accuracy: 0.8772 - loss: 0.3534 - val_accuracy: 0.9315 - val_loss: 0.3014 - learning_rate: 2.5000e-04\n",
      "Epoch 43/50\n",
      "11/11 - 0s - 5ms/step - accuracy: 0.8977 - loss: 0.3484 - val_accuracy: 0.9178 - val_loss: 0.2856 - learning_rate: 2.5000e-04\n",
      "Epoch 44/50\n",
      "11/11 - 0s - 5ms/step - accuracy: 0.8947 - loss: 0.3395 - val_accuracy: 0.9178 - val_loss: 0.2983 - learning_rate: 2.5000e-04\n",
      "Epoch 45/50\n",
      "11/11 - 0s - 5ms/step - accuracy: 0.9064 - loss: 0.3325 - val_accuracy: 0.9315 - val_loss: 0.2913 - learning_rate: 2.5000e-04\n",
      "Epoch 46/50\n",
      "11/11 - 0s - 5ms/step - accuracy: 0.9094 - loss: 0.3302 - val_accuracy: 0.9452 - val_loss: 0.2941 - learning_rate: 2.5000e-04\n",
      "Epoch 47/50\n",
      "11/11 - 0s - 5ms/step - accuracy: 0.9152 - loss: 0.3262 - val_accuracy: 0.9178 - val_loss: 0.2896 - learning_rate: 1.2500e-04\n",
      "Epoch 48/50\n",
      "11/11 - 0s - 5ms/step - accuracy: 0.9211 - loss: 0.3272 - val_accuracy: 0.9178 - val_loss: 0.2866 - learning_rate: 1.2500e-04\n",
      "Epoch 49/50\n",
      "11/11 - 0s - 5ms/step - accuracy: 0.9152 - loss: 0.3249 - val_accuracy: 0.9315 - val_loss: 0.2837 - learning_rate: 1.2500e-04\n",
      "Epoch 50/50\n",
      "11/11 - 0s - 6ms/step - accuracy: 0.9094 - loss: 0.3263 - val_accuracy: 0.9178 - val_loss: 0.2872 - learning_rate: 1.2500e-04\n"
     ]
    }
   ],
   "source": [
    "# ModelCheckpoint callback is used in conjunction with training using model.fit() \n",
    "# to save a model or weights (in a checkpoint file) at some interval, so the model \n",
    "# or weights can be loaded later to continue the training from the state saved.\n",
    "early_stopping = tf.keras.callbacks.EarlyStopping(\n",
    "    monitor='val_loss',  # Monitor validation loss\n",
    "    patience=10,          # Stop after 5 epochs of no improvement\n",
    "    restore_best_weights=True  # Restore the best model weights\n",
    ")\n",
    "\n",
    "lr_scheduler = tf.keras.callbacks.ReduceLROnPlateau(\n",
    "    monitor='val_loss', factor=0.5, patience=3, min_lr=1e-6\n",
    ")\n",
    "\n",
    "history = model.fit(\n",
    "    x_train_augmented, y_train_augmented,\n",
    "    validation_data=(x_valid, y_valid),\n",
    "    epochs=50,\n",
    "    batch_size=32,\n",
    "    callbacks=[early_stopping, lr_scheduler],\n",
    "    verbose=2\n",
    ")\n",
    "\n",
    "# model.save('bmi_augmented_model_2.keras')"
   ]
  },
  {
   "cell_type": "code",
   "execution_count": 30,
   "metadata": {},
   "outputs": [
    {
     "data": {
      "image/png": "[encoded data removed]",
      "text/plain": [
       "<Figure size 1000x500 with 2 Axes>"
      ]
     },
     "metadata": {},
     "output_type": "display_data"
    }
   ],
   "source": [
    "# Get training and validation accuracies\n",
    "acc = history.history['accuracy']\n",
    "val_acc = history.history['val_accuracy']\n",
    "loss = history.history['loss']\n",
    "val_loss = history.history['val_loss']\n",
    "\n",
    "# Get number of epochs\n",
    "epochs = range(len(acc))\n",
    "\n",
    "fig, ax = plt.subplots(1, 2, figsize=(10, 5))\n",
    "fig.suptitle('Training and validation accuracy')\n",
    "\n",
    "for i, (data, label) in enumerate(zip([(acc, val_acc), (loss, val_loss)], [\"Accuracy\", \"Loss\"])):\n",
    "    ax[i].plot(epochs, data[0], 'r', label=\"Training \" + label)\n",
    "    ax[i].plot(epochs, data[1], 'b', label=\"Validation \" + label)\n",
    "    ax[i].legend()\n",
    "    ax[i].set_xlabel('epochs')\n",
    "\n",
    "plt.show()"
   ]
  },
  {
   "cell_type": "markdown",
   "metadata": {},
   "source": [
    "*Using the best model that have been saved using checkpoint callback*"
   ]
  },
  {
   "cell_type": "code",
   "execution_count": 31,
   "metadata": {},
   "outputs": [],
   "source": [
    "# model = tf.keras.models.load_model(\"saved_modelsBMI/weights-improvment-35-0.44.keras\")"
   ]
  },
  {
   "cell_type": "code",
   "execution_count": 32,
   "metadata": {},
   "outputs": [
    {
     "name": "stdout",
     "output_type": "stream",
     "text": [
      "\u001b[1m3/3\u001b[0m \u001b[32m━━━━━━━━━━━━━━━━━━━━\u001b[0m\u001b[37m\u001b[0m \u001b[1m0s\u001b[0m 18ms/step\n",
      "Accuracy: 90.54%\n"
     ]
    }
   ],
   "source": [
    "# Predict the model\n",
    "y_pred = model.predict(x_test)\n",
    "\n",
    "y_pred_class = np.argmax(y_pred, axis=1)\n",
    "\n",
    "accuracy = np.mean(y_test == y_pred_class)\n",
    "\n",
    "# Print out the accuracy that based on comparing the y_test and the predicted labels\n",
    "print(f'Accuracy: {accuracy*100:.2f}%')"
   ]
  },
  {
   "cell_type": "code",
   "execution_count": 33,
   "metadata": {},
   "outputs": [],
   "source": [
    "# gender = int(input(\"Masukkan gender anda dalam 0 untuk pria / 1 untuk wanita: \"))\n",
    "# height = int(input(\"Masukkan tinggi badan anda: \"))\n",
    "# weight = int(input(\"Masukkan tinggi badan anda: \"))\n",
    "\n",
    "gender = 0\n",
    "height = 175\n",
    "weight = 65\n",
    "\n",
    "bmi = np.round(weight/(height**2/10000), 2)\n",
    "\n",
    "test_feature = np.array([\n",
    "    [gender, height, weight, bmi]\n",
    "])"
   ]
  },
  {
   "cell_type": "code",
   "execution_count": 34,
   "metadata": {},
   "outputs": [
    {
     "name": "stdout",
     "output_type": "stream",
     "text": [
      "\u001b[1m1/1\u001b[0m \u001b[32m━━━━━━━━━━━━━━━━━━━━\u001b[0m\u001b[37m\u001b[0m \u001b[1m0s\u001b[0m 21ms/step\n",
      "Gender = 0\n",
      "Height = 175\n",
      "Weight = 65\n",
      "BMI = 21.22\n",
      "Predict = 2\n"
     ]
    }
   ],
   "source": [
    "# Predict the model\n",
    "test_label_pred = model.predict(test_feature)\n",
    "test_label_pred_class = np.argmax(test_label_pred)\n",
    "print(f'Gender = {gender}\\nHeight = {height}\\nWeight = {weight}\\nBMI = {bmi}\\nPredict = {test_label_pred_class}')"
   ]
  },
  {
   "cell_type": "code",
   "execution_count": 35,
   "metadata": {},
   "outputs": [],
   "source": [
    "# model.save('bmi_model-accuracy_0.90-loss_0.26-val_accuracy_0.91-val_loss_0.23.keras')"
   ]
  },
  {
   "cell_type": "code",
   "execution_count": null,
   "metadata": {},
   "outputs": [],
   "source": []
  }
 ],
 "metadata": {
  "kernelspec": {
   "display_name": "base",
   "language": "python",
   "name": "python3"
  },
  "language_info": {
   "codemirror_mode": {
    "name": "ipython",
    "version": 3
   },
   "file_extension": ".py",
   "mimetype": "text/x-python",
   "name": "python",
   "nbconvert_exporter": "python",
   "pygments_lexer": "ipython3",
   "version": "3.12.7"
  }
 },
 "nbformat": 4,
 "nbformat_minor": 2
}
