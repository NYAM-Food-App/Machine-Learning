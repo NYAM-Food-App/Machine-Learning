{
 "cells": [
  {
   "cell_type": "markdown",
   "metadata": {},
   "source": [
    "# Import Library"
   ]
  },
  {
   "cell_type": "code",
   "execution_count": null,
   "metadata": {},
   "outputs": [
    {
     "name": "stdout",
     "output_type": "stream",
     "text": [
      "WARNING:tensorflow:From c:\\Users\\fanny\\AppData\\Local\\Programs\\Python\\Python310\\lib\\site-packages\\keras\\src\\losses.py:2976: The name tf.losses.sparse_softmax_cross_entropy is deprecated. Please use tf.compat.v1.losses.sparse_softmax_cross_entropy instead.\n",
      "\n"
     ]
    }
   ],
   "source": [
    "import os\n",
    "import numpy as np\n",
    "import tensorflow as tf\n",
    "import matplotlib.pyplot as plt\n",
    "import pandas as pd\n",
    "import cv2\n",
    "import tensorflow as tf \n",
    "from tensorflow.keras.models import Sequential\n",
    "from tensorflow.keras.layers import Conv2D, MaxPooling2D, Dense, Flatten, Dropout\n",
    "from tensorflow.keras.utils import to_categorical\n",
    "from sklearn.model_selection import StratifiedShuffleSplit\n",
    "from tensorflow.keras.callbacks import EarlyStopping\n",
    "from tensorflow.keras.layers import BatchNormalization"
   ]
  },
  {
   "cell_type": "code",
   "execution_count": 194,
   "metadata": {},
   "outputs": [],
   "source": [
    "dataset_path = 'dataset/'\n",
    "\n",
    "# Lists to store data\n",
    "file_names = []\n",
    "labels = []\n",
    "full_paths = []\n",
    "\n",
    "for class_folder in sorted(os.listdir(dataset_path)):\n",
    "    class_folder_path = os.path.join(dataset_path, class_folder)\n",
    "    if os.path.isdir(class_folder_path):\n",
    "        for image_file in os.listdir(class_folder_path):\n",
    "            full_paths.append(os.path.join(class_folder_path, image_file))\n",
    "            file_names.append(image_file)\n",
    "            labels.append(class_folder) \n",
    "\n"
   ]
  },
  {
   "cell_type": "code",
   "execution_count": 195,
   "metadata": {},
   "outputs": [
    {
     "data": {
      "text/plain": [
       "ClassLabel\n",
       "ayam           600\n",
       "brokoli        600\n",
       "ikan           600\n",
       "kambing        600\n",
       "kembang kol    600\n",
       "kentang        600\n",
       "kol            600\n",
       "labu           600\n",
       "mentimun       600\n",
       "paprika        600\n",
       "sapi           600\n",
       "tahu           600\n",
       "telur          600\n",
       "tempe          600\n",
       "tomat          600\n",
       "udang          600\n",
       "wortel         600\n",
       "dtype: int64"
      ]
     },
     "execution_count": 195,
     "metadata": {},
     "output_type": "execute_result"
    }
   ],
   "source": [
    "data = {\n",
    "    'FileName': file_names,\n",
    "    'ClassLabel': labels,\n",
    "    'FullPath': full_paths\n",
    "}\n",
    "df = pd.DataFrame({\"FileName\": file_names, 'ClassLabel':labels, 'FullPath':full_paths})\n",
    "df.groupby(['ClassLabel']).size()"
   ]
  },
  {
   "cell_type": "code",
   "execution_count": 196,
   "metadata": {},
   "outputs": [
    {
     "data": {
      "text/html": [
       "<div>\n",
       "<style scoped>\n",
       "    .dataframe tbody tr th:only-of-type {\n",
       "        vertical-align: middle;\n",
       "    }\n",
       "\n",
       "    .dataframe tbody tr th {\n",
       "        vertical-align: top;\n",
       "    }\n",
       "\n",
       "    .dataframe thead th {\n",
       "        text-align: right;\n",
       "    }\n",
       "</style>\n",
       "<table border=\"1\" class=\"dataframe\">\n",
       "  <thead>\n",
       "    <tr style=\"text-align: right;\">\n",
       "      <th></th>\n",
       "      <th>FileName</th>\n",
       "      <th>ClassLabel</th>\n",
       "      <th>FullPath</th>\n",
       "    </tr>\n",
       "  </thead>\n",
       "  <tbody>\n",
       "    <tr>\n",
       "      <th>0</th>\n",
       "      <td>ayam0.jpg</td>\n",
       "      <td>ayam</td>\n",
       "      <td>dataset/ayam\\ayam0.jpg</td>\n",
       "    </tr>\n",
       "    <tr>\n",
       "      <th>1</th>\n",
       "      <td>ayam1.jpg</td>\n",
       "      <td>ayam</td>\n",
       "      <td>dataset/ayam\\ayam1.jpg</td>\n",
       "    </tr>\n",
       "    <tr>\n",
       "      <th>2</th>\n",
       "      <td>ayam10.jpg</td>\n",
       "      <td>ayam</td>\n",
       "      <td>dataset/ayam\\ayam10.jpg</td>\n",
       "    </tr>\n",
       "    <tr>\n",
       "      <th>3</th>\n",
       "      <td>ayam100.jpg</td>\n",
       "      <td>ayam</td>\n",
       "      <td>dataset/ayam\\ayam100.jpg</td>\n",
       "    </tr>\n",
       "    <tr>\n",
       "      <th>4</th>\n",
       "      <td>ayam101.png</td>\n",
       "      <td>ayam</td>\n",
       "      <td>dataset/ayam\\ayam101.png</td>\n",
       "    </tr>\n",
       "  </tbody>\n",
       "</table>\n",
       "</div>"
      ],
      "text/plain": [
       "      FileName ClassLabel                  FullPath\n",
       "0    ayam0.jpg       ayam    dataset/ayam\\ayam0.jpg\n",
       "1    ayam1.jpg       ayam    dataset/ayam\\ayam1.jpg\n",
       "2   ayam10.jpg       ayam   dataset/ayam\\ayam10.jpg\n",
       "3  ayam100.jpg       ayam  dataset/ayam\\ayam100.jpg\n",
       "4  ayam101.png       ayam  dataset/ayam\\ayam101.png"
      ]
     },
     "execution_count": 196,
     "metadata": {},
     "output_type": "execute_result"
    }
   ],
   "source": [
    "df.head()"
   ]
  },
  {
   "cell_type": "code",
   "execution_count": 197,
   "metadata": {},
   "outputs": [],
   "source": [
    "x = df['FullPath'].values\n",
    "y = df['ClassLabel'].values\n",
    "\n",
    "# x adalah gambar dan y adalah label\n",
    "sss = StratifiedShuffleSplit(n_splits=1, test_size=0.3, random_state=300)\n",
    "\n",
    "for train_index, temp_index in sss.split(x, y):\n",
    "    X_train, X_temp = x[train_index], x[temp_index]\n",
    "    y_train, y_temp = y[train_index], y[temp_index]\n",
    "\n",
    "sss_temp = StratifiedShuffleSplit(n_splits=1, test_size=0.5, random_state=300)\n",
    "for val_index, test_index in sss_temp.split(X_temp, y_temp):\n",
    "    X_val, X_test = X_temp[val_index], X_temp[test_index]\n",
    "    y_val, y_test = y_temp[val_index], y_temp[test_index]\n"
   ]
  },
  {
   "cell_type": "code",
   "execution_count": 198,
   "metadata": {},
   "outputs": [
    {
     "name": "stdout",
     "output_type": "stream",
     "text": [
      "Training size: 7140\n",
      "Validation size: 1530\n",
      "Test size: 1530\n"
     ]
    }
   ],
   "source": [
    "print(f\"Training size: {len(X_train)}\")\n",
    "print(f\"Validation size: {len(X_val)}\")\n",
    "print(f\"Test size: {len(X_test)}\")"
   ]
  },
  {
   "cell_type": "code",
   "execution_count": 199,
   "metadata": {},
   "outputs": [],
   "source": [
    "X_train = X_train.astype(str)  \n",
    "X_train = np.char.replace(X_train, \"\\\\\", \"/\")  \n",
    "X_val = X_val.astype(str)  \n",
    "X_val = np.char.replace(X_val, \"\\\\\", \"/\")  \n",
    "X_test = X_test.astype(str)  \n",
    "X_test = np.char.replace(X_test, \"\\\\\", \"/\") "
   ]
  },
  {
   "cell_type": "code",
   "execution_count": 200,
   "metadata": {},
   "outputs": [
    {
     "name": "stdout",
     "output_type": "stream",
     "text": [
      "1530\n"
     ]
    }
   ],
   "source": [
    "print(len(X_val))"
   ]
  },
  {
   "cell_type": "code",
   "execution_count": 201,
   "metadata": {},
   "outputs": [],
   "source": [
    "BATCH_SIZE = 32\n",
    "EPOCH = 15\n",
    "LABEL_MODE = 'categorical'\n",
    "NUM_CLASSES = 17"
   ]
  },
  {
   "cell_type": "markdown",
   "metadata": {},
   "source": [
    "# Image Preprocessing"
   ]
  },
  {
   "cell_type": "code",
   "execution_count": 456,
   "metadata": {},
   "outputs": [],
   "source": [
    "# def ImagePreprocess1(image):\n",
    "    \n",
    "#     image = cv2.imread(image) \n",
    "#     img_rgb = cv2.cvtColor(image, cv2.COLOR_BGR2RGB)  # Convert from BGR to RGB\n",
    "#     img_resize = cv2.resize(img_rgb, (300, 300))  # Resize to 300x300\n",
    "\n",
    "#     kernel = np.array([[0, -1, 0], [-1, 5, -1], [0, -1, 0]])  # Sharpening kernel\n",
    "#     sharpened_image = cv2.filter2D(img_resize, -1, kernel)  # Apply sharpening filter\n",
    "    \n",
    "#     # Convert back to TensorFlow tensor\n",
    "#     sharpened_image = tf.convert_to_tensor(sharpened_image, dtype=tf.float32)\n",
    "\n",
    "#     return sharpened_image\n",
    "\n",
    "# def ImagePreprocess1(image):\n",
    "#     # Menggunakan TensorFlow untuk menggantikan OpenCV\n",
    "#     img_rgb = tf.image.convert_image_dtype(image, dtype=tf.float32)  # Convert image to float32\n",
    "#     img_resize = tf.image.resize(img_rgb, (300, 300))  # Resize to 300x300\n",
    "    \n",
    "#     # Membuat filter penajaman (sharpening filter) menggunakan TensorFlow\n",
    "#     kernel = np.array([[0, -1, 0], [-1, 5, -1], [0, -1, 0]])  # Sharpening kernel\n",
    "#     kernel = tf.convert_to_tensor(kernel, dtype=tf.float32)\n",
    "#     sharpened_image = tf.nn.conv2d(tf.expand_dims(img_resize, axis=0), kernel[None, None, :, :], strides=[1, 1, 1, 1], padding=\"SAME\")\n",
    "#     sharpened_image = tf.squeeze(sharpened_image, axis=0)\n",
    "    \n",
    "#     return sharpened_image\n",
    "\n",
    "data_augmentation = tf.keras.Sequential([\n",
    "    tf.keras.layers.RandomFlip(\"horizontal\"),\n",
    "    tf.keras.layers.RandomRotation(0.2, fill_mode='nearest'),\n",
    "    tf.keras.layers.RandomTranslation(0.2, 0.2, fill_mode='nearest'),\n",
    "    tf.keras.layers.RandomZoom(0.2, fill_mode='nearest')\n",
    "])\n",
    "\n",
    "def preprocess_image_train(image_path, label):\n",
    "    image = tf.io.read_file(image_path)\n",
    "    image = tf.image.decode_jpeg(image, channels=3)\n",
    "    image = tf.image.resize(image, [300, 300])  \n",
    "    image = image / 255.0  \n",
    "    image = data_augmentation(image)\n",
    "    return image, label  \n",
    "\n",
    "def preprocess_image_val(image_path, label):\n",
    "    image = tf.io.read_file(image_path)\n",
    "    image = tf.image.decode_jpeg(image, channels=3)\n",
    "    image = tf.image.resize(image, [300, 300])  \n",
    "    image = image / 255.0  \n",
    "    return image, label  "
   ]
  },
  {
   "cell_type": "code",
   "execution_count": 420,
   "metadata": {},
   "outputs": [
    {
     "ename": "AttributeError",
     "evalue": "image dtype must be either floating point or integer",
     "output_type": "error",
     "traceback": [
      "\u001b[1;31m---------------------------------------------------------------------------\u001b[0m",
      "\u001b[1;31mAttributeError\u001b[0m                            Traceback (most recent call last)",
      "Cell \u001b[1;32mIn[420], line 1\u001b[0m\n\u001b[1;32m----> 1\u001b[0m preprocessed_img_train \u001b[38;5;241m=\u001b[39m [ImagePreprocess1(path) \u001b[38;5;28;01mfor\u001b[39;00m path \u001b[38;5;129;01min\u001b[39;00m X_train]\n\u001b[0;32m      2\u001b[0m X_train_preprocessed \u001b[38;5;241m=\u001b[39m np\u001b[38;5;241m.\u001b[39marray(preprocessed_img_train, dtype\u001b[38;5;241m=\u001b[39mnp\u001b[38;5;241m.\u001b[39mfloat32)\n\u001b[0;32m      4\u001b[0m preprocessed_img_val \u001b[38;5;241m=\u001b[39m [ImagePreprocess1(path) \u001b[38;5;28;01mfor\u001b[39;00m path \u001b[38;5;129;01min\u001b[39;00m X_val]\n",
      "Cell \u001b[1;32mIn[420], line 1\u001b[0m, in \u001b[0;36m<listcomp>\u001b[1;34m(.0)\u001b[0m\n\u001b[1;32m----> 1\u001b[0m preprocessed_img_train \u001b[38;5;241m=\u001b[39m [\u001b[43mImagePreprocess1\u001b[49m\u001b[43m(\u001b[49m\u001b[43mpath\u001b[49m\u001b[43m)\u001b[49m \u001b[38;5;28;01mfor\u001b[39;00m path \u001b[38;5;129;01min\u001b[39;00m X_train]\n\u001b[0;32m      2\u001b[0m X_train_preprocessed \u001b[38;5;241m=\u001b[39m np\u001b[38;5;241m.\u001b[39marray(preprocessed_img_train, dtype\u001b[38;5;241m=\u001b[39mnp\u001b[38;5;241m.\u001b[39mfloat32)\n\u001b[0;32m      4\u001b[0m preprocessed_img_val \u001b[38;5;241m=\u001b[39m [ImagePreprocess1(path) \u001b[38;5;28;01mfor\u001b[39;00m path \u001b[38;5;129;01min\u001b[39;00m X_val]\n",
      "Cell \u001b[1;32mIn[419], line 17\u001b[0m, in \u001b[0;36mImagePreprocess1\u001b[1;34m(image)\u001b[0m\n\u001b[0;32m     15\u001b[0m \u001b[38;5;28;01mdef\u001b[39;00m \u001b[38;5;21mImagePreprocess1\u001b[39m(image):\n\u001b[0;32m     16\u001b[0m     \u001b[38;5;66;03m# Menggunakan TensorFlow untuk menggantikan OpenCV\u001b[39;00m\n\u001b[1;32m---> 17\u001b[0m     img_rgb \u001b[38;5;241m=\u001b[39m \u001b[43mtf\u001b[49m\u001b[38;5;241;43m.\u001b[39;49m\u001b[43mimage\u001b[49m\u001b[38;5;241;43m.\u001b[39;49m\u001b[43mconvert_image_dtype\u001b[49m\u001b[43m(\u001b[49m\u001b[43mimage\u001b[49m\u001b[43m,\u001b[49m\u001b[43m \u001b[49m\u001b[43mdtype\u001b[49m\u001b[38;5;241;43m=\u001b[39;49m\u001b[43mtf\u001b[49m\u001b[38;5;241;43m.\u001b[39;49m\u001b[43mfloat32\u001b[49m\u001b[43m)\u001b[49m  \u001b[38;5;66;03m# Convert image to float32\u001b[39;00m\n\u001b[0;32m     18\u001b[0m     img_resize \u001b[38;5;241m=\u001b[39m tf\u001b[38;5;241m.\u001b[39mimage\u001b[38;5;241m.\u001b[39mresize(img_rgb, (\u001b[38;5;241m300\u001b[39m, \u001b[38;5;241m300\u001b[39m))  \u001b[38;5;66;03m# Resize to 300x300\u001b[39;00m\n\u001b[0;32m     20\u001b[0m     \u001b[38;5;66;03m# Membuat filter penajaman (sharpening filter) menggunakan TensorFlow\u001b[39;00m\n",
      "File \u001b[1;32mc:\\Users\\fanny\\AppData\\Local\\Programs\\Python\\Python310\\lib\\site-packages\\tensorflow\\python\\util\\traceback_utils.py:153\u001b[0m, in \u001b[0;36mfilter_traceback.<locals>.error_handler\u001b[1;34m(*args, **kwargs)\u001b[0m\n\u001b[0;32m    151\u001b[0m \u001b[38;5;28;01mexcept\u001b[39;00m \u001b[38;5;167;01mException\u001b[39;00m \u001b[38;5;28;01mas\u001b[39;00m e:\n\u001b[0;32m    152\u001b[0m   filtered_tb \u001b[38;5;241m=\u001b[39m _process_traceback_frames(e\u001b[38;5;241m.\u001b[39m__traceback__)\n\u001b[1;32m--> 153\u001b[0m   \u001b[38;5;28;01mraise\u001b[39;00m e\u001b[38;5;241m.\u001b[39mwith_traceback(filtered_tb) \u001b[38;5;28;01mfrom\u001b[39;00m \u001b[38;5;28;01mNone\u001b[39;00m\n\u001b[0;32m    154\u001b[0m \u001b[38;5;28;01mfinally\u001b[39;00m:\n\u001b[0;32m    155\u001b[0m   \u001b[38;5;28;01mdel\u001b[39;00m filtered_tb\n",
      "File \u001b[1;32mc:\\Users\\fanny\\AppData\\Local\\Programs\\Python\\Python310\\lib\\site-packages\\tensorflow\\python\\ops\\image_ops_impl.py:2511\u001b[0m, in \u001b[0;36mconvert_image_dtype\u001b[1;34m(image, dtype, saturate, name)\u001b[0m\n\u001b[0;32m   2509\u001b[0m   \u001b[38;5;28;01mraise\u001b[39;00m \u001b[38;5;167;01mAttributeError\u001b[39;00m(\u001b[38;5;124m'\u001b[39m\u001b[38;5;124mdtype must be either floating point or integer\u001b[39m\u001b[38;5;124m'\u001b[39m)\n\u001b[0;32m   2510\u001b[0m \u001b[38;5;28;01mif\u001b[39;00m \u001b[38;5;129;01mnot\u001b[39;00m image\u001b[38;5;241m.\u001b[39mdtype\u001b[38;5;241m.\u001b[39mis_floating \u001b[38;5;129;01mand\u001b[39;00m \u001b[38;5;129;01mnot\u001b[39;00m image\u001b[38;5;241m.\u001b[39mdtype\u001b[38;5;241m.\u001b[39mis_integer:\n\u001b[1;32m-> 2511\u001b[0m   \u001b[38;5;28;01mraise\u001b[39;00m \u001b[38;5;167;01mAttributeError\u001b[39;00m(\u001b[38;5;124m'\u001b[39m\u001b[38;5;124mimage dtype must be either floating point or integer\u001b[39m\u001b[38;5;124m'\u001b[39m)\n\u001b[0;32m   2512\u001b[0m \u001b[38;5;28;01mif\u001b[39;00m dtype \u001b[38;5;241m==\u001b[39m image\u001b[38;5;241m.\u001b[39mdtype:\n\u001b[0;32m   2513\u001b[0m   \u001b[38;5;28;01mreturn\u001b[39;00m array_ops\u001b[38;5;241m.\u001b[39midentity(image, name\u001b[38;5;241m=\u001b[39mname)\n",
      "\u001b[1;31mAttributeError\u001b[0m: image dtype must be either floating point or integer"
     ]
    }
   ],
   "source": [
    "preprocessed_img_train = [ImagePreprocess1(path) for path in X_train]\n",
    "X_train_preprocessed = np.array(preprocessed_img_train, dtype=np.float32)\n",
    "\n",
    "preprocessed_img_val = [ImagePreprocess1(path) for path in X_val]\n",
    "X_val_preprocessed = np.array(preprocessed_img_val, dtype=np.float32)\n",
    "\n",
    "preprocessed_img_test = [ImagePreprocess1(path) for path in X_test]\n",
    "X_test_preprocessed = np.array(preprocessed_img_test, dtype=np.float32)"
   ]
  },
  {
   "cell_type": "code",
   "execution_count": 457,
   "metadata": {},
   "outputs": [],
   "source": [
    "def changeLabel(name):\n",
    "    if name == \"ayam\":\n",
    "        return 0\n",
    "    elif name == \"brokoli\":\n",
    "        return 1\n",
    "    elif name == \"ikan\":\n",
    "        return 2\n",
    "    elif name == \"kambing\":\n",
    "        return 3\n",
    "    elif name == \"kembang kol\":\n",
    "        return 4\n",
    "    elif name == \"kentang\":\n",
    "        return 5\n",
    "    elif name == \"kol\":\n",
    "        return 6\n",
    "    elif name == \"labu\":\n",
    "        return 7\n",
    "    elif name == \"mentimun\":\n",
    "        return 8\n",
    "    elif name == \"paprika\":\n",
    "        return 9\n",
    "    elif name == \"sapi\":\n",
    "        return 10\n",
    "    elif name == \"tahu\":\n",
    "        return 11\n",
    "    elif name == \"telur\":\n",
    "        return 12\n",
    "    elif name == \"tempe\":\n",
    "        return 13\n",
    "    elif name == \"tomat\":\n",
    "        return 14\n",
    "    elif name == \"udang\":\n",
    "        return 15\n",
    "    elif name == \"wortel\":\n",
    "        return 16\n"
   ]
  },
  {
   "cell_type": "code",
   "execution_count": 458,
   "metadata": {},
   "outputs": [],
   "source": [
    "num_labels = to_categorical(np.array([changeLabel(i) for i in y_train], dtype=np.float32), num_classes=17)\n",
    "val_labels = to_categorical(np.array([changeLabel(j) for j in y_val], dtype=np.float32), num_classes=17)\n",
    "test_labels = to_categorical(np.array([changeLabel(k) for k in y_test], dtype=np.float32), num_classes=17)"
   ]
  },
  {
   "cell_type": "code",
   "execution_count": 459,
   "metadata": {},
   "outputs": [
    {
     "name": "stdout",
     "output_type": "stream",
     "text": [
      "['dataset/tomat/tomat543.png' 'dataset/kembang kol/kembangkol348.png'\n",
      " 'dataset/ikan/ikan421.jpg' ... 'dataset/paprika/paprika546.png'\n",
      " 'dataset/ikan/ikan4521.png' 'dataset/sapi/sapi21.jpg']\n"
     ]
    }
   ],
   "source": [
    "print(X_train)"
   ]
  },
  {
   "cell_type": "code",
   "execution_count": 460,
   "metadata": {},
   "outputs": [],
   "source": [
    "train_dataset = tf.data.Dataset.from_tensor_slices((X_train, num_labels))  \n",
    "train_dataset = train_dataset.map(lambda x, y: preprocess_image_train(x, y), num_parallel_calls=tf.data.AUTOTUNE)  \n",
    "train_dataset = train_dataset.shuffle(buffer_size=1000).batch(BATCH_SIZE)\n",
    "\n",
    "val_dataset = tf.data.Dataset.from_tensor_slices((X_val, val_labels))  \n",
    "val_dataset = val_dataset.map(lambda x, y: preprocess_image_val(x, y), num_parallel_calls=tf.data.AUTOTUNE)  \n",
    "val_dataset = val_dataset.batch(BATCH_SIZE)\n",
    "\n",
    "test_dataset = tf.data.Dataset.from_tensor_slices((X_test, test_labels))\n",
    "test_dataset = test_dataset.map(lambda x, y: preprocess_image_val(x, y), num_parallel_calls=tf.data.AUTOTUNE)\n",
    "test_dataset = test_dataset.batch(BATCH_SIZE)\n"
   ]
  },
  {
   "cell_type": "code",
   "execution_count": 461,
   "metadata": {},
   "outputs": [
    {
     "name": "stdout",
     "output_type": "stream",
     "text": [
      "<_BatchDataset element_spec=(TensorSpec(shape=(None, 300, 300, 3), dtype=tf.float32, name=None), TensorSpec(shape=(None, 17), dtype=tf.float32, name=None))>\n"
     ]
    }
   ],
   "source": [
    "print(test_dataset)\n",
    "# print(val_labels)\n",
    "# print(test_labels)"
   ]
  },
  {
   "cell_type": "code",
   "execution_count": 462,
   "metadata": {},
   "outputs": [],
   "source": [
    "model = Sequential([\n",
    "      tf.keras.Input(shape=(300,300,3)),\n",
    "      Conv2D(32, (3,3), activation='relu'),\n",
    "      MaxPooling2D(2, 2),\n",
    "      Conv2D(64, (3,3), activation='relu'),\n",
    "      MaxPooling2D(2,2),\n",
    "      Conv2D(128, (3,3), activation='relu'),\n",
    "      BatchNormalization(),\n",
    "      MaxPooling2D(2,2),\n",
    "      Dropout(0.2),\n",
    "      Flatten(),\n",
    "      Dense(128, activation='relu'),\n",
    "      Dense(17, activation='softmax')\n",
    "      ])"
   ]
  },
  {
   "cell_type": "code",
   "execution_count": 463,
   "metadata": {},
   "outputs": [
    {
     "name": "stdout",
     "output_type": "stream",
     "text": [
      "Model: \"sequential_106\"\n",
      "_________________________________________________________________\n",
      " Layer (type)                Output Shape              Param #   \n",
      "=================================================================\n",
      " conv2d_304 (Conv2D)         (None, 298, 298, 32)      896       \n",
      "                                                                 \n",
      " max_pooling2d_304 (MaxPool  (None, 149, 149, 32)      0         \n",
      " ing2D)                                                          \n",
      "                                                                 \n",
      " conv2d_305 (Conv2D)         (None, 147, 147, 64)      18496     \n",
      "                                                                 \n",
      " max_pooling2d_305 (MaxPool  (None, 73, 73, 64)        0         \n",
      " ing2D)                                                          \n",
      "                                                                 \n",
      " conv2d_306 (Conv2D)         (None, 71, 71, 128)       73856     \n",
      "                                                                 \n",
      " batch_normalization_74 (Ba  (None, 71, 71, 128)       512       \n",
      " tchNormalization)                                               \n",
      "                                                                 \n",
      " max_pooling2d_306 (MaxPool  (None, 35, 35, 128)       0         \n",
      " ing2D)                                                          \n",
      "                                                                 \n",
      " dropout_32 (Dropout)        (None, 35, 35, 128)       0         \n",
      "                                                                 \n",
      " flatten_79 (Flatten)        (None, 156800)            0         \n",
      "                                                                 \n",
      " dense_158 (Dense)           (None, 128)               20070528  \n",
      "                                                                 \n",
      " dense_159 (Dense)           (None, 17)                2193      \n",
      "                                                                 \n",
      "=================================================================\n",
      "Total params: 20166481 (76.93 MB)\n",
      "Trainable params: 20166225 (76.93 MB)\n",
      "Non-trainable params: 256 (1.00 KB)\n",
      "_________________________________________________________________\n"
     ]
    }
   ],
   "source": [
    "model.summary()"
   ]
  },
  {
   "cell_type": "code",
   "execution_count": 464,
   "metadata": {},
   "outputs": [],
   "source": [
    "model.compile(tf.keras.optimizers.Adam(learning_rate=0.0001),\n",
    "              loss='categorical_crossentropy', \n",
    "              metrics=['accuracy'])"
   ]
  },
  {
   "cell_type": "code",
   "execution_count": 465,
   "metadata": {},
   "outputs": [
    {
     "name": "stdout",
     "output_type": "stream",
     "text": [
      "Epoch 1/15\n",
      "224/224 [==============================] - 338s 1s/step - loss: 1.7019 - accuracy: 0.4731 - val_loss: 2.3708 - val_accuracy: 0.4908\n",
      "Epoch 2/15\n",
      "224/224 [==============================] - 336s 1s/step - loss: 1.1857 - accuracy: 0.6043 - val_loss: 1.4658 - val_accuracy: 0.6752\n",
      "Epoch 3/15\n",
      "224/224 [==============================] - 341s 2s/step - loss: 1.0258 - accuracy: 0.6542 - val_loss: 1.2839 - val_accuracy: 0.5484\n",
      "Epoch 4/15\n",
      "224/224 [==============================] - 335s 1s/step - loss: 0.9324 - accuracy: 0.6924 - val_loss: 0.9495 - val_accuracy: 0.6889\n",
      "Epoch 5/15\n",
      "224/224 [==============================] - 331s 1s/step - loss: 0.8482 - accuracy: 0.7134 - val_loss: 0.9579 - val_accuracy: 0.6824\n",
      "Epoch 6/15\n",
      "224/224 [==============================] - 324s 1s/step - loss: 0.7812 - accuracy: 0.7308 - val_loss: 0.8483 - val_accuracy: 0.7242\n",
      "Epoch 7/15\n",
      "224/224 [==============================] - 327s 1s/step - loss: 0.7367 - accuracy: 0.7475 - val_loss: 0.9380 - val_accuracy: 0.7059\n",
      "Epoch 8/15\n",
      "224/224 [==============================] - 327s 1s/step - loss: 0.7089 - accuracy: 0.7630 - val_loss: 0.8179 - val_accuracy: 0.7373\n",
      "Epoch 9/15\n",
      "224/224 [==============================] - 346s 2s/step - loss: 0.6875 - accuracy: 0.7676 - val_loss: 0.7150 - val_accuracy: 0.7699\n",
      "Epoch 10/15\n",
      "224/224 [==============================] - 339s 1s/step - loss: 0.6602 - accuracy: 0.7766 - val_loss: 0.9532 - val_accuracy: 0.6987\n",
      "Epoch 11/15\n",
      "224/224 [==============================] - 344s 2s/step - loss: 0.6263 - accuracy: 0.7782 - val_loss: 0.8138 - val_accuracy: 0.7353\n",
      "Epoch 12/15\n",
      "224/224 [==============================] - 331s 1s/step - loss: 0.6130 - accuracy: 0.7888 - val_loss: 0.6523 - val_accuracy: 0.7791\n",
      "Epoch 13/15\n",
      "224/224 [==============================] - 297s 1s/step - loss: 0.5786 - accuracy: 0.8022 - val_loss: 0.6881 - val_accuracy: 0.7817\n",
      "Epoch 14/15\n",
      "224/224 [==============================] - 289s 1s/step - loss: 0.5842 - accuracy: 0.8021 - val_loss: 0.9112 - val_accuracy: 0.7242\n",
      "Epoch 15/15\n",
      "224/224 [==============================] - 308s 1s/step - loss: 0.5572 - accuracy: 0.8111 - val_loss: 0.6661 - val_accuracy: 0.7837\n"
     ]
    }
   ],
   "source": [
    "early_stopping = EarlyStopping(monitor='val_accuracy', patience=5, restore_best_weights=True)\n",
    "history = model.fit(train_dataset, epochs=15, validation_data=val_dataset, callbacks=[early_stopping])"
   ]
  },
  {
   "cell_type": "code",
   "execution_count": 466,
   "metadata": {},
   "outputs": [
    {
     "data": {
      "image/png": "[encoded data removed]",
      "text/plain": [
       "<Figure size 1000x500 with 2 Axes>"
      ]
     },
     "metadata": {},
     "output_type": "display_data"
    }
   ],
   "source": [
    "acc = history.history['accuracy']\n",
    "val_acc = history.history['val_accuracy']\n",
    "loss = history.history['loss']\n",
    "val_loss = history.history['val_loss']\n",
    "\n",
    "epochs = range(len(acc))\n",
    "\n",
    "fig, ax = plt.subplots(1, 2, figsize=(10, 5))\n",
    "fig.suptitle('Training and validation accuracy')\n",
    "\n",
    "for i, (data, label) in enumerate(zip([(acc, val_acc), (loss, val_loss)], [\"Accuracy\", \"Loss\"])):\n",
    "    ax[i].plot(epochs, data[0], 'r', label=\"Training \" + label)\n",
    "    ax[i].plot(epochs, data[1], 'b', label=\"Validation \" + label)\n",
    "    ax[i].legend()\n",
    "    ax[i].set_xlabel('epochs')\n",
    "\n",
    "plt.show()"
   ]
  },
  {
   "cell_type": "code",
   "execution_count": null,
   "metadata": {},
   "outputs": [],
   "source": [
    "from sklearn.metrics import confusion_matrix, ConfusionMatrixDisplay\n",
    "\n",
    "y_pred = model.predict(train_dataset)\n",
    "y_pred_labels = np.argmax(y_pred, axis=1)\n",
    "\n",
    "cm = confusion_matrix(num_labels, y_pred_labels)"
   ]
  }
 ],
 "metadata": {
  "kernelspec": {
   "display_name": "Python 3",
   "language": "python",
   "name": "python3"
  },
  "language_info": {
   "codemirror_mode": {
    "name": "ipython",
    "version": 3
   },
   "file_extension": ".py",
   "mimetype": "text/x-python",
   "name": "python",
   "nbconvert_exporter": "python",
   "pygments_lexer": "ipython3",
   "version": "3.10.11"
  }
 },
 "nbformat": 4,
 "nbformat_minor": 2
}
